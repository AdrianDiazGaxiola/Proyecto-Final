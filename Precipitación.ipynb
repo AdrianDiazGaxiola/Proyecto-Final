{
  "nbformat": 4,
  "nbformat_minor": 0,
  "metadata": {
    "colab": {
      "name": "Precipitación.ipynb",
      "provenance": [],
      "authorship_tag": "ABX9TyO7RyWjOfsx2Wkg5gk9N8OY",
      "include_colab_link": true
    },
    "kernelspec": {
      "name": "python3",
      "display_name": "Python 3"
    },
    "language_info": {
      "name": "python"
    }
  },
  "cells": [
    {
      "cell_type": "markdown",
      "metadata": {
        "id": "view-in-github",
        "colab_type": "text"
      },
      "source": [
        "<a href=\"https://colab.research.google.com/github/AdrianDiazGaxiola/Proyecto-Final/blob/main/Precipitaci%C3%B3n.ipynb\" target=\"_parent\"><img src=\"https://colab.research.google.com/assets/colab-badge.svg\" alt=\"Open In Colab\"/></a>"
      ]
    },
    {
      "cell_type": "markdown",
      "metadata": {
        "id": "dVcqvdFksaYM"
      },
      "source": [
        "Se importan las librerías a utilizar"
      ]
    },
    {
      "cell_type": "code",
      "metadata": {
        "id": "3VNRerIcsYZ5"
      },
      "source": [
        "import seaborn as sns\n",
        "import matplotlib.pyplot as plt\n",
        "import pandas as pd\n",
        "import numpy as np\n",
        "from sklearn.linear_model import LinearRegression"
      ],
      "execution_count": 2,
      "outputs": []
    },
    {
      "cell_type": "markdown",
      "metadata": {
        "id": "SCaemmSTsecT"
      },
      "source": [
        "Se lee el archivo con los datos de registros de Precipitación en México y el archivo con los datos de las temperaturas a nivel nacional"
      ]
    },
    {
      "cell_type": "code",
      "metadata": {
        "id": "ikhYmiSvsIig"
      },
      "source": [
        "url = \"https://github.com/AdrianDiazGaxiola/Proyecto-Final/raw/main/Data/Precipitaci%C3%B3n.csv\"\n",
        "precipitacion = pd.read_csv(url, encoding = 'ISO-8859-1')\n",
        "\n",
        "url = \"https://github.com/AdrianDiazGaxiola/Proyecto-Final/raw/main/Data/Temperaturas%20Completo%20por%20Entidad.csv\"\n",
        "temperaturas = pd.read_csv(url) "
      ],
      "execution_count": 57,
      "outputs": []
    },
    {
      "cell_type": "markdown",
      "metadata": {
        "id": "yDLoaiERuI1A"
      },
      "source": [
        "Se combinan en un dataframe los datos de temperaturas con los datos de precipitación"
      ]
    },
    {
      "cell_type": "code",
      "metadata": {
        "colab": {
          "base_uri": "https://localhost:8080/"
        },
        "id": "7TY2riLkuIQ0",
        "outputId": "78323275-8c0c-40b0-9ff9-fc542d799f11"
      },
      "source": [
        "#Como los registros de precipitación son anuales, se utilizarán los registros de temperaturas anuales para futuro análisis.\n",
        "df = temperaturas.loc[temperaturas['MES']=='ANUAL']\n",
        "\n",
        "#Se guardan en un dataframe los datos de temperaturas de los años de los cuales se tienen registros se tienen registros de precipitación.\n",
        "df1 = df.loc[df['ANIO']==2000]\n",
        "df2 = df.loc[df['ANIO']>=2005]\n",
        "df = df1.append(df2)\n",
        "df = df.reset_index(drop=True)\n",
        "\n",
        "#Se guardan en una lista los años de los cuales se tienen registros de precipitación en México.\n",
        "Anios = list(range(2000, 2021))\n",
        "del Anios[1:5]\n",
        "\n",
        "#Se guardan las abreviaturas de los estados en una lista\n",
        "estados_abv = ['AGU', 'BCN', 'BCS', 'CAM', 'CHP', 'CHH', 'CMX', 'COA', 'COL', 'DUR', 'GUA', 'GRO', 'HID', 'JAL', 'MEX', 'MIC', 'MOR', 'NAY', 'NLE', 'OAX', 'PUE', 'QUE', 'ROO', 'SLP', 'SIN', 'SON', 'TAB', 'TAM', 'TLA', 'VER', 'YUC', 'ZAC', 'NAC']\n",
        "\n",
        "#Se crea una lista para guardar en ella los datos de precipitacion para después adjuntarla al dataframe\n",
        "lluvias = []\n",
        "\n",
        "for i in Anios:\n",
        "  l = 0\n",
        "  for j in estados_abv:\n",
        "    lluvia = precipitacion.at[l, str(i)] #Se copia el valor del registro de precipitación del estado y año correspondiente\n",
        "    lluvias.append(lluvia)\n",
        "    l += 1\n",
        "\n",
        "df['Precipitacion'] = lluvias\n",
        "\n",
        "print(df.head())\n",
        "print(precipitacion.head())\n",
        "print(df.tail())\n",
        "print(precipitacion.tail())"
      ],
      "execution_count": 66,
      "outputs": [
        {
          "output_type": "stream",
          "name": "stdout",
          "text": [
            "   ANIO    MES ENTIDAD      T_Max      T_Min      T_Med Precipitacion\n",
            "0  2000  ANUAL     AGU  26.932250   8.496315  17.714283           448\n",
            "1  2000  ANUAL     BCN  26.933117  10.687024  18.810071           203\n",
            "2  2000  ANUAL     BCS  30.597415  13.695902  22.146658           176\n",
            "3  2000  ANUAL     CAM  32.666320  19.092887  25.879604         1,138\n",
            "4  2000  ANUAL     CHP  28.563013  12.150714  20.356864           316\n",
            "    Entidad federativa   2000   2005   2006  ...   2017   2018   2019   2020\n",
            "0       Aguascalientes    448    456    459  ...    473    477    477    477\n",
            "1      Baja California    203    204    202  ...    200    199    199    198\n",
            "2  Baja California Sur    176    176    178  ...    183    183    184    183\n",
            "3             Campeche  1,138  1,169  1,175  ...  1,198  1,201  1,202  1,209\n",
            "4             Coahuila    316    327    327  ...    341    342    341    340\n",
            "\n",
            "[5 rows x 18 columns]\n",
            "     ANIO    MES ENTIDAD  T_Max  T_Min  T_Med Precipitacion\n",
            "556  2020  ANUAL     TLA   23.5    7.1   15.3           711\n",
            "557  2020  ANUAL     VER   28.8   17.8   23.3         1,507\n",
            "558  2020  ANUAL     YUC   33.4   21.2   27.3         1,086\n",
            "559  2020  ANUAL     ZAC   27.2    9.4   18.3           514\n",
            "560  2020  ANUAL     NAC   30.1   14.9   22.4           779\n",
            "   Entidad federativa   2000   2005   2006  ...   2017   2018   2019   2020\n",
            "28           Tlaxcala    711    705    708  ...    716    715    713    711\n",
            "29           Veracruz  1,475  1,492  1,494  ...  1,511  1,511  1,506  1,507\n",
            "30            Yucatán  1,108  1,091  1,088  ...  1,078  1,077  1,076  1,086\n",
            "31          Zacatecas    516    518    517  ...    516    517    516    514\n",
            "32           Nacional    772    774    774  ...    781    781    780    779\n",
            "\n",
            "[5 rows x 18 columns]\n"
          ]
        }
      ]
    }
  ]
}