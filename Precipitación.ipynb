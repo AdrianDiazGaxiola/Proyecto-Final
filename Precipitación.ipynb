{
  "nbformat": 4,
  "nbformat_minor": 0,
  "metadata": {
    "colab": {
      "name": "Precipitación.ipynb",
      "provenance": [],
      "authorship_tag": "ABX9TyONgXdY2AJB+PputuQ7Y/Tm",
      "include_colab_link": true
    },
    "kernelspec": {
      "name": "python3",
      "display_name": "Python 3"
    },
    "language_info": {
      "name": "python"
    }
  },
  "cells": [
    {
      "cell_type": "markdown",
      "metadata": {
        "id": "view-in-github",
        "colab_type": "text"
      },
      "source": [
        "<a href=\"https://colab.research.google.com/github/AdrianDiazGaxiola/Proyecto-Final/blob/main/Precipitaci%C3%B3n.ipynb\" target=\"_parent\"><img src=\"https://colab.research.google.com/assets/colab-badge.svg\" alt=\"Open In Colab\"/></a>"
      ]
    },
    {
      "cell_type": "markdown",
      "metadata": {
        "id": "dVcqvdFksaYM"
      },
      "source": [
        "Se importan las librerías a utilizar"
      ]
    },
    {
      "cell_type": "code",
      "metadata": {
        "id": "3VNRerIcsYZ5"
      },
      "source": [
        "import seaborn as sns\n",
        "import matplotlib.pyplot as plt\n",
        "import pandas as pd\n",
        "import numpy as np\n",
        "from sklearn.linear_model import LinearRegression"
      ],
      "execution_count": 7,
      "outputs": []
    },
    {
      "cell_type": "markdown",
      "metadata": {
        "id": "SCaemmSTsecT"
      },
      "source": [
        "Se leen los archivo con los datos de registros de Precipitación en México y se guardan en un diccionario. También se lee el archivo con los datos de las temperaturas a nivel nacional"
      ]
    },
    {
      "cell_type": "code",
      "metadata": {
        "id": "ikhYmiSvsIig"
      },
      "source": [
        "Prec = {}\n",
        "\n",
        "for i in range(1985, 2021):\n",
        "  url = \"https://github.com/AdrianDiazGaxiola/Proyecto-Final/blob/main/Data/Precipitacion/%dPrecip.xls?raw=true\" % i\n",
        "  if (i==2020):\n",
        "    url = \"https://github.com/AdrianDiazGaxiola/Proyecto-Final/blob/main/Data/Precipitacion/2020Precip.xlsx?raw=true\"\n",
        "  Prec[i] = pd.read_excel(url, header=1)\n",
        "\n",
        "url = \"https://github.com/AdrianDiazGaxiola/Proyecto-Final/raw/main/Data/Temperaturas%20Completo%20por%20Entidad.csv\"\n",
        "temperaturas = pd.read_csv(url) "
      ],
      "execution_count": 11,
      "outputs": []
    },
    {
      "cell_type": "markdown",
      "metadata": {
        "id": "SHK2qAP6Psip"
      },
      "source": [
        "Se crea un dataframe por estado para guardar los datos de las precipitaciones de cada uno de estos"
      ]
    },
    {
      "cell_type": "code",
      "metadata": {
        "id": "SNZVC94NKEKX"
      },
      "source": [
        "#Se guardan las abreviaturas de los estados en una lista\n",
        "estados_abv = ['AGU', 'BCN', 'BCS', 'CAM', 'CHP', 'CHH', 'CMX', 'COA', 'COL', 'DUR', 'GUA', 'GRO', 'HID', 'JAL', 'MEX', 'MIC', 'MOR', 'NAY', 'NLE', 'OAX', 'PUE', 'QUE', 'ROO', 'SLP', 'SIN', 'SON', 'TAB', 'TAM', 'TLA', 'VER', 'YUC', 'ZAC', 'NAC']\n",
        "\n",
        "#Se guardan en una lista los nombres de los estados tal y como vienen en el archivo inicial.\n",
        "df = pd.DataFrame(Prec[1985])\n",
        "estados_comp = df['ENTIDAD'].tolist()\n",
        "\n",
        "anios = range(1985, 2021) #Lista con los años de los dataframe\n",
        "prec_por_entidad = {}\n",
        "\n",
        "#Ciclo para guardar los datos de cada estado.\n",
        "for i in range(33):\n",
        "  df_prec_entidad = pd.DataFrame(columns=['ENTIDAD', 'ENE', 'FEB', 'MAR', 'ABR', 'MAY', 'JUN', 'JUL', 'AGO', 'SEP', 'OCT', 'NOV', 'DIC', 'ANUAL']) #Dataframe en el que se guardará los datos de un solo estado.\n",
        "  \n",
        "  for j in range (1985, 2021):\n",
        "    l = j - 1985 #Variable para guardar el año\n",
        "   \n",
        "    df = pd.DataFrame (Prec[j])    \n",
        "   \n",
        "    df_prec_entidad = df_prec_entidad.append(df.loc[i], ignore_index=True) #Se copia la fila con los datos del estado correspondiente al nuevo dataframe\n",
        "   \n",
        "    df_prec_entidad.at[l, 'ENTIDAD'] = anios[l] #Se guarda el número del año correspondiente en el dataframe\n",
        "\n",
        "  df_prec_entidad.rename(columns = {'ENTIDAD':'ANIO'}, inplace = True)\n",
        "\n",
        "  prec_por_entidad[estados_abv[i]] = df_prec_entidad #Se guarda en el diccionario de las precipitaciones por entidad el dataframe creado en el ciclo, identificado por la abreviatura de la entidad\n"
      ],
      "execution_count": 12,
      "outputs": []
    },
    {
      "cell_type": "markdown",
      "metadata": {
        "id": "ZNT-boIMLzxH"
      },
      "source": [
        "Ejemplos de los dataframes por estado creados"
      ]
    },
    {
      "cell_type": "code",
      "metadata": {
        "id": "YXV7tDwwLI2J"
      },
      "source": [
        "print (prec_por_entidad['SIN'].head())\n",
        "print (prec_por_entidad['NAC'].head())"
      ],
      "execution_count": null,
      "outputs": []
    },
    {
      "cell_type": "markdown",
      "metadata": {
        "id": "j1LUsvV3W6PJ"
      },
      "source": [
        "Se crea un dataframe con todos los datos de precipitación"
      ]
    },
    {
      "cell_type": "code",
      "metadata": {
        "colab": {
          "base_uri": "https://localhost:8080/"
        },
        "id": "FNjw91aOQJvh",
        "outputId": "34c9cd3b-7717-4339-a917-90c3b28c97ed"
      },
      "source": [
        "df_completo = pd.DataFrame(columns=[\"ANIO\", \"MES\", \"ENTIDAD\", \"Precipitacion Media\"])\n",
        "\n",
        "#Se guardan las abreviaturas de los estados en una lista\n",
        "estados_abv = ['AGU', 'BCN', 'BCS', 'CAM', 'CHP', 'CHH', 'CMX', 'COA', 'COL', 'DUR', 'GUA', 'GRO', 'HID', 'JAL', 'MEX', 'MIC', 'MOR', 'NAY', 'NLE', 'OAX', 'PUE', 'QUE', 'ROO', 'SLP', 'SIN', 'SON', 'TAB', 'TAM', 'TLA', 'VER', 'YUC', 'ZAC', 'NAC']\n",
        "\n",
        "#Se guardan las abreviaturas de los meses en una lista\n",
        "df = Prec[1985]\n",
        "meses_abv = df.columns.values.tolist()\n",
        "meses_abv.remove(\"ENTIDAD\")\n",
        "\n",
        "for i in range(1985, 2021):\n",
        "  df = Prec[i]\n",
        "\n",
        "  for j in meses_abv:\n",
        "    m = 0 #Variable para acceder a las filas de los dataframes (una por entidad)\n",
        "    for k in estados_abv:\n",
        " \n",
        "      #Se copia la precipitación media correspondiente a la entidad, mes y año, donde j es el mes y m la fila de la entidad \n",
        "      lluvia = df.at[m, j]\n",
        "\n",
        "      #Se adjuntan al dataframe con los datos completos el año, mes, entidad y precipitación media correspondientes\n",
        "      df_completo = df_completo.append({\"ANIO\": i, \"MES\": j, \"ENTIDAD\": k, \"Precipitacion Media\": lluvia}, ignore_index=True)\n",
        "\n",
        "      m += 1\n",
        "     \n",
        "print (df_completo)"
      ],
      "execution_count": 14,
      "outputs": [
        {
          "output_type": "stream",
          "name": "stdout",
          "text": [
            "       ANIO    MES ENTIDAD  Precipitacion Media\n",
            "0      1985    ENE     AGU             4.914729\n",
            "1      1985    ENE     BCN            12.150562\n",
            "2      1985    ENE     BCS            30.304723\n",
            "3      1985    ENE     CAM            20.943153\n",
            "4      1985    ENE     CHP            40.714546\n",
            "...     ...    ...     ...                  ...\n",
            "15439  2020  ANUAL     TLA           538.400000\n",
            "15440  2020  ANUAL     VER          1548.600000\n",
            "15441  2020  ANUAL     YUC          1802.200000\n",
            "15442  2020  ANUAL     ZAC           406.300000\n",
            "15443  2020  ANUAL     NAC           722.500000\n",
            "\n",
            "[15444 rows x 4 columns]\n"
          ]
        }
      ]
    },
    {
      "cell_type": "markdown",
      "metadata": {
        "id": "yDLoaiERuI1A"
      },
      "source": [
        "Se combinan en un dataframe los datos de temperaturas con los datos de precipitación"
      ]
    },
    {
      "cell_type": "code",
      "metadata": {
        "id": "7TY2riLkuIQ0"
      },
      "source": [
        "#Como los registros de precipitación son anuales, se utilizarán los registros de temperaturas anuales para futuro análisis.\n",
        "df = temperaturas.loc[temperaturas['MES']=='ANUAL']\n",
        "\n",
        "#Se guardan en un dataframe los datos de temperaturas de los años de los cuales se tienen registros se tienen registros de precipitación.\n",
        "df1 = df.loc[df['ANIO']==2000]\n",
        "df2 = df.loc[df['ANIO']>=2005]\n",
        "df = df1.append(df2)\n",
        "df = df.reset_index(drop=True)\n",
        "\n",
        "#Se guardan en una lista los años de los cuales se tienen registros de precipitación en México.\n",
        "Anios = list(range(2000, 2021))\n",
        "del Anios[1:5]\n",
        "\n",
        "#Se guardan las abreviaturas de los estados en una lista\n",
        "estados_abv = ['AGU', 'BCN', 'BCS', 'CAM', 'CHP', 'CHH', 'CMX', 'COA', 'COL', 'DUR', 'GUA', 'GRO', 'HID', 'JAL', 'MEX', 'MIC', 'MOR', 'NAY', 'NLE', 'OAX', 'PUE', 'QUE', 'ROO', 'SLP', 'SIN', 'SON', 'TAB', 'TAM', 'TLA', 'VER', 'YUC', 'ZAC', 'NAC']\n",
        "\n",
        "#Se crea una lista para guardar en ella los datos de precipitacion para después adjuntarla al dataframe\n",
        "lluvias = []\n",
        "\n",
        "for i in Anios:\n",
        "  l = 0\n",
        "  for j in estados_abv:\n",
        "    lluvia = precipitacion.at[l, str(i)] #Se copia el valor del registro de precipitación del estado y año correspondiente\n",
        "    lluvias.append(lluvia)\n",
        "    l += 1\n",
        "\n",
        "df['Precipitacion'] = lluvias\n",
        "\n",
        "print(df.head())\n",
        "print(precipitacion.head())\n",
        "print(df.tail())\n",
        "print(precipitacion.tail())"
      ],
      "execution_count": null,
      "outputs": []
    },
    {
      "cell_type": "code",
      "metadata": {
        "id": "nFChQq1g8Gey"
      },
      "source": [
        ""
      ],
      "execution_count": null,
      "outputs": []
    }
  ]
}