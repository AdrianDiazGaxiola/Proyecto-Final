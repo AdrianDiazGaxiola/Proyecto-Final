{
  "nbformat": 4,
  "nbformat_minor": 0,
  "metadata": {
    "colab": {
      "name": "Precipitación.ipynb",
      "provenance": [],
      "collapsed_sections": [],
      "authorship_tag": "ABX9TyOX7P+SN7WWzlfwqhbXYJLT",
      "include_colab_link": true
    },
    "kernelspec": {
      "name": "python3",
      "display_name": "Python 3"
    },
    "language_info": {
      "name": "python"
    }
  },
  "cells": [
    {
      "cell_type": "markdown",
      "metadata": {
        "id": "view-in-github",
        "colab_type": "text"
      },
      "source": [
        "<a href=\"https://colab.research.google.com/github/AdrianDiazGaxiola/Proyecto-Final/blob/main/Precipitaci%C3%B3n.ipynb\" target=\"_parent\"><img src=\"https://colab.research.google.com/assets/colab-badge.svg\" alt=\"Open In Colab\"/></a>"
      ]
    },
    {
      "cell_type": "markdown",
      "metadata": {
        "id": "dVcqvdFksaYM"
      },
      "source": [
        "Se importan las librerías a utilizar"
      ]
    },
    {
      "cell_type": "code",
      "metadata": {
        "id": "3VNRerIcsYZ5"
      },
      "source": [
        "import seaborn as sns\n",
        "import matplotlib.pyplot as plt\n",
        "import pandas as pd\n",
        "import numpy as np\n",
        "from sklearn.linear_model import LinearRegression \n",
        "from sklearn.preprocessing import MinMaxScaler"
      ],
      "execution_count": 11,
      "outputs": []
    },
    {
      "cell_type": "markdown",
      "metadata": {
        "id": "SCaemmSTsecT"
      },
      "source": [
        "Se leen los archivo con los datos de registros de Precipitación en México y se guardan en un diccionario. También se lee el archivo con los datos de las temperaturas a nivel nacional"
      ]
    },
    {
      "cell_type": "code",
      "metadata": {
        "id": "ikhYmiSvsIig"
      },
      "source": [
        "Prec = {}\n",
        "\n",
        "for i in range(1985, 2021):\n",
        "  url = \"https://github.com/AdrianDiazGaxiola/Proyecto-Final/blob/main/Data/Precipitacion/%dPrecip.xls?raw=true\" % i\n",
        "  if (i==2020):\n",
        "    url = \"https://github.com/AdrianDiazGaxiola/Proyecto-Final/blob/main/Data/Precipitacion/2020Precip.xlsx?raw=true\"\n",
        "  Prec[i] = pd.read_excel(url, header=1)\n",
        "\n",
        "url = \"https://github.com/AdrianDiazGaxiola/Proyecto-Final/raw/main/Data/Temperaturas%20Completo%20por%20Entidad.csv\"\n",
        "temperaturas = pd.read_csv(url) "
      ],
      "execution_count": 2,
      "outputs": []
    },
    {
      "cell_type": "markdown",
      "metadata": {
        "id": "SHK2qAP6Psip"
      },
      "source": [
        "Se crea un dataframe por estado para guardar los datos de las precipitaciones de cada uno de estos"
      ]
    },
    {
      "cell_type": "code",
      "metadata": {
        "id": "SNZVC94NKEKX"
      },
      "source": [
        "#Se guardan las abreviaturas de los estados en una lista\n",
        "estados_abv = ['AGU', 'BCN', 'BCS', 'CAM', 'CHP', 'CHH', 'CMX', 'COA', 'COL', 'DUR', 'GUA', 'GRO', 'HID', 'JAL', 'MEX', 'MIC', 'MOR', 'NAY', 'NLE', 'OAX', 'PUE', 'QUE', 'ROO', 'SLP', 'SIN', 'SON', 'TAB', 'TAM', 'TLA', 'VER', 'YUC', 'ZAC', 'NAC']\n",
        "\n",
        "#Se guardan en una lista los nombres de los estados tal y como vienen en el archivo inicial.\n",
        "df = pd.DataFrame(Prec[1985])\n",
        "estados_comp = df['ENTIDAD'].tolist()\n",
        "\n",
        "anios = range(1985, 2021) #Lista con los años de los dataframe\n",
        "prec_por_entidad = {}\n",
        "\n",
        "#Ciclo para guardar los datos de cada estado.\n",
        "for i in range(33):\n",
        "  df_prec_entidad = pd.DataFrame(columns=['ENTIDAD', 'ENE', 'FEB', 'MAR', 'ABR', 'MAY', 'JUN', 'JUL', 'AGO', 'SEP', 'OCT', 'NOV', 'DIC', 'ANUAL']) #Dataframe en el que se guardará los datos de un solo estado.\n",
        "  \n",
        "  for j in range (1985, 2021):\n",
        "    l = j - 1985 #Variable para guardar el año\n",
        "   \n",
        "    df = pd.DataFrame (Prec[j])    \n",
        "   \n",
        "    df_prec_entidad = df_prec_entidad.append(df.loc[i], ignore_index=True) #Se copia la fila con los datos del estado correspondiente al nuevo dataframe\n",
        "   \n",
        "    df_prec_entidad.at[l, 'ENTIDAD'] = anios[l] #Se guarda el número del año correspondiente en el dataframe\n",
        "\n",
        "  df_prec_entidad.rename(columns = {'ENTIDAD':'ANIO'}, inplace = True)\n",
        "\n",
        "  prec_por_entidad[estados_abv[i]] = df_prec_entidad #Se guarda en el diccionario de las precipitaciones por entidad el dataframe creado en el ciclo, identificado por la abreviatura de la entidad\n"
      ],
      "execution_count": 3,
      "outputs": []
    },
    {
      "cell_type": "markdown",
      "metadata": {
        "id": "ZNT-boIMLzxH"
      },
      "source": [
        "Ejemplos de los dataframes por estado creados"
      ]
    },
    {
      "cell_type": "code",
      "metadata": {
        "id": "YXV7tDwwLI2J",
        "colab": {
          "base_uri": "https://localhost:8080/"
        },
        "outputId": "d4ad7f05-ae92-41e6-f377-fbf6e62d6016"
      },
      "source": [
        "print (prec_por_entidad['SIN'].head())\n",
        "print (prec_por_entidad['NAC'].head())"
      ],
      "execution_count": 4,
      "outputs": [
        {
          "output_type": "stream",
          "name": "stdout",
          "text": [
            "   ANIO         ENE        FEB  ...        NOV        DIC       ANUAL\n",
            "0  1985  115.571741   2.408146  ...  10.298417  24.479841  792.539359\n",
            "1  1986    7.892790  21.807251  ...   6.322164  28.588047  646.298723\n",
            "2  1987   13.832147  22.053572  ...   9.760709  35.577609  519.847907\n",
            "3  1988    6.278637   2.657400  ...   7.129536  25.565632  613.807323\n",
            "4  1989   20.527490  15.374581  ...  27.021390  29.223355  628.988733\n",
            "\n",
            "[5 rows x 14 columns]\n",
            "   ANIO   ENE   FEB   MAR   ABR   MAY  ...    AGO    SEP   OCT   NOV   DIC  ANUAL\n",
            "0  1985  36.0  16.5  15.0  37.2  51.5  ...  118.8  106.1  65.5  31.9  25.4  770.6\n",
            "1  1986  15.2  14.9  10.7  26.3  57.4  ...  103.8  125.2  83.0  36.8  36.2  748.0\n",
            "2  1987  20.1  22.0  16.8  21.8  52.6  ...  113.8  104.1  32.1  28.2  23.8  689.2\n",
            "3  1988  20.2  13.2  17.7  21.7  24.8  ...  173.8  123.8  49.7  17.9  18.8  765.6\n",
            "4  1989  22.5  12.7   9.7  14.0  26.1  ...  158.9  124.1  52.4  34.6  41.1  691.8\n",
            "\n",
            "[5 rows x 14 columns]\n"
          ]
        }
      ]
    },
    {
      "cell_type": "markdown",
      "metadata": {
        "id": "j1LUsvV3W6PJ"
      },
      "source": [
        "Se crea un dataframe con todos los datos de precipitación"
      ]
    },
    {
      "cell_type": "code",
      "metadata": {
        "colab": {
          "base_uri": "https://localhost:8080/"
        },
        "id": "FNjw91aOQJvh",
        "outputId": "7169df28-2315-4e41-96ef-19d5807b78eb"
      },
      "source": [
        "df_completo = pd.DataFrame(columns=[\"ANIO\", \"MES\", \"ENTIDAD\", \"Precipitacion\"])\n",
        "\n",
        "#Se guardan las abreviaturas de los estados en una lista\n",
        "estados_abv = ['AGU', 'BCN', 'BCS', 'CAM', 'CHP', 'CHH', 'CMX', 'COA', 'COL', 'DUR', 'GUA', 'GRO', 'HID', 'JAL', 'MEX', 'MIC', 'MOR', 'NAY', 'NLE', 'OAX', 'PUE', 'QUE', 'ROO', 'SLP', 'SIN', 'SON', 'TAB', 'TAM', 'TLA', 'VER', 'YUC', 'ZAC', 'NAC']\n",
        "\n",
        "#Se guardan las abreviaturas de los meses en una lista\n",
        "df = Prec[1985]\n",
        "meses_abv = df.columns.values.tolist()\n",
        "meses_abv.remove(\"ENTIDAD\")\n",
        "\n",
        "for i in range(1985, 2021):\n",
        "  df = Prec[i]\n",
        "\n",
        "  for j in meses_abv:\n",
        "    m = 0 #Variable para acceder a las filas de los dataframes (una por entidad)\n",
        "    for k in estados_abv:\n",
        " \n",
        "      #Se copia la precipitación media correspondiente a la entidad, mes y año, donde j es el mes y m la fila de la entidad \n",
        "      lluvia = df.at[m, j]\n",
        "\n",
        "      #Se adjuntan al dataframe con los datos completos el año, mes, entidad y precipitación media correspondientes\n",
        "      df_completo = df_completo.append({\"ANIO\": i, \"MES\": j, \"ENTIDAD\": k, \"Precipitacion\": lluvia}, ignore_index=True)\n",
        "\n",
        "      m += 1\n",
        "     \n",
        "print (df_completo)"
      ],
      "execution_count": 5,
      "outputs": [
        {
          "output_type": "stream",
          "name": "stdout",
          "text": [
            "       ANIO    MES ENTIDAD  Precipitacion\n",
            "0      1985    ENE     AGU       4.914729\n",
            "1      1985    ENE     BCN      12.150562\n",
            "2      1985    ENE     BCS      30.304723\n",
            "3      1985    ENE     CAM      20.943153\n",
            "4      1985    ENE     CHP      40.714546\n",
            "...     ...    ...     ...            ...\n",
            "15439  2020  ANUAL     TLA     538.400000\n",
            "15440  2020  ANUAL     VER    1548.600000\n",
            "15441  2020  ANUAL     YUC    1802.200000\n",
            "15442  2020  ANUAL     ZAC     406.300000\n",
            "15443  2020  ANUAL     NAC     722.500000\n",
            "\n",
            "[15444 rows x 4 columns]\n"
          ]
        }
      ]
    },
    {
      "cell_type": "markdown",
      "metadata": {
        "id": "yDLoaiERuI1A"
      },
      "source": [
        "Se combinan en un dataframe los datos de temperaturas con los datos de precipitación"
      ]
    },
    {
      "cell_type": "code",
      "metadata": {
        "colab": {
          "base_uri": "https://localhost:8080/"
        },
        "id": "7TY2riLkuIQ0",
        "outputId": "8cf364f1-8871-4dc0-fd5f-ad0c1c6ca06a"
      },
      "source": [
        "#Se guarda la columna correspondiente a la precipitación media del dataframe creado en la función anterior en una lista, para adjuntarla al dataframe con las temperaturas\n",
        "lluvias = df_completo['Precipitacion'].tolist()\n",
        "\n",
        "df = temperaturas\n",
        "#Se adjunta la columna con los datos de precipitación media\n",
        "df['Precipitacion'] = lluvias\n",
        "\n",
        "print(df)"
      ],
      "execution_count": 6,
      "outputs": [
        {
          "output_type": "stream",
          "name": "stdout",
          "text": [
            "       ANIO    MES ENTIDAD      T_Max      T_Min      T_Med  Precipitacion\n",
            "0      1985    ENE     AGU  20.712779   3.221408  11.967094       4.914729\n",
            "1      1985    ENE     BCN  17.562808   4.541772  11.052290      12.150562\n",
            "2      1985    ENE     BCS  22.659097   8.745975  15.702536      30.304723\n",
            "3      1985    ENE     CAM  29.954718  15.909566  22.932142      20.943153\n",
            "4      1985    ENE     CHP  15.060987   1.816757   8.438872      40.714546\n",
            "...     ...    ...     ...        ...        ...        ...            ...\n",
            "15439  2020  ANUAL     TLA  23.500000   7.100000  15.300000     538.400000\n",
            "15440  2020  ANUAL     VER  28.800000  17.800000  23.300000    1548.600000\n",
            "15441  2020  ANUAL     YUC  33.400000  21.200000  27.300000    1802.200000\n",
            "15442  2020  ANUAL     ZAC  27.200000   9.400000  18.300000     406.300000\n",
            "15443  2020  ANUAL     NAC  30.100000  14.900000  22.400000     722.500000\n",
            "\n",
            "[15444 rows x 7 columns]\n"
          ]
        }
      ]
    },
    {
      "cell_type": "markdown",
      "metadata": {
        "id": "9IQVU419Pwlj"
      },
      "source": [
        "Se encuentra la correlación entre la temperatura media y la precipitación nacional"
      ]
    },
    {
      "cell_type": "code",
      "metadata": {
        "colab": {
          "base_uri": "https://localhost:8080/",
          "height": 344
        },
        "id": "tDGeesUjBqgg",
        "outputId": "d872b5f9-606f-4669-bc08-4619a6608991"
      },
      "source": [
        "df1 = df[['ANIO', 'MES', 'ENTIDAD', 'T_Med', 'Precipitacion']]\n",
        "\n",
        "df1 = df1[df1['MES']!='ANUAL']\n",
        "df1 = df1[df1['ENTIDAD']=='NAC']\n",
        "df1 = df1.drop(columns={'ENTIDAD'})\n",
        "df1 = df1.set_index('ANIO', drop = True)\n",
        "\n",
        "c = df1.corr()\n",
        "print(c)\n",
        "\n",
        "sns.heatmap(c)"
      ],
      "execution_count": 7,
      "outputs": [
        {
          "output_type": "stream",
          "name": "stdout",
          "text": [
            "                  T_Med  Precipitacion\n",
            "T_Med          1.000000       0.664247\n",
            "Precipitacion  0.664247       1.000000\n"
          ]
        },
        {
          "output_type": "execute_result",
          "data": {
            "text/plain": [
              "<matplotlib.axes._subplots.AxesSubplot at 0x7f2d76141f50>"
            ]
          },
          "metadata": {},
          "execution_count": 7
        },
        {
          "output_type": "display_data",
          "data": {
            "image/png": "[encoded data removed]",
            "text/plain": [
              "<Figure size 432x288 with 2 Axes>"
            ]
          },
          "metadata": {
            "needs_background": "light"
          }
        }
      ]
    },
    {
      "cell_type": "markdown",
      "metadata": {
        "id": "aUF9Au6ZP03S"
      },
      "source": [
        "Se crea un modelo de regresión lineal entre la temperatura media y la precipitación"
      ]
    },
    {
      "cell_type": "code",
      "metadata": {
        "colab": {
          "base_uri": "https://localhost:8080/",
          "height": 314
        },
        "id": "qux3T-PqMoiv",
        "outputId": "855f6489-3efe-4047-9920-67713721e8e4"
      },
      "source": [
        "X = df1[['T_Med']]\n",
        "y = df1['Precipitacion']\n",
        "regressor = LinearRegression()\n",
        "regressor.fit(X, y)\n",
        "\n",
        "plt.plot(X, y, 'bo')\n",
        "plt.plot(X, regressor.predict(X), '-k')\n",
        "plt.xlabel('Temperatura Media')\n",
        "plt.ylabel('Precipitación')\n",
        "plt.title('Precipitación vs. Temperatura Media Nacional')"
      ],
      "execution_count": 8,
      "outputs": [
        {
          "output_type": "execute_result",
          "data": {
            "text/plain": [
              "Text(0.5, 1.0, 'Precipitación vs. Temperatura Media Nacional')"
            ]
          },
          "metadata": {},
          "execution_count": 8
        },
        {
          "output_type": "display_data",
          "data": {
            "image/png": "[encoded data removed]",
            "text/plain": [
              "<Figure size 432x288 with 1 Axes>"
            ]
          },
          "metadata": {
            "needs_background": "light"
          }
        }
      ]
    },
    {
      "cell_type": "markdown",
      "metadata": {
        "id": "rumVHZY8ckbA"
      },
      "source": [
        "Modelo de regresión con el dataframe normalizado"
      ]
    },
    {
      "cell_type": "code",
      "metadata": {
        "colab": {
          "base_uri": "https://localhost:8080/",
          "height": 314
        },
        "id": "bdySfii_aVCw",
        "outputId": "0f0fb329-04c7-47e9-cca3-6c7a140c709f"
      },
      "source": [
        "scaler = MinMaxScaler()\n",
        "df2 = df1[['T_Med', 'Precipitacion']]\n",
        "\n",
        "normalized_df=(df2-df2.min())/(df2.max()-df2.min())\n",
        "\n",
        "X = normalized_df[['T_Med']]\n",
        "y = normalized_df['Precipitacion']\n",
        "regressor = LinearRegression()\n",
        "regressor.fit(X, y)\n",
        "\n",
        "plt.plot(X, y, 'co')\n",
        "plt.plot(X, regressor.predict(X), '-k')\n",
        "plt.xlabel('Temperatura Media')\n",
        "plt.ylabel('Precipitación')\n",
        "plt.title('Precipitación vs. Temperatura Media Nacional')"
      ],
      "execution_count": 27,
      "outputs": [
        {
          "output_type": "execute_result",
          "data": {
            "text/plain": [
              "Text(0.5, 1.0, 'Precipitación vs. Temperatura Media Nacional')"
            ]
          },
          "metadata": {},
          "execution_count": 27
        },
        {
          "output_type": "display_data",
          "data": {
            "image/png": "[encoded data removed]",
            "text/plain": [
              "<Figure size 432x288 with 1 Axes>"
            ]
          },
          "metadata": {
            "needs_background": "light"
          }
        }
      ]
    },
    {
      "cell_type": "markdown",
      "metadata": {
        "id": "IVrd7d5dvD_d"
      },
      "source": [
        "Se descarga el dataframe con los datos de precipitación junto a los de temperaturas"
      ]
    },
    {
      "cell_type": "code",
      "metadata": {
        "colab": {
          "base_uri": "https://localhost:8080/",
          "height": 17
        },
        "id": "N2y2tRZHvDfa",
        "outputId": "205dc28a-0edb-425b-a837-8a063447c5f4"
      },
      "source": [
        "df.to_csv(\"Temperaturas+Precipitación.csv\", encoding='utf-8', index=False)\n",
        "from google.colab import files\n",
        "files.download(\"Temperaturas+Precipitación.csv\")"
      ],
      "execution_count": null,
      "outputs": [
        {
          "output_type": "display_data",
          "data": {
            "application/javascript": [
              "\n",
              "    async function download(id, filename, size) {\n",
              "      if (!google.colab.kernel.accessAllowed) {\n",
              "        return;\n",
              "      }\n",
              "      const div = document.createElement('div');\n",
              "      const label = document.createElement('label');\n",
              "      label.textContent = `Downloading \"${filename}\": `;\n",
              "      div.appendChild(label);\n",
              "      const progress = document.createElement('progress');\n",
              "      progress.max = size;\n",
              "      div.appendChild(progress);\n",
              "      document.body.appendChild(div);\n",
              "\n",
              "      const buffers = [];\n",
              "      let downloaded = 0;\n",
              "\n",
              "      const channel = await google.colab.kernel.comms.open(id);\n",
              "      // Send a message to notify the kernel that we're ready.\n",
              "      channel.send({})\n",
              "\n",
              "      for await (const message of channel.messages) {\n",
              "        // Send a message to notify the kernel that we're ready.\n",
              "        channel.send({})\n",
              "        if (message.buffers) {\n",
              "          for (const buffer of message.buffers) {\n",
              "            buffers.push(buffer);\n",
              "            downloaded += buffer.byteLength;\n",
              "            progress.value = downloaded;\n",
              "          }\n",
              "        }\n",
              "      }\n",
              "      const blob = new Blob(buffers, {type: 'application/binary'});\n",
              "      const a = document.createElement('a');\n",
              "      a.href = window.URL.createObjectURL(blob);\n",
              "      a.download = filename;\n",
              "      div.appendChild(a);\n",
              "      a.click();\n",
              "      div.remove();\n",
              "    }\n",
              "  "
            ],
            "text/plain": [
              "<IPython.core.display.Javascript object>"
            ]
          },
          "metadata": {}
        },
        {
          "output_type": "display_data",
          "data": {
            "application/javascript": [
              "download(\"download_ba0144f7-7e75-4bf1-8a34-9c83251810d1\", \"Temperaturas+Precipitaci\\u00f3n.csv\", 1056789)"
            ],
            "text/plain": [
              "<IPython.core.display.Javascript object>"
            ]
          },
          "metadata": {}
        }
      ]
    }
  ]
}