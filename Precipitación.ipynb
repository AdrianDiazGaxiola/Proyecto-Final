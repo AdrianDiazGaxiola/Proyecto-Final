{
  "nbformat": 4,
  "nbformat_minor": 0,
  "metadata": {
    "colab": {
      "name": "Precipitación.ipynb",
      "provenance": [],
      "authorship_tag": "ABX9TyN1806hPfPL+/k1DIfaZ4Zi",
      "include_colab_link": true
    },
    "kernelspec": {
      "name": "python3",
      "display_name": "Python 3"
    },
    "language_info": {
      "name": "python"
    }
  },
  "cells": [
    {
      "cell_type": "markdown",
      "metadata": {
        "id": "view-in-github",
        "colab_type": "text"
      },
      "source": [
        "<a href=\"https://colab.research.google.com/github/AdrianDiazGaxiola/Proyecto-Final/blob/main/Precipitaci%C3%B3n.ipynb\" target=\"_parent\"><img src=\"https://colab.research.google.com/assets/colab-badge.svg\" alt=\"Open In Colab\"/></a>"
      ]
    },
    {
      "cell_type": "markdown",
      "metadata": {
        "id": "dVcqvdFksaYM"
      },
      "source": [
        "Se importan las librerías a utilizar"
      ]
    },
    {
      "cell_type": "code",
      "metadata": {
        "id": "3VNRerIcsYZ5"
      },
      "source": [
        "import seaborn as sns\n",
        "import matplotlib.pyplot as plt\n",
        "import pandas as pd\n",
        "import numpy as np\n",
        "from sklearn.linear_model import LinearRegression"
      ],
      "execution_count": 1,
      "outputs": []
    },
    {
      "cell_type": "markdown",
      "metadata": {
        "id": "SCaemmSTsecT"
      },
      "source": [
        "Se leen los archivo con los datos de registros de Precipitación en México y se guardan en un diccionario. También se lee el archivo con los datos de las temperaturas a nivel nacional"
      ]
    },
    {
      "cell_type": "code",
      "metadata": {
        "id": "ikhYmiSvsIig"
      },
      "source": [
        "Prec = {}\n",
        "\n",
        "for i in range(1985, 2021):\n",
        "  url = \"https://github.com/AdrianDiazGaxiola/Proyecto-Final/blob/main/Data/Precipitacion/%dPrecip.xls?raw=true\" % i\n",
        "  Prec[i] = pd.read_excel(url, header=1)\n",
        "\n",
        "url = \"https://github.com/AdrianDiazGaxiola/Proyecto-Final/raw/main/Data/Temperaturas%20Completo%20por%20Entidad.csv\"\n",
        "temperaturas = pd.read_csv(url) "
      ],
      "execution_count": 2,
      "outputs": []
    },
    {
      "cell_type": "markdown",
      "metadata": {
        "id": "SHK2qAP6Psip"
      },
      "source": [
        "Se crea un dataframe por estado para guardar los datos de las precipitaciones de cada uno de estos"
      ]
    },
    {
      "cell_type": "code",
      "metadata": {
        "id": "SNZVC94NKEKX"
      },
      "source": [
        "#Se guardan las abreviaturas de los estados en una lista\n",
        "estados_abv = ['AGU', 'BCN', 'BCS', 'CAM', 'CHP', 'CHH', 'CMX', 'COA', 'COL', 'DUR', 'GUA', 'GRO', 'HID', 'JAL', 'MEX', 'MIC', 'MOR', 'NAY', 'NLE', 'OAX', 'PUE', 'QUE', 'ROO', 'SLP', 'SIN', 'SON', 'TAB', 'TAM', 'TLA', 'VER', 'YUC', 'ZAC', 'NAC']\n",
        "\n",
        "#Se guardan en una lista los nombres de los estados tal y como vienen en el archivo inicial.\n",
        "df = pd.DataFrame(Prec[1985])\n",
        "estados_comp = df['ENTIDAD'].tolist()\n",
        "\n",
        "anios = range(1985, 2021) #Lista con los años de los dataframe\n",
        "prec_por_entidad = {}\n",
        "\n",
        "#Ciclo para guardar los datos de cada estado.\n",
        "for i in range(33):\n",
        "  df_prec_entidad = pd.DataFrame(columns=['ENTIDAD', 'ENE', 'FEB', 'MAR', 'ABR', 'MAY', 'JUN', 'JUL', 'AGO', 'SEP', 'OCT', 'NOV', 'DIC', 'ANUAL']) #Dataframe en el que se guardará los datos de un solo estado.\n",
        "  \n",
        "  for j in range (1985, 2021):\n",
        "    l = j - 1985 #Variable para guardar el año\n",
        "   \n",
        "    df = pd.DataFrame (Prec[j])    \n",
        "   \n",
        "    df_prec_entidad = df_prec_entidad.append(df.loc[i], ignore_index=True) #Se copia la fila con los datos del estado correspondiente al nuevo dataframe\n",
        "   \n",
        "    df_prec_entidad.at[l, 'ENTIDAD'] = anios[l] #Se guarda el número del año correspondiente en el dataframe\n",
        "\n",
        "  df_prec_entidad.rename(columns = {'ENTIDAD':'ANIO'}, inplace = True)\n",
        "\n",
        "  prec_por_entidad[estados_abv[i]] = df_prec_entidad #Se guarda en el diccionario de las precipitaciones por entidad el dataframe creado en el ciclo, identificado por la abreviatura de la entidad\n"
      ],
      "execution_count": 3,
      "outputs": []
    },
    {
      "cell_type": "markdown",
      "metadata": {
        "id": "ZNT-boIMLzxH"
      },
      "source": [
        "Ejemplos de los dataframes por estado creados"
      ]
    },
    {
      "cell_type": "code",
      "metadata": {
        "colab": {
          "base_uri": "https://localhost:8080/"
        },
        "id": "YXV7tDwwLI2J",
        "outputId": "f856544f-2136-41dc-e954-dd36832eeca3"
      },
      "source": [
        "print (prec_por_entidad['SIN'].head())\n",
        "print (prec_por_entidad['NAC'].head())"
      ],
      "execution_count": 5,
      "outputs": [
        {
          "output_type": "stream",
          "name": "stdout",
          "text": [
            "   ANIO         ENE        FEB  ...        NOV        DIC       ANUAL\n",
            "0  1985  115.571741   2.408146  ...  10.298417  24.479841  792.539359\n",
            "1  1986    7.892790  21.807251  ...   6.322164  28.588047  646.298723\n",
            "2  1987   13.832147  22.053572  ...   9.760709  35.577609  519.847907\n",
            "3  1988    6.278637   2.657400  ...   7.129536  25.565632  613.807323\n",
            "4  1989   20.527490  15.374581  ...  27.021390  29.223355  628.988733\n",
            "\n",
            "[5 rows x 14 columns]\n",
            "   ANIO   ENE   FEB   MAR   ABR   MAY  ...    AGO    SEP   OCT   NOV   DIC  ANUAL\n",
            "0  1985  36.0  16.5  15.0  37.2  51.5  ...  118.8  106.1  65.5  31.9  25.4  770.6\n",
            "1  1986  15.2  14.9  10.7  26.3  57.4  ...  103.8  125.2  83.0  36.8  36.2  748.0\n",
            "2  1987  20.1  22.0  16.8  21.8  52.6  ...  113.8  104.1  32.1  28.2  23.8  689.2\n",
            "3  1988  20.2  13.2  17.7  21.7  24.8  ...  173.8  123.8  49.7  17.9  18.8  765.6\n",
            "4  1989  22.5  12.7   9.7  14.0  26.1  ...  158.9  124.1  52.4  34.6  41.1  691.8\n",
            "\n",
            "[5 rows x 14 columns]\n"
          ]
        }
      ]
    },
    {
      "cell_type": "markdown",
      "metadata": {
        "id": "yDLoaiERuI1A"
      },
      "source": [
        "Se combinan en un dataframe los datos de temperaturas con los datos de precipitación"
      ]
    },
    {
      "cell_type": "code",
      "metadata": {
        "colab": {
          "base_uri": "https://localhost:8080/"
        },
        "id": "7TY2riLkuIQ0",
        "outputId": "78323275-8c0c-40b0-9ff9-fc542d799f11"
      },
      "source": [
        "#Como los registros de precipitación son anuales, se utilizarán los registros de temperaturas anuales para futuro análisis.\n",
        "df = temperaturas.loc[temperaturas['MES']=='ANUAL']\n",
        "\n",
        "#Se guardan en un dataframe los datos de temperaturas de los años de los cuales se tienen registros se tienen registros de precipitación.\n",
        "df1 = df.loc[df['ANIO']==2000]\n",
        "df2 = df.loc[df['ANIO']>=2005]\n",
        "df = df1.append(df2)\n",
        "df = df.reset_index(drop=True)\n",
        "\n",
        "#Se guardan en una lista los años de los cuales se tienen registros de precipitación en México.\n",
        "Anios = list(range(2000, 2021))\n",
        "del Anios[1:5]\n",
        "\n",
        "#Se guardan las abreviaturas de los estados en una lista\n",
        "estados_abv = ['AGU', 'BCN', 'BCS', 'CAM', 'CHP', 'CHH', 'CMX', 'COA', 'COL', 'DUR', 'GUA', 'GRO', 'HID', 'JAL', 'MEX', 'MIC', 'MOR', 'NAY', 'NLE', 'OAX', 'PUE', 'QUE', 'ROO', 'SLP', 'SIN', 'SON', 'TAB', 'TAM', 'TLA', 'VER', 'YUC', 'ZAC', 'NAC']\n",
        "\n",
        "#Se crea una lista para guardar en ella los datos de precipitacion para después adjuntarla al dataframe\n",
        "lluvias = []\n",
        "\n",
        "for i in Anios:\n",
        "  l = 0\n",
        "  for j in estados_abv:\n",
        "    lluvia = precipitacion.at[l, str(i)] #Se copia el valor del registro de precipitación del estado y año correspondiente\n",
        "    lluvias.append(lluvia)\n",
        "    l += 1\n",
        "\n",
        "df['Precipitacion'] = lluvias\n",
        "\n",
        "print(df.head())\n",
        "print(precipitacion.head())\n",
        "print(df.tail())\n",
        "print(precipitacion.tail())"
      ],
      "execution_count": null,
      "outputs": [
        {
          "output_type": "stream",
          "name": "stdout",
          "text": [
            "   ANIO    MES ENTIDAD      T_Max      T_Min      T_Med Precipitacion\n",
            "0  2000  ANUAL     AGU  26.932250   8.496315  17.714283           448\n",
            "1  2000  ANUAL     BCN  26.933117  10.687024  18.810071           203\n",
            "2  2000  ANUAL     BCS  30.597415  13.695902  22.146658           176\n",
            "3  2000  ANUAL     CAM  32.666320  19.092887  25.879604         1,138\n",
            "4  2000  ANUAL     CHP  28.563013  12.150714  20.356864           316\n",
            "    Entidad federativa   2000   2005   2006  ...   2017   2018   2019   2020\n",
            "0       Aguascalientes    448    456    459  ...    473    477    477    477\n",
            "1      Baja California    203    204    202  ...    200    199    199    198\n",
            "2  Baja California Sur    176    176    178  ...    183    183    184    183\n",
            "3             Campeche  1,138  1,169  1,175  ...  1,198  1,201  1,202  1,209\n",
            "4             Coahuila    316    327    327  ...    341    342    341    340\n",
            "\n",
            "[5 rows x 18 columns]\n",
            "     ANIO    MES ENTIDAD  T_Max  T_Min  T_Med Precipitacion\n",
            "556  2020  ANUAL     TLA   23.5    7.1   15.3           711\n",
            "557  2020  ANUAL     VER   28.8   17.8   23.3         1,507\n",
            "558  2020  ANUAL     YUC   33.4   21.2   27.3         1,086\n",
            "559  2020  ANUAL     ZAC   27.2    9.4   18.3           514\n",
            "560  2020  ANUAL     NAC   30.1   14.9   22.4           779\n",
            "   Entidad federativa   2000   2005   2006  ...   2017   2018   2019   2020\n",
            "28           Tlaxcala    711    705    708  ...    716    715    713    711\n",
            "29           Veracruz  1,475  1,492  1,494  ...  1,511  1,511  1,506  1,507\n",
            "30            Yucatán  1,108  1,091  1,088  ...  1,078  1,077  1,076  1,086\n",
            "31          Zacatecas    516    518    517  ...    516    517    516    514\n",
            "32           Nacional    772    774    774  ...    781    781    780    779\n",
            "\n",
            "[5 rows x 18 columns]\n"
          ]
        }
      ]
    },
    {
      "cell_type": "code",
      "metadata": {
        "id": "nFChQq1g8Gey"
      },
      "source": [
        ""
      ],
      "execution_count": null,
      "outputs": []
    }
  ]
}