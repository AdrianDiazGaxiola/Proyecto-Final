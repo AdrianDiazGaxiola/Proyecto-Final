{
  "nbformat": 4,
  "nbformat_minor": 0,
  "metadata": {
    "colab": {
      "name": "Temperaturas mínimas.ipynb",
      "provenance": [],
      "authorship_tag": "ABX9TyNb3iJbvYlyj+TOPldN9cvw",
      "include_colab_link": true
    },
    "kernelspec": {
      "name": "python3",
      "display_name": "Python 3"
    },
    "language_info": {
      "name": "python"
    }
  },
  "cells": [
    {
      "cell_type": "markdown",
      "metadata": {
        "id": "view-in-github",
        "colab_type": "text"
      },
      "source": [
        "<a href=\"https://colab.research.google.com/github/AdrianDiazGaxiola/Proyecto-Final/blob/main/Temperaturas_m%C3%ADnimas.ipynb\" target=\"_parent\"><img src=\"https://colab.research.google.com/assets/colab-badge.svg\" alt=\"Open In Colab\"/></a>"
      ]
    },
    {
      "cell_type": "code",
      "metadata": {
        "colab": {
          "base_uri": "https://localhost:8080/"
        },
        "id": "lWFPPBySxHV9",
        "outputId": "b8850f5f-83af-4970-d517-1954379fdd1a"
      },
      "source": [
        "!pip install numpy\n",
        "!pip install pandas"
      ],
      "execution_count": 1,
      "outputs": [
        {
          "output_type": "stream",
          "name": "stdout",
          "text": [
            "Requirement already satisfied: numpy in /usr/local/lib/python3.7/dist-packages (1.19.5)\n",
            "Requirement already satisfied: pandas in /usr/local/lib/python3.7/dist-packages (1.1.5)\n",
            "Requirement already satisfied: python-dateutil>=2.7.3 in /usr/local/lib/python3.7/dist-packages (from pandas) (2.8.2)\n",
            "Requirement already satisfied: numpy>=1.15.4 in /usr/local/lib/python3.7/dist-packages (from pandas) (1.19.5)\n",
            "Requirement already satisfied: pytz>=2017.2 in /usr/local/lib/python3.7/dist-packages (from pandas) (2018.9)\n",
            "Requirement already satisfied: six>=1.5 in /usr/local/lib/python3.7/dist-packages (from python-dateutil>=2.7.3->pandas) (1.15.0)\n"
          ]
        }
      ]
    },
    {
      "cell_type": "markdown",
      "metadata": {
        "id": "FGpsn1rF6Qry"
      },
      "source": [
        "En este ciclo se leen los archivos que contienen las temperaturas mínimas por año"
      ]
    },
    {
      "cell_type": "code",
      "metadata": {
        "colab": {
          "base_uri": "https://localhost:8080/"
        },
        "id": "AQcn5a454miL",
        "outputId": "e2662a1e-8eeb-4b7c-c690-7f52072fe1e4"
      },
      "source": [
        "Tmin = {}\n",
        "for i in range(1985,2021):\n",
        "  url = \"https://github.com/AdrianDiazGaxiola/Proyecto-Final/blob/Temperaturas-M%%C3%%ADnimas---Archivos/%dTmin.xlsx?raw=true\" % i\n",
        "  Tmin[i] = pd.read_excel(url, header = 1)\n",
        "\n",
        "print(Tmin[1988])\n",
        "              "
      ],
      "execution_count": 24,
      "outputs": [
        {
          "output_type": "stream",
          "name": "stdout",
          "text": [
            "                ENTIDAD        ENE        FEB  ...        NOV        DIC      ANUAL\n",
            "0        AGUASCALIENTES   2.497177   5.524269  ...   5.634115   4.239822   8.664574\n",
            "1       BAJA CALIFORNIA   5.206725   6.714443  ...   7.637992   4.783108  10.437920\n",
            "2   BAJA CALIFORNIA SUR   8.688796  10.273474  ...  11.697917   9.024635  14.080099\n",
            "3              CAMPECHE  16.543779  16.236805  ...  18.173256  16.334382  18.939291\n",
            "4              COAHUILA   3.315495   5.369483  ...   8.495503   5.717293  11.147640\n",
            "5                COLIMA  14.291305  14.620074  ...  16.721212  14.970430  17.094590\n",
            "6               CHIAPAS  15.531224  15.376712  ...  16.900750  15.468242  17.596447\n",
            "7             CHIHUAHUA  -1.452934   1.003743  ...   3.662381   0.172637   7.577014\n",
            "8      CIUDAD DE MÉXICO   4.049147   6.035714  ...   5.456833   5.163858   8.233108\n",
            "9               DURANGO   1.273002   3.594077  ...   4.723458   3.538996   8.232083\n",
            "10           GUANAJUATO   4.089508   6.766294  ...   7.242675   6.045425   9.817149\n",
            "11             GUERRERO  15.522162  16.867967  ...  17.600971  16.255170  18.480845\n",
            "12              HIDALGO   2.782751   4.982988  ...   5.128145   4.389420   7.873788\n",
            "13              JALISCO   5.946569   8.053616  ...   9.123322   7.571140  11.576412\n",
            "14     ESTADO DE MÉXICO   2.806709   5.055459  ...   4.593008   3.781880   7.346512\n",
            "15            MICHOACÁN   6.842159   9.355138  ...   8.459709   7.561371  11.574657\n",
            "16              MORELOS   9.323372  11.458493  ...  11.199926   9.971950  13.698291\n",
            "17              NAYARIT  10.288563  12.518417  ...  15.871032  13.426635  16.767403\n",
            "18           NUEVO LEÓN   4.089797   6.523815  ...   9.900369   6.994676  12.278082\n",
            "19               OAXACA  12.309658  12.973787  ...  14.180924  12.947629  15.010479\n",
            "20               PUEBLA   6.001075   7.514807  ...   7.648927   6.702521   9.732523\n",
            "21            QUERÉTARO   4.126316   6.526225  ...   6.858649   5.995341   9.597420\n",
            "22         QUINTANA ROO  17.095239  16.866958  ...  19.121264  16.907977  19.563307\n",
            "23      SAN LUIS POTOSÍ   6.866267   8.580760  ...  10.831565   9.497406  13.269780\n",
            "24              SINALOA   9.158046  11.124769  ...  13.990058  11.366780  16.398369\n",
            "25               SONORA   4.708500   6.926948  ...   8.406279   4.605706  12.985052\n",
            "26              TABASCO  18.886062  18.830569  ...  20.744130  18.959305  21.366456\n",
            "27           TAMAULIPAS   8.408317  11.166386  ...  14.729302  11.852911  16.467729\n",
            "28             TLAXCALA   1.077196   3.165962  ...   2.772045   1.665297   5.527722\n",
            "29             VERACRUZ  12.921987  13.292590  ...  15.569157  13.460026  16.761834\n",
            "30              YUCATÁN  16.333304  15.830679  ...  18.328349  16.603521  19.141623\n",
            "31            ZACATECAS   2.317547   4.733131  ...   5.720501   4.114542   8.485628\n",
            "32             NACIONAL   7.870151   9.495767  ...  10.847616   9.065313  12.991370\n",
            "\n",
            "[33 rows x 14 columns]\n"
          ]
        }
      ]
    }
  ]
}