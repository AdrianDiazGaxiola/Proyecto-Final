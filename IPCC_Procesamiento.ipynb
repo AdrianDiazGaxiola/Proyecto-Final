{
  "nbformat": 4,
  "nbformat_minor": 0,
  "metadata": {
    "colab": {
      "name": "IPCC Procesamiento.ipynb",
      "provenance": [],
      "authorship_tag": "ABX9TyN1BoqIU3c8i39nfYas5qTo",
      "include_colab_link": true
    },
    "kernelspec": {
      "name": "python3",
      "display_name": "Python 3"
    },
    "language_info": {
      "name": "python"
    }
  },
  "cells": [
    {
      "cell_type": "markdown",
      "metadata": {
        "id": "view-in-github",
        "colab_type": "text"
      },
      "source": [
        "<a href=\"https://colab.research.google.com/github/AdrianDiazGaxiola/Proyecto-Final/blob/main/IPCC_Procesamiento.ipynb\" target=\"_parent\"><img src=\"https://colab.research.google.com/assets/colab-badge.svg\" alt=\"Open In Colab\"/></a>"
      ]
    },
    {
      "cell_type": "markdown",
      "metadata": {
        "id": "72KqzBm571Cj"
      },
      "source": [
        "# Este código se empleará para limpiar los datos de los archivos IPCC de los años 1990 a 2019"
      ]
    },
    {
      "cell_type": "code",
      "metadata": {
        "colab": {
          "base_uri": "https://localhost:8080/"
        },
        "id": "Z-KdJeE97pgJ",
        "outputId": "29fa3a7a-1fe9-42f7-9649-a077415f86d8"
      },
      "source": [
        "!pip install numpy pandas"
      ],
      "execution_count": 1,
      "outputs": [
        {
          "output_type": "stream",
          "name": "stdout",
          "text": [
            "Requirement already satisfied: numpy in /usr/local/lib/python3.7/dist-packages (1.19.5)\n",
            "Requirement already satisfied: pandas in /usr/local/lib/python3.7/dist-packages (1.1.5)\n",
            "Requirement already satisfied: python-dateutil>=2.7.3 in /usr/local/lib/python3.7/dist-packages (from pandas) (2.8.2)\n",
            "Requirement already satisfied: pytz>=2017.2 in /usr/local/lib/python3.7/dist-packages (from pandas) (2018.9)\n",
            "Requirement already satisfied: six>=1.5 in /usr/local/lib/python3.7/dist-packages (from python-dateutil>=2.7.3->pandas) (1.15.0)\n"
          ]
        }
      ]
    },
    {
      "cell_type": "markdown",
      "metadata": {
        "id": "6CyT4dAlAGb0"
      },
      "source": [
        "Aquí se leen los archivos con los datos en bruto y se guardan como dataframes en un diccionario"
      ]
    },
    {
      "cell_type": "code",
      "metadata": {
        "id": "2Ovus9VW8IHM"
      },
      "source": [
        "import pandas as pd\n",
        "\n",
        "IPCC = {}\n",
        "\n",
        "for i in range(1990,2020):\n",
        "  url = \"https://github.com/AdrianDiazGaxiola/Proyecto-Final/raw/IPCC/IPCC_%d.csv\" % i\n",
        "  IPCC[i] = pd.read_csv(url, encoding = 'ISO-8859-1')"
      ],
      "execution_count": 16,
      "outputs": []
    },
    {
      "cell_type": "markdown",
      "metadata": {
        "id": "9TgtNFs_AN39"
      },
      "source": [
        "Se prueba que los archivos se leyeron correctamente, descargando uno de ellos"
      ]
    },
    {
      "cell_type": "code",
      "metadata": {
        "colab": {
          "base_uri": "https://localhost:8080/",
          "height": 17
        },
        "id": "mbHBdDZX-j4a",
        "outputId": "8e106c8d-cba4-4020-e03f-762a3ddaa5c9"
      },
      "source": [
        "df = IPCC[1990]\n",
        "\n",
        "df.to_csv(\"IPCC 90 Prueba.csv\", encoding='ISO-8859-1', index=False)\n",
        "from google.colab import files\n",
        "files.download(\"IPCC 90 Prueba.csv\")"
      ],
      "execution_count": 21,
      "outputs": [
        {
          "output_type": "display_data",
          "data": {
            "application/javascript": [
              "\n",
              "    async function download(id, filename, size) {\n",
              "      if (!google.colab.kernel.accessAllowed) {\n",
              "        return;\n",
              "      }\n",
              "      const div = document.createElement('div');\n",
              "      const label = document.createElement('label');\n",
              "      label.textContent = `Downloading \"${filename}\": `;\n",
              "      div.appendChild(label);\n",
              "      const progress = document.createElement('progress');\n",
              "      progress.max = size;\n",
              "      div.appendChild(progress);\n",
              "      document.body.appendChild(div);\n",
              "\n",
              "      const buffers = [];\n",
              "      let downloaded = 0;\n",
              "\n",
              "      const channel = await google.colab.kernel.comms.open(id);\n",
              "      // Send a message to notify the kernel that we're ready.\n",
              "      channel.send({})\n",
              "\n",
              "      for await (const message of channel.messages) {\n",
              "        // Send a message to notify the kernel that we're ready.\n",
              "        channel.send({})\n",
              "        if (message.buffers) {\n",
              "          for (const buffer of message.buffers) {\n",
              "            buffers.push(buffer);\n",
              "            downloaded += buffer.byteLength;\n",
              "            progress.value = downloaded;\n",
              "          }\n",
              "        }\n",
              "      }\n",
              "      const blob = new Blob(buffers, {type: 'application/binary'});\n",
              "      const a = document.createElement('a');\n",
              "      a.href = window.URL.createObjectURL(blob);\n",
              "      a.download = filename;\n",
              "      div.appendChild(a);\n",
              "      a.click();\n",
              "      div.remove();\n",
              "    }\n",
              "  "
            ],
            "text/plain": [
              "<IPython.core.display.Javascript object>"
            ]
          },
          "metadata": {}
        },
        {
          "output_type": "display_data",
          "data": {
            "application/javascript": [
              "download(\"download_66f76f94-976e-4ad3-bf37-196d3e43cb1c\", \"IPCC 90 Prueba.csv\", 17340)"
            ],
            "text/plain": [
              "<IPython.core.display.Javascript object>"
            ]
          },
          "metadata": {}
        }
      ]
    }
  ]
}