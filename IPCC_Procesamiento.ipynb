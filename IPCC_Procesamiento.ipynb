{
  "nbformat": 4,
  "nbformat_minor": 0,
  "metadata": {
    "colab": {
      "name": "IPCC Procesamiento.ipynb",
      "provenance": [],
      "authorship_tag": "ABX9TyMfBrAfFxdtib+3W6M4LhFT",
      "include_colab_link": true
    },
    "kernelspec": {
      "name": "python3",
      "display_name": "Python 3"
    },
    "language_info": {
      "name": "python"
    }
  },
  "cells": [
    {
      "cell_type": "markdown",
      "metadata": {
        "id": "view-in-github",
        "colab_type": "text"
      },
      "source": [
        "<a href=\"https://colab.research.google.com/github/AdrianDiazGaxiola/Proyecto-Final/blob/main/IPCC_Procesamiento.ipynb\" target=\"_parent\"><img src=\"https://colab.research.google.com/assets/colab-badge.svg\" alt=\"Open In Colab\"/></a>"
      ]
    },
    {
      "cell_type": "markdown",
      "metadata": {
        "id": "72KqzBm571Cj"
      },
      "source": [
        "# Este código se empleará para limpiar los datos de los archivos IPCC de los años 1990 a 2019"
      ]
    },
    {
      "cell_type": "code",
      "metadata": {
        "colab": {
          "base_uri": "https://localhost:8080/"
        },
        "id": "Z-KdJeE97pgJ",
        "outputId": "29fa3a7a-1fe9-42f7-9649-a077415f86d8"
      },
      "source": [
        "!pip install numpy pandas"
      ],
      "execution_count": 1,
      "outputs": [
        {
          "output_type": "stream",
          "name": "stdout",
          "text": [
            "Requirement already satisfied: numpy in /usr/local/lib/python3.7/dist-packages (1.19.5)\n",
            "Requirement already satisfied: pandas in /usr/local/lib/python3.7/dist-packages (1.1.5)\n",
            "Requirement already satisfied: python-dateutil>=2.7.3 in /usr/local/lib/python3.7/dist-packages (from pandas) (2.8.2)\n",
            "Requirement already satisfied: pytz>=2017.2 in /usr/local/lib/python3.7/dist-packages (from pandas) (2018.9)\n",
            "Requirement already satisfied: six>=1.5 in /usr/local/lib/python3.7/dist-packages (from python-dateutil>=2.7.3->pandas) (1.15.0)\n"
          ]
        }
      ]
    },
    {
      "cell_type": "markdown",
      "metadata": {
        "id": "6CyT4dAlAGb0"
      },
      "source": [
        "Aquí se leen los archivos con los datos en bruto y se guardan como dataframes en un diccionario, además se guardan en una lista los nombres de las columnas y se agregan a cada dataframe como los nombres de las columnas"
      ]
    },
    {
      "cell_type": "code",
      "metadata": {
        "id": "2Ovus9VW8IHM"
      },
      "source": [
        "import pandas as pd\n",
        "\n",
        "IPCC = {}\n",
        "Enc = [\"Categoría\", \"CO2\", \"CH4\", \"N2O\", \"HFC-23\", \"HFC-410A\", \"HFC-43-10-mee\", \"HFC-125\", \"HFC-134\", \"HFC-134a\", \"HFC-404A\", \"HFC-407C\", \"HFC-507a\", \"HFC-152a\", \"HFC-227ea\", \"HFC-236fa\", \"HFC-365mfc/227ea\", \"HFC-365mfc\", \"HFC-245fa\", \"HFC-32\", \"CF4\", \"C2F6\", \"C3F8\", \"C4F6\", \"c-C4F8\", \"C5F8\", \"NF3\", \"SF6\", \"EMISIONES NETAS\", \"EMISIONES (sin 3B Y 3D)\", \"\", \"Carbono negro\"]\n",
        "\n",
        "for i in range(1990,2020):\n",
        "  url = \"https://github.com/AdrianDiazGaxiola/Proyecto-Final/raw/main/IPCC_%d.csv\" % i\n",
        "  IPCC[i] = pd.read_csv(url, names = Enc, encoding = 'ISO-8859-1', na_filter=False)\n",
        "  IPCC[i] = IPCC[i].drop(columns=['', 'EMISIONES (sin 3B Y 3D)'])\n",
        "  "
      ],
      "execution_count": 119,
      "outputs": []
    },
    {
      "cell_type": "markdown",
      "metadata": {
        "id": "9TgtNFs_AN39"
      },
      "source": [
        "Se prueba que los archivos se leyeron correctamente, descargando uno de ellos"
      ]
    },
    {
      "cell_type": "code",
      "metadata": {
        "colab": {
          "base_uri": "https://localhost:8080/",
          "height": 17
        },
        "id": "mbHBdDZX-j4a",
        "outputId": "0134b0b2-81e5-4fbe-c44f-669a0a5b3c71"
      },
      "source": [
        "df = IPCC[1990]\n",
        "\n",
        "df.to_csv(\"IPCC 90 Prueba.csv\", encoding='ISO-8859-1', index=False)\n",
        "from google.colab import files\n",
        "files.download(\"IPCC 90 Prueba.csv\")"
      ],
      "execution_count": 121,
      "outputs": [
        {
          "output_type": "display_data",
          "data": {
            "application/javascript": [
              "\n",
              "    async function download(id, filename, size) {\n",
              "      if (!google.colab.kernel.accessAllowed) {\n",
              "        return;\n",
              "      }\n",
              "      const div = document.createElement('div');\n",
              "      const label = document.createElement('label');\n",
              "      label.textContent = `Downloading \"${filename}\": `;\n",
              "      div.appendChild(label);\n",
              "      const progress = document.createElement('progress');\n",
              "      progress.max = size;\n",
              "      div.appendChild(progress);\n",
              "      document.body.appendChild(div);\n",
              "\n",
              "      const buffers = [];\n",
              "      let downloaded = 0;\n",
              "\n",
              "      const channel = await google.colab.kernel.comms.open(id);\n",
              "      // Send a message to notify the kernel that we're ready.\n",
              "      channel.send({})\n",
              "\n",
              "      for await (const message of channel.messages) {\n",
              "        // Send a message to notify the kernel that we're ready.\n",
              "        channel.send({})\n",
              "        if (message.buffers) {\n",
              "          for (const buffer of message.buffers) {\n",
              "            buffers.push(buffer);\n",
              "            downloaded += buffer.byteLength;\n",
              "            progress.value = downloaded;\n",
              "          }\n",
              "        }\n",
              "      }\n",
              "      const blob = new Blob(buffers, {type: 'application/binary'});\n",
              "      const a = document.createElement('a');\n",
              "      a.href = window.URL.createObjectURL(blob);\n",
              "      a.download = filename;\n",
              "      div.appendChild(a);\n",
              "      a.click();\n",
              "      div.remove();\n",
              "    }\n",
              "  "
            ],
            "text/plain": [
              "<IPython.core.display.Javascript object>"
            ]
          },
          "metadata": {}
        },
        {
          "output_type": "display_data",
          "data": {
            "application/javascript": [
              "download(\"download_ee0d8d6b-6896-4eaf-8a98-970109e7a6b2\", \"IPCC 90 Prueba.csv\", 16828)"
            ],
            "text/plain": [
              "<IPython.core.display.Javascript object>"
            ]
          },
          "metadata": {}
        }
      ]
    },
    {
      "cell_type": "markdown",
      "metadata": {
        "id": "ha89WlaweqYw"
      },
      "source": [
        "Aquí se guardan en una lista las Categorías de las fuentes de emisión para después usarlas.\n",
        "Se eliminan los primeros 8 elementos ya que no son necesarios (como se copiaron del archivo inicial, estos elemento sobran)"
      ]
    },
    {
      "cell_type": "code",
      "metadata": {
        "colab": {
          "base_uri": "https://localhost:8080/"
        },
        "id": "DBQp7DsqAcKB",
        "outputId": "56d2d321-fe8e-4750-b635-b2370c8c3ae5"
      },
      "source": [
        "Cat = df[\"Categoría\"].tolist()\n",
        "\n",
        "#Se eliminan los 8 primeros elementos de la lista\n",
        "for i in range (8):\n",
        "  Cat.pop(0)\n",
        "\n",
        "print(Cat)"
      ],
      "execution_count": 94,
      "outputs": [
        {
          "output_type": "stream",
          "name": "stdout",
          "text": [
            "['[1] Energía', '[1A] Actividades de quema del combustible', '[1A1] Industrias de la energía', '[1A1a] Actividad principal producción de electricidad y calor', '[1A1b] Refinación del petróleo', '[1A1c] Manufactura de combustibles sólidos y otras industrias de la energía', '[1A2] Industrias manufactura y de la construcción', '[1A2a] Hierro y acero', '[1A2b] Metales no ferrosos', '[1A2c] Sustancias químicas', '[1A2d] Pulpa, papel e imprenta', '[1A2e] Procesamiento de alimentos, bebidas y tabaco', '[1A2f] Minerales no metálicos', '[1A2g] Equipo de transporte', '[1A2h] Maquinaria', '[1A2i] Minería (con excepción de combustibles) y cantería', '[1A2j] Madera y productos de la madera', '[1A2k] Construcción', '[1A2l] Textiles y cueros', '[1A2m] Industria no especificada', '[1A3] Transporte', '[1A3a] Aviación civil', '[1A3b] Autotransporte', '[1A3c] Ferrocarriles', '[1A3d] Navegación marítima y fluvial', '[1A3e] Otro transporte', '[1A4] Otros sectores', '[1A4a] Comercial/institucional', '[1A4b] Residencial', '[1A4c] Agropecuario/silvicultura/pesca/piscifactorías', '[1B] Emisiones fugitivas provenientes de la fabricación de combustibles', '[1B1] Combustibles sólidos', '[1B1a] Minería carbonífera y manejo del carbón', '[1B1ai] Minas subterráneas', '[1B1aii] Minas superficie', '[1B1b] Combustión espontánea y vertederos para quema de carbón', '[1B2] Petróleo y gas natural', '[1B2a] Petróleo', '1B2ai Venteo petróleo', '1B2aii Quemado petróleo', '1B2aiii Otras fugitivas petróleo', '[1B2b] Gas natural', '1B2bi Venteo gas natural', '1B2bii Quemado gas natural', '1B2biii Otras fugitivas gas natural', '[2] Procesos industriales y uso de productos', '[2A] Industria de los minerales', '[2A1] Producción de cemento', '[2A2] Producción de cal', '[2A3] Producción de vidrio', '[2A4] Otros usos de carbonatos', '[2A5] Otros', '[2B] Industria química', '[2B1] Producción de amoniaco', '[2B2] Producción de ácido nítrico', '[2B3] Producción de ácido adípico', '[2B4] Producción de caprolactama, glioxil y ácido glioxílico', '[2B5] Producción de carburo', '[2B6] Producción de dióxido de titanio', '[2B7] Producción de ceniza de sosa', '[2B8] Producción petroquímica y negro de humo', '[2B9] Producción fluoroquímica', '[2B10] Otros', '[2C] Industria de los metales', '[2C1] Producción de hierro y acero', '[2C2] Producción de ferroaleaciones', '[2C3] Producción de aluminio', '[2C4] Producción de magnesio', '[2C5] Producción de plomo', '[2C6] Producción de zinc', '[2C7] Otros', '[2D] Uso de productos no energéticos de combustibles y de solvente', '[2D1] Uso de lubricantes', '[2D2] Uso de la cera de parafina', '[2D3] Uso de solventes', '[2D4] Otros', '[2E] Industria electrónica', '[2E1] Circuitos integrados o semiconductores', '[2E2] Pantalla plana tipo TFT', '[2E3] Células fotovoltaicas', '[2E4] Fluido de transferencia térmica', '[2E5] Otros', '[2F] Uso de productos sustitutos de las sustancias que agotan la capa de ozono', '[2F1] Refrigeración y aire acondicionado', '[2F2] Agentes espumantes', '[2F3] Protección contra incendios', '[2F4] Aerosoles', '[2F5] Solventes', '[2F6] Otras aplicaciones', '[2G] Manufactura y utilización de otros productos', '[2G1] Equipos eléctricos', '[2G2] SF6 y PFC de otros usos de productos', '[2G3] N2O de usos de productos', '[2G4] Otros', '[2H] Otros', '[2H1] Industria de la pulpa y el papel', '[2H2] Industria de la alimentación y las bebidas', '[2H3] Otros', '[3] Agricultura, silvicultura y otros usos de la tierra', ' [3A] Ganado', '     [3A1] Fermentación entérica', '          [3A1a] Bovino', '          [3A1b] Búfalos', '             [3A1c] Ovinos', '          [3A1d] Caprino', '          [3A1e] Camello', '          [3A1f] Caballos', '          [3A1g] Mulas y asnos', '          [3A1h] Porcinos', '          [3A1i] Otros  (especificar)', '     [3A2] Gestión del estiércol', '          [3A2a] Bovinos', '          [3A2b] Búfalos', '             [3A2c] Ovinos', '          [3A2d] Caprino', '          [3A2e] Camello', '          [3A2f] Caballos', '          [3A2g] Mulas y asnos', '          [3A2h] Porcinos', '          [3A2i] Aves de corral', '          [3A2g] Otros  (especificar)', '  [3B] Tierra', '     [3B1] Tierra forestales', '          [3B1a] Tierras forestales que permanecen como tal', '          [3B1b] Tierras convertidas a tierras forestales', '     [3B2] Tierra de cultivo', '          [3B2a] Tierras de cultivo que permanecen como tal', '          [3B2b] Tierras convertidas a tierras de cultivo', '     [3B3] Praderas', '          [3B3a] Praderas que permanecen como tal', '          [3B3b] Tierras convertidas en praderas', '     [3B4] Humedales', '          [3B4a] Humedales que permanecen como tal', '          [3B4b] Tierras convertidas en humedales', '     [3B5] Asentamientos ', '          [3B5a] Asentamientos que permanecen como tal', '          [3B5b] Tierras convertidas en asentamientos', '     [3B6] Otras tierras ', '          [3B6a] Otras tierras que permanecen como tal', '          [3B6b] Tierras convertidas en otras tierras', '  [3C] Fuentes agregadas y fuentes de emisión no CO2 de la tierra', '     [3C1] Emisiones de GEI por quemado de biomasa', '          [3C1a] Emisiones de quemado de biomasa en tierras forestales', '          [3C1b] Emisiones de quemado de biomasa en tierras de cultivo', '          [3C1c] Emisiones de quemado de biomasa en tierras praderas', '          [3C1d] Emisiones de quemado de biomasa en otras tierras', '     [3C2] Encalado', '     [3C3] Aplicación de urea', '     [3C4] Emisiones directas de los N2O de los suelos gestionados', '     [3C5] Emisiones indirectas de los N2O de los suelos gestionados', '     [3C6] Emisiones indirectas de los N2O de la gestión del estiércol', '     [3C7] Cultivo del arroz', '  [3D] Otros', '     [3D1] Productos de madera recolectada', '     [3D2] Otros (especificar)', '[4] Residuos', '[4A] Eliminación de residuos sólidos', '[4A1] Sitios gestionados de eliminación de residuos (rellenos sanitarios)', '[4A2] Sitios no controlados de eliminación de residuos ', '[4A3] Tiraderos a cielo abierto para eliminación de residuos', '[4B] Tratamiento biológico de los residuos sólidos', '[4C] Incineración y quema a cielo abierto  de residuos', '[4C1] Incineración de residuos peligrosos industriales y biológico infeccioso', '[4C2] Quema a cielo abierto de residuos sólidos', '[4D] Tratamiento y eliminación de aguas residuales', '[4D1] Tratamiento y eliminación de aguas residuales municipales', '[4D2] Tratamiento y eliminación de aguas residuales industriales', '[4E] Otros', 'EMISIONES NETAS (Gg de CO2e)', nan, 'Bunkers', 'Aviación internacional', 'Marítimo internacional', 'Emisiones de CO2 por quema de biomasa', nan, 'Nota:', nan, nan, nan, nan]\n"
          ]
        }
      ]
    },
    {
      "cell_type": "markdown",
      "metadata": {
        "id": "R-Tcm2E1Hyic"
      },
      "source": [
        "Aquí se crea un dataframe por categoría de fuente de emisión donde se guardan todos sus datos de las cantidades de contaminantes emitidos por año"
      ]
    },
    {
      "cell_type": "code",
      "metadata": {
        "id": "psUUoc67gFIj"
      },
      "source": [
        "IPCC_por_cat = {} #Se crea un diccionario para las IPCC por categoría\n",
        "\n",
        "#Se declaran los dataframe y se elimina la columna vacía y la de Emisiones (sin 3B y 3D)\n",
        "for i in Cat:\n",
        "  IPCC_por_cat[i] = pd.DataFrame(columns=Enc)\n",
        "  IPCC_por_cat[i] = IPCC_por_cat[i].drop(columns=['', 'EMISIONES (sin 3B Y 3D)'])\n",
        "\n",
        "#Ciclo para copiar los datos a los nuevos dataframe\n",
        "for i in range(1990, 2020):\n",
        "  df = IPCC[i]\n",
        "\n",
        "  #Ciclo para concatenar la fila correspondiente a la categoría de la fuente de emisión con la del año correspondiente\n",
        "  for j in Cat:\n",
        "    IPCC_por_cat[j] = IPCC_por_cat[j].append(df.loc[df['Categoría'] == j], ignore_index=True)\n",
        "    IPCC_por_cat[j].at[i-1990, 'Categoría'] = i #En la columan de 'Categoría' se guarda el año en el que se encuentra\n",
        "\n",
        "#Se cambia el nombre de la columna 'Categoría' por 'ANIO', y se reemplazan los valores NaN por ceros.\n",
        "for i in Cat:\n",
        "  IPCC_por_cat[i].rename(columns = {'Categoría':'ANIO'}, inplace = True)\n",
        "  IPCC_por_cat[i].fillna(0)\n"
      ],
      "execution_count": 128,
      "outputs": []
    },
    {
      "cell_type": "code",
      "metadata": {
        "colab": {
          "base_uri": "https://localhost:8080/"
        },
        "id": "7Yt6ZnDchgXg",
        "outputId": "2b6bb648-d00a-414c-f9f6-1b915db1bb2d"
      },
      "source": [
        "print (IPCC_por_cat['[2] Procesos industriales y uso de productos'])"
      ],
      "execution_count": 129,
      "outputs": [
        {
          "output_type": "stream",
          "name": "stdout",
          "text": [
            "    ANIO         CO2      CH4  ...      SF6 EMISIONES NETAS Carbono negro\n",
            "0   1990  30,144.819  257.954  ...   36.517      32,510.568         0.000\n",
            "1   1991  28,803.826  259.605  ...   39.036      31,324.834         0.000\n",
            "2   1992  30,487.396  277.783  ...   43.437      32,275.712         0.000\n",
            "3   1993  31,086.031  246.020  ...   47.776      33,118.051         0.000\n",
            "4   1994  34,158.624  248.222  ...   51.493      35,916.259         0.000\n",
            "5   1995  33,696.350  257.785  ...   53.408      36,026.253         0.000\n",
            "6   1996  36,719.521  254.862  ...   62.733      40,674.558         0.000\n",
            "7   1997  40,151.419  247.003  ...   65.246      43,860.367         0.000\n",
            "8   1998  40,961.072  240.550  ...   66.592      44,221.419         0.000\n",
            "9   1999  44,482.928  221.240  ...   68.658      48,125.684         0.000\n",
            "10  2000  46,259.107  223.048  ...   72.048      49,578.041         0.000\n",
            "11  2001  45,064.496  206.483  ...   76.083      47,907.368         0.000\n",
            "12  2002  43,299.366  193.589  ...   86.433      46,642.954         0.000\n",
            "13  2003  45,047.115  196.003  ...   97.371      48,637.042         0.000\n",
            "14  2004  53,734.537  198.128  ...  107.472      58,103.581         0.000\n",
            "15  2005  46,906.675  206.730  ...  114.306      51,969.302         0.000\n",
            "16  2006  51,456.822  216.419  ...  117.440      55,630.062         0.000\n",
            "17  2007  49,975.024  187.539  ...  137.070      57,941.957         0.000\n",
            "18  2008  51,452.209  201.414  ...  140.204      60,457.813         0.000\n",
            "19  2009  46,602.763  211.986  ...  140.893      56,959.482         0.000\n",
            "20  2010  51,387.213  213.393  ...  156.247      64,301.620         0.000\n",
            "21  2011  48,310.848  220.859  ...  161.515      62,059.844         0.000\n",
            "22  2012  48,436.263  221.002  ...  164.340      62,459.793         0.000\n",
            "23  2013  48,873.048  205.726  ...  177.917      65,101.665         0.000\n",
            "24  2014         NaN      NaN  ...      NaN             NaN           NaN\n",
            "25  2015  48,220.997  185.001  ...  200.840      66,910.446         0.000\n",
            "26  2016  48,878.946  153.801  ...  217.012      67,972.887         0.000\n",
            "27  2017  50,511.110  274.190  ...  257.089      70,978.706         0.000\n",
            "28  2018  52,479.094  278.853  ...  278.664      74,768.850         0.000\n",
            "29  2019         NaN      NaN  ...      NaN             NaN           NaN\n",
            "\n",
            "[30 rows x 30 columns]\n"
          ]
        }
      ]
    }
  ]
}