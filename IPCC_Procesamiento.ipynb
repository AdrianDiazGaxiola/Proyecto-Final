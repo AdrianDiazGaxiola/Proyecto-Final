{
  "nbformat": 4,
  "nbformat_minor": 0,
  "metadata": {
    "colab": {
      "name": "IPCC Procesamiento.ipynb",
      "provenance": [],
      "collapsed_sections": [],
      "authorship_tag": "ABX9TyNV715zMTOJcLdZ00EIMwlv",
      "include_colab_link": true
    },
    "kernelspec": {
      "name": "python3",
      "display_name": "Python 3"
    },
    "language_info": {
      "name": "python"
    }
  },
  "cells": [
    {
      "cell_type": "markdown",
      "metadata": {
        "id": "view-in-github",
        "colab_type": "text"
      },
      "source": [
        "<a href=\"https://colab.research.google.com/github/AdrianDiazGaxiola/Proyecto-Final/blob/main/IPCC_Procesamiento.ipynb\" target=\"_parent\"><img src=\"https://colab.research.google.com/assets/colab-badge.svg\" alt=\"Open In Colab\"/></a>"
      ]
    },
    {
      "cell_type": "markdown",
      "metadata": {
        "id": "72KqzBm571Cj"
      },
      "source": [
        "# Este código se empleará para limpiar los datos de los archivos IPCC de los años 1990 a 2019"
      ]
    },
    {
      "cell_type": "code",
      "metadata": {
        "colab": {
          "base_uri": "https://localhost:8080/"
        },
        "id": "Z-KdJeE97pgJ",
        "outputId": "78f5ce55-62ab-429c-dbf2-e87ad67d0f9c"
      },
      "source": [
        "!pip install numpy pandas info_gain"
      ],
      "execution_count": 47,
      "outputs": [
        {
          "output_type": "stream",
          "name": "stdout",
          "text": [
            "Requirement already satisfied: numpy in /usr/local/lib/python3.7/dist-packages (1.19.5)\n",
            "Requirement already satisfied: pandas in /usr/local/lib/python3.7/dist-packages (1.1.5)\n",
            "Collecting info_gain\n",
            "  Downloading info_gain-1.0.1-py3-none-any.whl (3.3 kB)\n",
            "Requirement already satisfied: python-dateutil>=2.7.3 in /usr/local/lib/python3.7/dist-packages (from pandas) (2.8.2)\n",
            "Requirement already satisfied: pytz>=2017.2 in /usr/local/lib/python3.7/dist-packages (from pandas) (2018.9)\n",
            "Requirement already satisfied: six>=1.5 in /usr/local/lib/python3.7/dist-packages (from python-dateutil>=2.7.3->pandas) (1.15.0)\n",
            "Installing collected packages: info-gain\n",
            "Successfully installed info-gain-1.0.1\n"
          ]
        }
      ]
    },
    {
      "cell_type": "markdown",
      "metadata": {
        "id": "6CyT4dAlAGb0"
      },
      "source": [
        "Aquí se leen los archivos con los datos en bruto y se guardan como dataframes en un diccionario, además se guardan en una lista los nombres de las columnas y se agregan a cada dataframe como los nombres de las columnas"
      ]
    },
    {
      "cell_type": "code",
      "metadata": {
        "id": "2Ovus9VW8IHM"
      },
      "source": [
        "import pandas as pd\n",
        "\n",
        "IPCC = {}\n",
        "Enc = [\"Categoría\", \"CO2\", \"CH4\", \"N2O\", \"HFC-23\", \"HFC-410A\", \"HFC-43-10-mee\", \"HFC-125\", \"HFC-134\", \"HFC-134a\", \"HFC-404A\", \"HFC-407C\", \"HFC-507a\", \"HFC-152a\", \"HFC-227ea\", \"HFC-236fa\", \"HFC-365mfc/227ea\", \"HFC-365mfc\", \"HFC-245fa\", \"HFC-32\", \"CF4\", \"C2F6\", \"C3F8\", \"C4F6\", \"c-C4F8\", \"C5F8\", \"NF3\", \"SF6\", \"EMISIONES NETAS\", \"EMISIONES (sin 3B Y 3D)\", \"\", \"Carbono negro\"]\n",
        "\n",
        "for i in range(1990,2020):\n",
        "  url = \"https://github.com/AdrianDiazGaxiola/Proyecto-Final/raw/main/Data/IPCC/IPCC_%d.csv\" % i\n",
        "  IPCC[i] = pd.read_csv(url, names = Enc, encoding = 'ISO-8859-1', na_filter=False)\n",
        "  IPCC[i] = IPCC[i].drop(columns=['', 'EMISIONES (sin 3B Y 3D)'])\n",
        "\n",
        "url = \"https://raw.githubusercontent.com/AdrianDiazGaxiola/Proyecto-Final/main/Data/IPCC/IPCC_2014.csv\"\n",
        "IPCC[2014] = pd.read_csv(url, names = Enc, na_filter=False)\n",
        "IPCC[2014] = IPCC[2014].drop(columns=['', 'EMISIONES (sin 3B Y 3D)'])\n",
        "  "
      ],
      "execution_count": 2,
      "outputs": []
    },
    {
      "cell_type": "markdown",
      "metadata": {
        "id": "9TgtNFs_AN39"
      },
      "source": [
        "Se prueba que los archivos se leyeron correctamente, descargando uno de ellos"
      ]
    },
    {
      "cell_type": "code",
      "metadata": {
        "colab": {
          "base_uri": "https://localhost:8080/",
          "height": 17
        },
        "id": "mbHBdDZX-j4a",
        "outputId": "4d10a724-acf9-4194-97dd-b4d110839aa9"
      },
      "source": [
        "df = IPCC[2014]\n",
        "\n",
        "df.to_csv(\"IPCC 90 Prueba.csv\", encoding='ISO-8859-1', index=False)\n",
        "from google.colab import files\n",
        "files.download(\"IPCC 90 Prueba.csv\")"
      ],
      "execution_count": 3,
      "outputs": [
        {
          "output_type": "display_data",
          "data": {
            "application/javascript": [
              "\n",
              "    async function download(id, filename, size) {\n",
              "      if (!google.colab.kernel.accessAllowed) {\n",
              "        return;\n",
              "      }\n",
              "      const div = document.createElement('div');\n",
              "      const label = document.createElement('label');\n",
              "      label.textContent = `Downloading \"${filename}\": `;\n",
              "      div.appendChild(label);\n",
              "      const progress = document.createElement('progress');\n",
              "      progress.max = size;\n",
              "      div.appendChild(progress);\n",
              "      document.body.appendChild(div);\n",
              "\n",
              "      const buffers = [];\n",
              "      let downloaded = 0;\n",
              "\n",
              "      const channel = await google.colab.kernel.comms.open(id);\n",
              "      // Send a message to notify the kernel that we're ready.\n",
              "      channel.send({})\n",
              "\n",
              "      for await (const message of channel.messages) {\n",
              "        // Send a message to notify the kernel that we're ready.\n",
              "        channel.send({})\n",
              "        if (message.buffers) {\n",
              "          for (const buffer of message.buffers) {\n",
              "            buffers.push(buffer);\n",
              "            downloaded += buffer.byteLength;\n",
              "            progress.value = downloaded;\n",
              "          }\n",
              "        }\n",
              "      }\n",
              "      const blob = new Blob(buffers, {type: 'application/binary'});\n",
              "      const a = document.createElement('a');\n",
              "      a.href = window.URL.createObjectURL(blob);\n",
              "      a.download = filename;\n",
              "      div.appendChild(a);\n",
              "      a.click();\n",
              "      div.remove();\n",
              "    }\n",
              "  "
            ],
            "text/plain": [
              "<IPython.core.display.Javascript object>"
            ]
          },
          "metadata": {}
        },
        {
          "output_type": "display_data",
          "data": {
            "application/javascript": [
              "download(\"download_5648ae57-de0f-4668-b174-75d429d60d4f\", \"IPCC 90 Prueba.csv\", 16819)"
            ],
            "text/plain": [
              "<IPython.core.display.Javascript object>"
            ]
          },
          "metadata": {}
        }
      ]
    },
    {
      "cell_type": "markdown",
      "metadata": {
        "id": "ha89WlaweqYw"
      },
      "source": [
        "Aquí se guardan en una lista las Categorías de las fuentes de emisión para después usarlas.\n",
        "Se eliminan los primeros 8 elementos ya que no son necesarios (como se copiaron del archivo inicial, estos elemento sobran)"
      ]
    },
    {
      "cell_type": "code",
      "metadata": {
        "colab": {
          "base_uri": "https://localhost:8080/"
        },
        "id": "DBQp7DsqAcKB",
        "outputId": "58d5505a-1494-4489-ef2f-ea74ec75e0be"
      },
      "source": [
        "df = IPCC[1990]\n",
        "Cat = df[\"Categoría\"].tolist()\n",
        "\n",
        "#Se eliminan los 7 primeros elementos de la lista\n",
        "for i in range (7):\n",
        "  Cat.pop(0)\n",
        "\n",
        "Cat.pop(169)\n",
        "\n",
        "print(Cat)"
      ],
      "execution_count": 4,
      "outputs": [
        {
          "output_type": "stream",
          "name": "stdout",
          "text": [
            "['EMISIONES NETAS (Gg de CO2e)', '[1] Energía', '[1A] Actividades de quema del combustible', '[1A1] Industrias de la energía', '[1A1a] Actividad principal producción de electricidad y calor', '[1A1b] Refinación del petróleo', '[1A1c] Manufactura de combustibles sólidos y otras industrias de la energía', '[1A2] Industrias manufactura y de la construcción', '[1A2a] Hierro y acero', '[1A2b] Metales no ferrosos', '[1A2c] Sustancias químicas', '[1A2d] Pulpa, papel e imprenta', '[1A2e] Procesamiento de alimentos, bebidas y tabaco', '[1A2f] Minerales no metálicos', '[1A2g] Equipo de transporte', '[1A2h] Maquinaria', '[1A2i] Minería (con excepción de combustibles) y cantería', '[1A2j] Madera y productos de la madera', '[1A2k] Construcción', '[1A2l] Textiles y cueros', '[1A2m] Industria no especificada', '[1A3] Transporte', '[1A3a] Aviación civil', '[1A3b] Autotransporte', '[1A3c] Ferrocarriles', '[1A3d] Navegación marítima y fluvial', '[1A3e] Otro transporte', '[1A4] Otros sectores', '[1A4a] Comercial/institucional', '[1A4b] Residencial', '[1A4c] Agropecuario/silvicultura/pesca/piscifactorías', '[1B] Emisiones fugitivas provenientes de la fabricación de combustibles', '[1B1] Combustibles sólidos', '[1B1a] Minería carbonífera y manejo del carbón', '[1B1ai] Minas subterráneas', '[1B1aii] Minas superficie', '[1B1b] Combustión espontánea y vertederos para quema de carbón', '[1B2] Petróleo y gas natural', '[1B2a] Petróleo', '1B2ai Venteo petróleo', '1B2aii Quemado petróleo', '1B2aiii Otras fugitivas petróleo', '[1B2b] Gas natural', '1B2bi Venteo gas natural', '1B2bii Quemado gas natural', '1B2biii Otras fugitivas gas natural', '[2] Procesos industriales y uso de productos', '[2A] Industria de los minerales', '[2A1] Producción de cemento', '[2A2] Producción de cal', '[2A3] Producción de vidrio', '[2A4] Otros usos de carbonatos', '[2A5] Otros', '[2B] Industria química', '[2B1] Producción de amoniaco', '[2B2] Producción de ácido nítrico', '[2B3] Producción de ácido adípico', '[2B4] Producción de caprolactama, glioxil y ácido glioxílico', '[2B5] Producción de carburo', '[2B6] Producción de dióxido de titanio', '[2B7] Producción de ceniza de sosa', '[2B8] Producción petroquímica y negro de humo', '[2B9] Producción fluoroquímica', '[2B10] Otros', '[2C] Industria de los metales', '[2C1] Producción de hierro y acero', '[2C2] Producción de ferroaleaciones', '[2C3] Producción de aluminio', '[2C4] Producción de magnesio', '[2C5] Producción de plomo', '[2C6] Producción de zinc', '[2C7] Otros', '[2D] Uso de productos no energéticos de combustibles y de solvente', '[2D1] Uso de lubricantes', '[2D2] Uso de la cera de parafina', '[2D3] Uso de solventes', '[2D4] Otros', '[2E] Industria electrónica', '[2E1] Circuitos integrados o semiconductores', '[2E2] Pantalla plana tipo TFT', '[2E3] Células fotovoltaicas', '[2E4] Fluido de transferencia térmica', '[2E5] Otros', '[2F] Uso de productos sustitutos de las sustancias que agotan la capa de ozono', '[2F1] Refrigeración y aire acondicionado', '[2F2] Agentes espumantes', '[2F3] Protección contra incendios', '[2F4] Aerosoles', '[2F5] Solventes', '[2F6] Otras aplicaciones', '[2G] Manufactura y utilización de otros productos', '[2G1] Equipos eléctricos', '[2G2] SF6 y PFC de otros usos de productos', '[2G3] N2O de usos de productos', '[2G4] Otros', '[2H] Otros', '[2H1] Industria de la pulpa y el papel', '[2H2] Industria de la alimentación y las bebidas', '[2H3] Otros', '[3] Agricultura, silvicultura y otros usos de la tierra', ' [3A] Ganado', '     [3A1] Fermentación entérica', '          [3A1a] Bovino', '          [3A1b] Búfalos', '             [3A1c] Ovinos', '          [3A1d] Caprino', '          [3A1e] Camello', '          [3A1f] Caballos', '          [3A1g] Mulas y asnos', '          [3A1h] Porcinos', '          [3A1i] Otros  (especificar)', '     [3A2] Gestión del estiércol', '          [3A2a] Bovinos', '          [3A2b] Búfalos', '             [3A2c] Ovinos', '          [3A2d] Caprino', '          [3A2e] Camello', '          [3A2f] Caballos', '          [3A2g] Mulas y asnos', '          [3A2h] Porcinos', '          [3A2i] Aves de corral', '          [3A2g] Otros  (especificar)', '  [3B] Tierra', '     [3B1] Tierra forestales', '          [3B1a] Tierras forestales que permanecen como tal', '          [3B1b] Tierras convertidas a tierras forestales', '     [3B2] Tierra de cultivo', '          [3B2a] Tierras de cultivo que permanecen como tal', '          [3B2b] Tierras convertidas a tierras de cultivo', '     [3B3] Praderas', '          [3B3a] Praderas que permanecen como tal', '          [3B3b] Tierras convertidas en praderas', '     [3B4] Humedales', '          [3B4a] Humedales que permanecen como tal', '          [3B4b] Tierras convertidas en humedales', '     [3B5] Asentamientos ', '          [3B5a] Asentamientos que permanecen como tal', '          [3B5b] Tierras convertidas en asentamientos', '     [3B6] Otras tierras ', '          [3B6a] Otras tierras que permanecen como tal', '          [3B6b] Tierras convertidas en otras tierras', '  [3C] Fuentes agregadas y fuentes de emisión no CO2 de la tierra', '     [3C1] Emisiones de GEI por quemado de biomasa', '          [3C1a] Emisiones de quemado de biomasa en tierras forestales', '          [3C1b] Emisiones de quemado de biomasa en tierras de cultivo', '          [3C1c] Emisiones de quemado de biomasa en tierras praderas', '          [3C1d] Emisiones de quemado de biomasa en otras tierras', '     [3C2] Encalado', '     [3C3] Aplicación de urea', '     [3C4] Emisiones directas de los N2O de los suelos gestionados', '     [3C5] Emisiones indirectas de los N2O de los suelos gestionados', '     [3C6] Emisiones indirectas de los N2O de la gestión del estiércol', '     [3C7] Cultivo del arroz', '  [3D] Otros', '     [3D1] Productos de madera recolectada', '     [3D2] Otros (especificar)', '[4] Residuos', '[4A] Eliminación de residuos sólidos', '[4A1] Sitios gestionados de eliminación de residuos (rellenos sanitarios)', '[4A2] Sitios no controlados de eliminación de residuos ', '[4A3] Tiraderos a cielo abierto para eliminación de residuos', '[4B] Tratamiento biológico de los residuos sólidos', '[4C] Incineración y quema a cielo abierto  de residuos', '[4C1] Incineración de residuos peligrosos industriales y biológico infeccioso', '[4C2] Quema a cielo abierto de residuos sólidos', '[4D] Tratamiento y eliminación de aguas residuales', '[4D1] Tratamiento y eliminación de aguas residuales municipales', '[4D2] Tratamiento y eliminación de aguas residuales industriales', '[4E] Otros', '', 'Bunkers', 'Aviación internacional', 'Marítimo internacional', 'Emisiones de CO2 por quema de biomasa', '', 'Nota:', '', '', '', '']\n"
          ]
        }
      ]
    },
    {
      "cell_type": "markdown",
      "metadata": {
        "id": "R-Tcm2E1Hyic"
      },
      "source": [
        "Aquí se crea un dataframe por categoría de fuente de emisión donde se guardan todos sus datos de las cantidades de contaminantes emitidos por año"
      ]
    },
    {
      "cell_type": "code",
      "metadata": {
        "id": "psUUoc67gFIj"
      },
      "source": [
        "IPCC_por_cat = {} #Se crea un diccionario para las IPCC por categoría\n",
        "\n",
        "#Se declaran los dataframe y se elimina la columna vacía y la de Emisiones (sin 3B y 3D)\n",
        "for i in Cat:\n",
        "  IPCC_por_cat[i] = pd.DataFrame(columns=Enc)\n",
        "  IPCC_por_cat[i] = IPCC_por_cat[i].drop(columns=['', 'EMISIONES (sin 3B Y 3D)'])\n",
        "\n",
        "#Ciclo para copiar los datos a los nuevos dataframe\n",
        "for i in range(1990, 2020):\n",
        "  df = IPCC[i]\n",
        "\n",
        "  #Ciclo para concatenar la fila correspondiente a la categoría de la fuente de emisión con la del año correspondiente\n",
        "  for j in Cat:\n",
        "    IPCC_por_cat[j] = IPCC_por_cat[j].append(df.loc[df['Categoría'] == j], ignore_index=True)\n",
        "    IPCC_por_cat[j].at[i-1990, 'Categoría'] = i #En la columan de 'Categoría' se guarda el año en el que se encuentra\n",
        "\n",
        "#Se cambia el nombre de la columna 'Categoría' por 'ANIO', y se reemplazan los valores NaN por ceros.\n",
        "for i in Cat:\n",
        "  IPCC_por_cat[i].rename(columns = {'Categoría':'ANIO'}, inplace = True)\n",
        "  IPCC_por_cat[i].fillna(0)\n"
      ],
      "execution_count": 5,
      "outputs": []
    },
    {
      "cell_type": "markdown",
      "metadata": {
        "id": "Hmwd43AZOP8i"
      },
      "source": [
        "Se elabora el dataframe con los datos de las emisiones netas por año"
      ]
    },
    {
      "cell_type": "code",
      "metadata": {
        "colab": {
          "base_uri": "https://localhost:8080/"
        },
        "id": "7Yt6ZnDchgXg",
        "outputId": "68c6eaa5-abe9-4d77-a1d2-f269a1bdfc70"
      },
      "source": [
        "df = IPCC_por_cat['EMISIONES NETAS (Gg de CO2e)']\n",
        "\n",
        "df = df.iloc[::2]\n",
        "\n",
        "df = df.drop(columns={\"ANIO\"})\n",
        "\n",
        "df.index = list(range(1990, 2020))\n",
        "\n",
        "print(df)"
      ],
      "execution_count": 16,
      "outputs": [
        {
          "output_type": "stream",
          "name": "stdout",
          "text": [
            "              CO2          CH4  ... EMISIONES NETAS Carbono negro\n",
            "1990  319,999.845  117,840.420  ...     467,413.124        77.557\n",
            "1991  329,716.353  119,392.867  ...     477,528.929        79.090\n",
            "1992  333,049.712  117,998.461  ...     479,929.693        80.717\n",
            "1993  338,075.107  118,275.355  ...     483,660.292        81.467\n",
            "1994  360,853.348  124,026.181  ...     513,962.001        84.567\n",
            "1995  347,496.645  127,038.457  ...     503,565.252        85.660\n",
            "1996  359,553.271  131,254.597  ...     520,544.404        86.056\n",
            "1997  375,317.236  138,365.119  ...     545,797.282        90.364\n",
            "1998  393,944.487  143,331.786  ...     569,164.532       101.612\n",
            "1999  386,967.007  136,486.779  ...     557,365.513        91.850\n",
            "2000  195,440.705  139,956.673  ...     369,924.815        92.031\n",
            "2001  197,460.695  140,413.078  ...     371,241.398        85.791\n",
            "2002  229,882.008  143,348.720  ...     407,964.744        82.257\n",
            "2003  224,329.118  145,781.654  ...     405,714.974        80.546\n",
            "2004  238,241.812  144,473.811  ...     420,627.806        77.495\n",
            "2005  253,144.378  147,152.584  ...     437,015.317        80.434\n",
            "2006  262,024.906  151,651.167  ...     449,187.779        74.240\n",
            "2007  289,366.123  161,204.327  ...     491,864.695        80.020\n",
            "2008  313,910.935  180,349.048  ...     538,490.752        92.705\n",
            "2009  320,049.422  177,993.314  ...     542,233.701        84.703\n",
            "2010  310,682.774  168,300.249  ...     531,100.527        76.173\n",
            "2011  331,790.514  168,480.162  ...     554,017.405        78.607\n",
            "2012  325,051.510  160,183.734  ...     536,631.846        71.996\n",
            "2013  324,012.193  163,464.872  ...     548,655.579        70.937\n",
            "2014   326,893.54   168,613.86  ...      553,531.63        67.056\n",
            "2015  323,593.447  168,025.655  ...     552,405.777        65.553\n",
            "2016  370,858.748  174,362.998  ...     600,401.409        68.086\n",
            "2017  323,275.764  170,958.542  ...     552,378.593        71.886\n",
            "2018  332,067.786  173,705.912  ...     569,873.710        70.733\n",
            "2019   295,777.94   175,558.47  ...      534,688.60        65.582\n",
            "\n",
            "[30 rows x 29 columns]\n"
          ]
        }
      ]
    },
    {
      "cell_type": "code",
      "metadata": {
        "colab": {
          "base_uri": "https://localhost:8080/"
        },
        "id": "FJFxWDu5IaeE",
        "outputId": "07643c15-d623-498b-9a37-ae20b81e38ae"
      },
      "source": [
        "print(IPCC_por_cat['[1] Energía'])"
      ],
      "execution_count": 7,
      "outputs": [
        {
          "output_type": "stream",
          "name": "stdout",
          "text": [
            "    ANIO          CO2         CH4  ... SF6 EMISIONES NETAS Carbono negro\n",
            "0   1990  287,887.541  15,757.714  ...         306,533.434        73.109\n",
            "1   1991  298,614.787  16,023.514  ...         317,662.793        74.688\n",
            "2   1992  299,915.893  16,005.651  ...         318,971.083        76.234\n",
            "3   1993  301,303.624  16,892.611  ...         321,293.992        76.965\n",
            "4   1994  321,255.043  16,871.522  ...         341,343.932        80.004\n",
            "5   1995  309,168.372  18,489.596  ...         330,756.743        78.214\n",
            "6   1996  322,696.393  24,314.066  ...         350,170.926        78.738\n",
            "7   1997  339,872.616  29,098.558  ...         372,277.530        84.447\n",
            "8   1998  360,117.934  30,985.053  ...         394,475.780        88.263\n",
            "9   1999  352,617.358  27,077.324  ...         383,000.078        84.830\n",
            "10  2000  365,422.280  28,213.073  ...         397,055.093        85.153\n",
            "11  2001  363,505.282  26,498.874  ...         393,369.062        79.613\n",
            "12  2002  383,299.479  25,524.813  ...         412,265.593        75.443\n",
            "13  2003  378,538.555  26,433.946  ...         408,454.918        72.560\n",
            "14  2004  388,696.271  25,107.578  ...         417,404.116        71.706\n",
            "15  2005  404,045.165  25,702.129  ...         433,418.814        69.666\n",
            "16  2006  412,674.476  27,457.301  ...         443,865.101        67.271\n",
            "17  2007  432,645.948  34,641.339  ...         471,095.943        74.002\n",
            "18  2008  457,631.285  51,038.813  ...         512,522.899        85.943\n",
            "19  2009  447,212.950  45,204.527  ...         495,991.980        77.550\n",
            "20  2010  443,839.471  33,436.543  ...         480,763.491        70.392\n",
            "21  2011  462,535.475  29,086.935  ...         495,065.145        67.193\n",
            "22  2012  459,851.403  23,944.247  ...         487,068.360        64.101\n",
            "23  2013  459,744.013  24,766.873  ...         487,619.456        62.188\n",
            "24  2014   456,030.65   27,600.04  ...          486,562.55        60.219\n",
            "25  2015  466,450.234  24,883.576  ...         494,298.960        59.533\n",
            "26  2016  504,443.343  28,172.656  ...         535,568.912        60.158\n",
            "27  2017  474,862.925  21,752.037  ...         499,325.538        59.918\n",
            "28  2018  472,814.178  22,028.239  ...         497,499.540        58.830\n",
            "29  2019   444,504.90   21,170.54  ...          467,892.37        54.964\n",
            "\n",
            "[30 rows x 30 columns]\n"
          ]
        }
      ]
    },
    {
      "cell_type": "markdown",
      "metadata": {
        "id": "Tz6fFcCZU6GJ"
      },
      "source": [
        "Se lee el archivo con los datos de temperaturas, precipitación, sequías y ciclones y se eliminan las columnas y filas necesarias para hacerlo compatible con los datos de las emisiones"
      ]
    },
    {
      "cell_type": "code",
      "metadata": {
        "id": "n6ifKJiGO2RD"
      },
      "source": [
        "url = \"https://github.com/AdrianDiazGaxiola/Proyecto-Final/raw/main/Data/DataFrames%20Combinados/Temp%2BPrec%2BSeq%2BCic.csv\"\n",
        "df_prev = pd.read_csv(url)\n",
        "\n",
        "df_prev.index = list(range(2003, 2021))\n",
        "df_prev = df_prev.drop(index=2020)\n",
        "df_prev = df_prev.drop(columns = {\"ANIO\", \"MES\", \"ENTIDAD\"})"
      ],
      "execution_count": 33,
      "outputs": []
    },
    {
      "cell_type": "markdown",
      "metadata": {
        "id": "QB68HqGPVEQ9"
      },
      "source": [
        "Se combinan los dataframes"
      ]
    },
    {
      "cell_type": "code",
      "metadata": {
        "colab": {
          "base_uri": "https://localhost:8080/"
        },
        "id": "NgwFdALxPFmD",
        "outputId": "798c0d8a-1eb7-4f19-f70a-8e7c4187cbb1"
      },
      "source": [
        "df2 = df[13:]\n",
        "\n",
        "df_completo = pd.concat([df_prev, df2], axis=1) \n",
        "\n",
        "print(df_completo)"
      ],
      "execution_count": 39,
      "outputs": [
        {
          "output_type": "stream",
          "name": "stdout",
          "text": [
            "          T_Max      T_Min      T_Med  ...      SF6  EMISIONES NETAS  Carbono negro\n",
            "2003  28.643543  13.266576  20.955060  ...   97.371      405,714.974         80.546\n",
            "2004  28.345458  13.388790  20.867124  ...  107.472      420,627.806         77.495\n",
            "2005  28.967507  13.815767  21.391637  ...  114.306      437,015.317         80.434\n",
            "2006  29.215505  14.607056  21.911281  ...  117.440      449,187.779         74.240\n",
            "2007  29.348220  14.673085  21.776355  ...  137.070      491,864.695         80.020\n",
            "2008  28.983333  13.858333  21.366667  ...  140.204      538,490.752         92.705\n",
            "2009  29.266667  14.291667  21.779167  ...  140.893      542,233.701         84.703\n",
            "2010  28.483333  13.516667  21.000000  ...  156.247      531,100.527         76.173\n",
            "2011  29.658333  13.975000  21.820833  ...  161.515      554,017.405         78.607\n",
            "2012  29.138333  14.504167  21.866667  ...  164.340      536,631.846         71.996\n",
            "2013  29.150000  14.708333  21.925000  ...  177.917      548,655.579         70.937\n",
            "2014  29.325000  14.825000  22.075000  ...  185.862       553,531.63         67.056\n",
            "2015  29.000000  15.100000  22.100000  ...  200.840      552,405.777         65.553\n",
            "2016  29.816667  15.041667  22.433333  ...  217.012      600,401.409         68.086\n",
            "2017  30.116667  14.966667  22.550000  ...  257.089      552,378.593         71.886\n",
            "2018  29.558333  14.850000  22.208333  ...  278.664      569,873.710         70.733\n",
            "2019  29.900000  14.900000  22.400000  ...  400.916       534,688.60         65.582\n",
            "\n",
            "[17 rows x 47 columns]\n"
          ]
        }
      ]
    },
    {
      "cell_type": "markdown",
      "metadata": {
        "id": "WBPQdmG2VG0-"
      },
      "source": [
        "Se hace lo mismo con el dataframe que solo contiene los datos de temperaturas, precipitación y ciclones"
      ]
    },
    {
      "cell_type": "code",
      "metadata": {
        "id": "IDw7yyU_RKNx"
      },
      "source": [
        "url = \"https://github.com/AdrianDiazGaxiola/Proyecto-Final/raw/main/Data/DataFrames%20Combinados/Temp%2BPrec%2BCic.csv\"\n",
        "df_prev2 = pd.read_csv(url)\n",
        "\n",
        "df_prev2.index = list(range(1985, 2021))\n",
        "df_prev2 = df_prev2.drop(index=2020)\n",
        "df_prev2 = df_prev2[5:]\n",
        "df_prev2 = df_prev2.drop(columns = {\"ANIO\", \"MES\", \"ENTIDAD\"})"
      ],
      "execution_count": 44,
      "outputs": []
    },
    {
      "cell_type": "code",
      "metadata": {
        "colab": {
          "base_uri": "https://localhost:8080/"
        },
        "id": "a6NzlGBSUq2W",
        "outputId": "eeb4020b-3d3c-4998-e43f-6fea68226735"
      },
      "source": [
        "df_completo2 = pd.concat([df_prev2, df], axis=1) \n",
        "\n",
        "print(df_completo2)"
      ],
      "execution_count": 45,
      "outputs": [
        {
          "output_type": "stream",
          "name": "stdout",
          "text": [
            "          T_Max      T_Min      T_Med  ...      SF6  EMISIONES NETAS  Carbono negro\n",
            "1990  28.128194  13.365940  20.747067  ...   36.517      467,413.124         77.557\n",
            "1991  28.305724  13.297236  20.801480  ...   39.036      477,528.929         79.090\n",
            "1992  27.621186  13.297342  20.459264  ...   43.437      479,929.693         80.717\n",
            "1993  28.294081  13.160741  20.727411  ...   47.776      483,660.292         81.467\n",
            "1994  28.786000  13.474506  21.130253  ...   51.493      513,962.001         84.567\n",
            "1995  28.865623  13.481103  21.173363  ...   53.408      503,565.252         85.660\n",
            "1996  28.696627  12.961110  20.828869  ...   62.733      520,544.404         86.056\n",
            "1997  28.390730  13.054715  20.722723  ...   65.246      545,797.282         90.364\n",
            "1998  29.135651  13.344057  21.239854  ...   66.592      569,164.532        101.612\n",
            "1999  28.786624  12.711573  20.749099  ...   68.658      557,365.513         91.850\n",
            "2000  28.688769  12.944013  20.816391  ...   72.048      369,924.815         92.031\n",
            "2001  28.375999  13.111865  20.743932  ...   76.083      371,241.398         85.791\n",
            "2002  28.686931  13.186136  20.936534  ...   86.433      407,964.744         82.257\n",
            "2003  28.643543  13.266576  20.955060  ...   97.371      405,714.974         80.546\n",
            "2004  28.345458  13.388790  20.867124  ...  107.472      420,627.806         77.495\n",
            "2005  28.967507  13.815767  21.391637  ...  114.306      437,015.317         80.434\n",
            "2006  29.215505  14.607056  21.911281  ...  117.440      449,187.779         74.240\n",
            "2007  29.348220  14.673085  21.776355  ...  137.070      491,864.695         80.020\n",
            "2008  28.983333  13.858333  21.366667  ...  140.204      538,490.752         92.705\n",
            "2009  29.266667  14.291667  21.779167  ...  140.893      542,233.701         84.703\n",
            "2010  28.483333  13.516667  21.000000  ...  156.247      531,100.527         76.173\n",
            "2011  29.658333  13.975000  21.820833  ...  161.515      554,017.405         78.607\n",
            "2012  29.138333  14.504167  21.866667  ...  164.340      536,631.846         71.996\n",
            "2013  29.150000  14.708333  21.925000  ...  177.917      548,655.579         70.937\n",
            "2014  29.325000  14.825000  22.075000  ...  185.862       553,531.63         67.056\n",
            "2015  29.000000  15.100000  22.100000  ...  200.840      552,405.777         65.553\n",
            "2016  29.816667  15.041667  22.433333  ...  217.012      600,401.409         68.086\n",
            "2017  30.116667  14.966667  22.550000  ...  257.089      552,378.593         71.886\n",
            "2018  29.558333  14.850000  22.208333  ...  278.664      569,873.710         70.733\n",
            "2019  29.900000  14.900000  22.400000  ...  400.916       534,688.60         65.582\n",
            "\n",
            "[30 rows x 41 columns]\n"
          ]
        }
      ]
    },
    {
      "cell_type": "code",
      "metadata": {
        "id": "u9vhq93cWMCj"
      },
      "source": [
        "from info_gain import info_gain\n",
        "\n",
        "print(info_gain.info_gain_ratio(df_completo))"
      ],
      "execution_count": null,
      "outputs": []
    }
  ]
}