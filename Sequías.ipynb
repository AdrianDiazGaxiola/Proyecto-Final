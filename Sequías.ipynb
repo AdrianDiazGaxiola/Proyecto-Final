{
  "nbformat": 4,
  "nbformat_minor": 0,
  "metadata": {
    "colab": {
      "name": "Sequías.ipynb",
      "provenance": [],
      "collapsed_sections": [],
      "authorship_tag": "ABX9TyOeAJ1O4U6iUvg2QSYFLx+d",
      "include_colab_link": true
    },
    "kernelspec": {
      "name": "python3",
      "display_name": "Python 3"
    },
    "language_info": {
      "name": "python"
    }
  },
  "cells": [
    {
      "cell_type": "markdown",
      "metadata": {
        "id": "view-in-github",
        "colab_type": "text"
      },
      "source": [
        "<a href=\"https://colab.research.google.com/github/AdrianDiazGaxiola/Proyecto-Final/blob/main/Sequ%C3%ADas.ipynb\" target=\"_parent\"><img src=\"https://colab.research.google.com/assets/colab-badge.svg\" alt=\"Open In Colab\"/></a>"
      ]
    },
    {
      "cell_type": "markdown",
      "metadata": {
        "id": "cQyE0KUw4Ky1"
      },
      "source": [
        "# Este programa se empleará para limpiar el DataFrame con los datos de las sequías en México"
      ]
    },
    {
      "cell_type": "code",
      "metadata": {
        "colab": {
          "base_uri": "https://localhost:8080/"
        },
        "id": "2oGhk2EY4GYX",
        "outputId": "ab72b4c3-7132-4826-9c32-ce25e18026f1"
      },
      "source": [
        "!pip install numpy\n",
        "!pip install pandas\n",
        "!pip install openpyxl"
      ],
      "execution_count": 1,
      "outputs": [
        {
          "output_type": "stream",
          "name": "stdout",
          "text": [
            "Requirement already satisfied: numpy in /usr/local/lib/python3.7/dist-packages (1.19.5)\n",
            "Requirement already satisfied: pandas in /usr/local/lib/python3.7/dist-packages (1.1.5)\n",
            "Requirement already satisfied: pytz>=2017.2 in /usr/local/lib/python3.7/dist-packages (from pandas) (2018.9)\n",
            "Requirement already satisfied: python-dateutil>=2.7.3 in /usr/local/lib/python3.7/dist-packages (from pandas) (2.8.2)\n",
            "Requirement already satisfied: numpy>=1.15.4 in /usr/local/lib/python3.7/dist-packages (from pandas) (1.19.5)\n",
            "Requirement already satisfied: six>=1.5 in /usr/local/lib/python3.7/dist-packages (from python-dateutil>=2.7.3->pandas) (1.15.0)\n",
            "Requirement already satisfied: openpyxl in /usr/local/lib/python3.7/dist-packages (2.5.9)\n",
            "Requirement already satisfied: jdcal in /usr/local/lib/python3.7/dist-packages (from openpyxl) (1.4.1)\n",
            "Requirement already satisfied: et-xmlfile in /usr/local/lib/python3.7/dist-packages (from openpyxl) (1.1.0)\n"
          ]
        }
      ]
    },
    {
      "cell_type": "code",
      "metadata": {
        "id": "RAk1IUrCm5i7"
      },
      "source": [
        "import pandas as pd\n",
        "import matplotlib.pyplot as plt\n",
        "import seaborn as sns\n",
        "from sklearn.linear_model import LinearRegression \n",
        "from sklearn.preprocessing import MinMaxScaler"
      ],
      "execution_count": 40,
      "outputs": []
    },
    {
      "cell_type": "markdown",
      "metadata": {
        "id": "bDUwt3aj4JTV"
      },
      "source": [
        "Se copia el archivo de github con los datos a un dataframe"
      ]
    },
    {
      "cell_type": "code",
      "metadata": {
        "colab": {
          "base_uri": "https://localhost:8080/"
        },
        "id": "tBgOA2AC5Cqu",
        "outputId": "55c16b77-ac18-4a4e-c120-272a89371892"
      },
      "source": [
        "url = \"https://raw.githubusercontent.com/AdrianDiazGaxiola/Proyecto-Final/main/Data/Sequ%C3%ADas.csv\"\n",
        "Seq = pd.read_csv(url, encoding='ISO-8859-1')\n",
        "\n",
        "print(Seq)"
      ],
      "execution_count": 2,
      "outputs": [
        {
          "output_type": "stream",
          "name": "stdout",
          "text": [
            "      Clave del Municipio  ... Total (D0 a D4)\n",
            "0                  1001.0  ...            65.0\n",
            "1                  1002.0  ...            64.0\n",
            "2                  1003.0  ...            71.0\n",
            "3                  1004.0  ...            61.0\n",
            "4                  1005.0  ...            66.0\n",
            "...                   ...  ...             ...\n",
            "2460              32056.0  ...            75.0\n",
            "2461              32057.0  ...            73.0\n",
            "2462              32058.0  ...           121.0\n",
            "2463                  NaN  ...             NaN\n",
            "2464                  NaN  ...             NaN\n",
            "\n",
            "[2465 rows x 307 columns]\n"
          ]
        },
        {
          "output_type": "stream",
          "name": "stderr",
          "text": [
            "/usr/local/lib/python3.7/dist-packages/IPython/core/interactiveshell.py:2718: DtypeWarning: Columns (92,93,131,132,301) have mixed types.Specify dtype option on import or set low_memory=False.\n",
            "  interactivity=interactivity, compiler=compiler, result=result)\n"
          ]
        }
      ]
    },
    {
      "cell_type": "code",
      "metadata": {
        "colab": {
          "base_uri": "https://localhost:8080/",
          "height": 377
        },
        "id": "dfVroUPWGUbS",
        "outputId": "b774b8b5-a671-41e6-df31-ab44ac2e51a3"
      },
      "source": [
        "Seq.head()"
      ],
      "execution_count": 3,
      "outputs": [
        {
          "output_type": "execute_result",
          "data": {
            "text/html": [
              "<div>\n",
              "<style scoped>\n",
              "    .dataframe tbody tr th:only-of-type {\n",
              "        vertical-align: middle;\n",
              "    }\n",
              "\n",
              "    .dataframe tbody tr th {\n",
              "        vertical-align: top;\n",
              "    }\n",
              "\n",
              "    .dataframe thead th {\n",
              "        text-align: right;\n",
              "    }\n",
              "</style>\n",
              "<table border=\"1\" class=\"dataframe\">\n",
              "  <thead>\n",
              "    <tr style=\"text-align: right;\">\n",
              "      <th></th>\n",
              "      <th>Clave del Municipio</th>\n",
              "      <th>Nombre del Municipio</th>\n",
              "      <th>Entidad</th>\n",
              "      <th>2003-01-31</th>\n",
              "      <th>2003-02-28</th>\n",
              "      <th>2003-03-31</th>\n",
              "      <th>2003-04-30</th>\n",
              "      <th>2003-05-31</th>\n",
              "      <th>2003-06-30</th>\n",
              "      <th>2003-07-31</th>\n",
              "      <th>2003-09-30</th>\n",
              "      <th>2003-10-31</th>\n",
              "      <th>2003-11-30</th>\n",
              "      <th>2003-12-31</th>\n",
              "      <th>2004-01-31</th>\n",
              "      <th>2004-03-31</th>\n",
              "      <th>2004-04-30</th>\n",
              "      <th>2004-05-31</th>\n",
              "      <th>2004-06-30</th>\n",
              "      <th>2004-07-31</th>\n",
              "      <th>2004-08-31</th>\n",
              "      <th>2004-09-30</th>\n",
              "      <th>2004-10-31</th>\n",
              "      <th>2004-11-30</th>\n",
              "      <th>2004-12-31</th>\n",
              "      <th>2005-01-31</th>\n",
              "      <th>2005-02-28</th>\n",
              "      <th>2005-03-31</th>\n",
              "      <th>2005-04-30</th>\n",
              "      <th>2005-05-31</th>\n",
              "      <th>2005-06-30</th>\n",
              "      <th>2005-07-31</th>\n",
              "      <th>2005-08-31</th>\n",
              "      <th>2005-09-30</th>\n",
              "      <th>2005-10-31</th>\n",
              "      <th>2005-11-30</th>\n",
              "      <th>2005-12-31</th>\n",
              "      <th>2006-01-31</th>\n",
              "      <th>2006-02-28</th>\n",
              "      <th>2006-03-31</th>\n",
              "      <th>...</th>\n",
              "      <th>2019-08-31</th>\n",
              "      <th>2019-09-15</th>\n",
              "      <th>2019-09-30</th>\n",
              "      <th>2019-10-15</th>\n",
              "      <th>2019-10-31</th>\n",
              "      <th>2019-11-15</th>\n",
              "      <th>2019-11-30</th>\n",
              "      <th>2019-12-15</th>\n",
              "      <th>2019-12-31</th>\n",
              "      <th>2020-01-15</th>\n",
              "      <th>2020-01-31</th>\n",
              "      <th>2020-02-15</th>\n",
              "      <th>2020-02-29</th>\n",
              "      <th>2020-03-15</th>\n",
              "      <th>2020-03-31</th>\n",
              "      <th>2020-04-15</th>\n",
              "      <th>2020-04-30</th>\n",
              "      <th>2020-05-15</th>\n",
              "      <th>2020-05-31</th>\n",
              "      <th>2020-06-15</th>\n",
              "      <th>2020-06-30</th>\n",
              "      <th>2020-07-15</th>\n",
              "      <th>2020-07-31</th>\n",
              "      <th>2020-08-15</th>\n",
              "      <th>2020-08-31</th>\n",
              "      <th>2020-09-15</th>\n",
              "      <th>2020-09-30</th>\n",
              "      <th>2020-10-15</th>\n",
              "      <th>2020-10-31</th>\n",
              "      <th>2020-11-15</th>\n",
              "      <th>2020-11-30</th>\n",
              "      <th>2020-12-15</th>\n",
              "      <th>2020-12-31</th>\n",
              "      <th>Unnamed: 300</th>\n",
              "      <th>Anormalmente Seco (D0)</th>\n",
              "      <th>Sequía Moderada (D1)</th>\n",
              "      <th>Sequía Severa (D2)</th>\n",
              "      <th>Sequía Extrema (D3)</th>\n",
              "      <th>Sequía Excepcional (D4)</th>\n",
              "      <th>Total (D0 a D4)</th>\n",
              "    </tr>\n",
              "  </thead>\n",
              "  <tbody>\n",
              "    <tr>\n",
              "      <th>0</th>\n",
              "      <td>1001.0</td>\n",
              "      <td>Aguascalientes</td>\n",
              "      <td>Aguascalientes</td>\n",
              "      <td>NaN</td>\n",
              "      <td>NaN</td>\n",
              "      <td>NaN</td>\n",
              "      <td>NaN</td>\n",
              "      <td>NaN</td>\n",
              "      <td>NaN</td>\n",
              "      <td>NaN</td>\n",
              "      <td>NaN</td>\n",
              "      <td>NaN</td>\n",
              "      <td>NaN</td>\n",
              "      <td>NaN</td>\n",
              "      <td>NaN</td>\n",
              "      <td>NaN</td>\n",
              "      <td>NaN</td>\n",
              "      <td>NaN</td>\n",
              "      <td>NaN</td>\n",
              "      <td>NaN</td>\n",
              "      <td>NaN</td>\n",
              "      <td>NaN</td>\n",
              "      <td>NaN</td>\n",
              "      <td>NaN</td>\n",
              "      <td>NaN</td>\n",
              "      <td>NaN</td>\n",
              "      <td>NaN</td>\n",
              "      <td>NaN</td>\n",
              "      <td>NaN</td>\n",
              "      <td>NaN</td>\n",
              "      <td>Anormalmente Seco</td>\n",
              "      <td>NaN</td>\n",
              "      <td>NaN</td>\n",
              "      <td>NaN</td>\n",
              "      <td>NaN</td>\n",
              "      <td>NaN</td>\n",
              "      <td>Anormalmente Seco</td>\n",
              "      <td>Anormalmente Seco</td>\n",
              "      <td>Sequía Moderada</td>\n",
              "      <td>Sequía Severa</td>\n",
              "      <td>...</td>\n",
              "      <td>Anormalmente Seco</td>\n",
              "      <td>Anormalmente Seco</td>\n",
              "      <td>Anormalmente Seco</td>\n",
              "      <td>Anormalmente Seco</td>\n",
              "      <td>Anormalmente Seco</td>\n",
              "      <td>NaN</td>\n",
              "      <td>NaN</td>\n",
              "      <td>NaN</td>\n",
              "      <td>NaN</td>\n",
              "      <td>NaN</td>\n",
              "      <td>NaN</td>\n",
              "      <td>NaN</td>\n",
              "      <td>NaN</td>\n",
              "      <td>NaN</td>\n",
              "      <td>NaN</td>\n",
              "      <td>Anormalmente Seco</td>\n",
              "      <td>NaN</td>\n",
              "      <td>NaN</td>\n",
              "      <td>NaN</td>\n",
              "      <td>NaN</td>\n",
              "      <td>NaN</td>\n",
              "      <td>Anormalmente Seco</td>\n",
              "      <td>NaN</td>\n",
              "      <td>NaN</td>\n",
              "      <td>NaN</td>\n",
              "      <td>NaN</td>\n",
              "      <td>NaN</td>\n",
              "      <td>NaN</td>\n",
              "      <td>Anormalmente Seco</td>\n",
              "      <td>Anormalmente Seco</td>\n",
              "      <td>Sequía Moderada</td>\n",
              "      <td>Sequía Moderada</td>\n",
              "      <td>Sequía Moderada</td>\n",
              "      <td>NaN</td>\n",
              "      <td>33</td>\n",
              "      <td>22.0</td>\n",
              "      <td>4.0</td>\n",
              "      <td>5.0</td>\n",
              "      <td>1.0</td>\n",
              "      <td>65.0</td>\n",
              "    </tr>\n",
              "    <tr>\n",
              "      <th>1</th>\n",
              "      <td>1002.0</td>\n",
              "      <td>Asientos</td>\n",
              "      <td>Aguascalientes</td>\n",
              "      <td>NaN</td>\n",
              "      <td>NaN</td>\n",
              "      <td>NaN</td>\n",
              "      <td>NaN</td>\n",
              "      <td>NaN</td>\n",
              "      <td>NaN</td>\n",
              "      <td>NaN</td>\n",
              "      <td>NaN</td>\n",
              "      <td>NaN</td>\n",
              "      <td>NaN</td>\n",
              "      <td>NaN</td>\n",
              "      <td>NaN</td>\n",
              "      <td>NaN</td>\n",
              "      <td>NaN</td>\n",
              "      <td>NaN</td>\n",
              "      <td>NaN</td>\n",
              "      <td>NaN</td>\n",
              "      <td>NaN</td>\n",
              "      <td>NaN</td>\n",
              "      <td>NaN</td>\n",
              "      <td>NaN</td>\n",
              "      <td>NaN</td>\n",
              "      <td>NaN</td>\n",
              "      <td>NaN</td>\n",
              "      <td>NaN</td>\n",
              "      <td>NaN</td>\n",
              "      <td>NaN</td>\n",
              "      <td>Anormalmente Seco</td>\n",
              "      <td>NaN</td>\n",
              "      <td>NaN</td>\n",
              "      <td>NaN</td>\n",
              "      <td>NaN</td>\n",
              "      <td>NaN</td>\n",
              "      <td>Anormalmente Seco</td>\n",
              "      <td>Anormalmente Seco</td>\n",
              "      <td>Sequía Moderada</td>\n",
              "      <td>Sequía Moderada</td>\n",
              "      <td>...</td>\n",
              "      <td>Anormalmente Seco</td>\n",
              "      <td>Anormalmente Seco</td>\n",
              "      <td>Sequía Moderada</td>\n",
              "      <td>Sequía Moderada</td>\n",
              "      <td>Sequía Moderada</td>\n",
              "      <td>Anormalmente Seco</td>\n",
              "      <td>NaN</td>\n",
              "      <td>NaN</td>\n",
              "      <td>NaN</td>\n",
              "      <td>NaN</td>\n",
              "      <td>NaN</td>\n",
              "      <td>NaN</td>\n",
              "      <td>NaN</td>\n",
              "      <td>NaN</td>\n",
              "      <td>NaN</td>\n",
              "      <td>NaN</td>\n",
              "      <td>NaN</td>\n",
              "      <td>NaN</td>\n",
              "      <td>NaN</td>\n",
              "      <td>NaN</td>\n",
              "      <td>NaN</td>\n",
              "      <td>NaN</td>\n",
              "      <td>NaN</td>\n",
              "      <td>NaN</td>\n",
              "      <td>NaN</td>\n",
              "      <td>NaN</td>\n",
              "      <td>NaN</td>\n",
              "      <td>NaN</td>\n",
              "      <td>Anormalmente Seco</td>\n",
              "      <td>Anormalmente Seco</td>\n",
              "      <td>Sequía Moderada</td>\n",
              "      <td>Sequía Moderada</td>\n",
              "      <td>Sequía Moderada</td>\n",
              "      <td>NaN</td>\n",
              "      <td>33</td>\n",
              "      <td>19.0</td>\n",
              "      <td>8.0</td>\n",
              "      <td>4.0</td>\n",
              "      <td>0.0</td>\n",
              "      <td>64.0</td>\n",
              "    </tr>\n",
              "    <tr>\n",
              "      <th>2</th>\n",
              "      <td>1003.0</td>\n",
              "      <td>Calvillo</td>\n",
              "      <td>Aguascalientes</td>\n",
              "      <td>NaN</td>\n",
              "      <td>NaN</td>\n",
              "      <td>NaN</td>\n",
              "      <td>NaN</td>\n",
              "      <td>NaN</td>\n",
              "      <td>NaN</td>\n",
              "      <td>NaN</td>\n",
              "      <td>NaN</td>\n",
              "      <td>NaN</td>\n",
              "      <td>NaN</td>\n",
              "      <td>NaN</td>\n",
              "      <td>NaN</td>\n",
              "      <td>NaN</td>\n",
              "      <td>NaN</td>\n",
              "      <td>NaN</td>\n",
              "      <td>NaN</td>\n",
              "      <td>NaN</td>\n",
              "      <td>NaN</td>\n",
              "      <td>NaN</td>\n",
              "      <td>NaN</td>\n",
              "      <td>NaN</td>\n",
              "      <td>NaN</td>\n",
              "      <td>NaN</td>\n",
              "      <td>NaN</td>\n",
              "      <td>NaN</td>\n",
              "      <td>NaN</td>\n",
              "      <td>NaN</td>\n",
              "      <td>Anormalmente Seco</td>\n",
              "      <td>NaN</td>\n",
              "      <td>NaN</td>\n",
              "      <td>NaN</td>\n",
              "      <td>NaN</td>\n",
              "      <td>NaN</td>\n",
              "      <td>Anormalmente Seco</td>\n",
              "      <td>Anormalmente Seco</td>\n",
              "      <td>Sequía Moderada</td>\n",
              "      <td>Sequía Severa</td>\n",
              "      <td>...</td>\n",
              "      <td>Anormalmente Seco</td>\n",
              "      <td>Anormalmente Seco</td>\n",
              "      <td>Anormalmente Seco</td>\n",
              "      <td>NaN</td>\n",
              "      <td>NaN</td>\n",
              "      <td>NaN</td>\n",
              "      <td>NaN</td>\n",
              "      <td>NaN</td>\n",
              "      <td>NaN</td>\n",
              "      <td>NaN</td>\n",
              "      <td>NaN</td>\n",
              "      <td>NaN</td>\n",
              "      <td>NaN</td>\n",
              "      <td>NaN</td>\n",
              "      <td>NaN</td>\n",
              "      <td>Anormalmente Seco</td>\n",
              "      <td>NaN</td>\n",
              "      <td>NaN</td>\n",
              "      <td>NaN</td>\n",
              "      <td>Anormalmente Seco</td>\n",
              "      <td>Anormalmente Seco</td>\n",
              "      <td>Anormalmente Seco</td>\n",
              "      <td>NaN</td>\n",
              "      <td>NaN</td>\n",
              "      <td>Anormalmente Seco</td>\n",
              "      <td>NaN</td>\n",
              "      <td>Anormalmente Seco</td>\n",
              "      <td>Anormalmente Seco</td>\n",
              "      <td>Anormalmente Seco</td>\n",
              "      <td>Anormalmente Seco</td>\n",
              "      <td>Anormalmente Seco</td>\n",
              "      <td>Anormalmente Seco</td>\n",
              "      <td>Sequía Moderada</td>\n",
              "      <td>NaN</td>\n",
              "      <td>38</td>\n",
              "      <td>20.0</td>\n",
              "      <td>7.0</td>\n",
              "      <td>4.0</td>\n",
              "      <td>2.0</td>\n",
              "      <td>71.0</td>\n",
              "    </tr>\n",
              "    <tr>\n",
              "      <th>3</th>\n",
              "      <td>1004.0</td>\n",
              "      <td>Cosío</td>\n",
              "      <td>Aguascalientes</td>\n",
              "      <td>NaN</td>\n",
              "      <td>NaN</td>\n",
              "      <td>NaN</td>\n",
              "      <td>NaN</td>\n",
              "      <td>NaN</td>\n",
              "      <td>NaN</td>\n",
              "      <td>NaN</td>\n",
              "      <td>NaN</td>\n",
              "      <td>NaN</td>\n",
              "      <td>NaN</td>\n",
              "      <td>NaN</td>\n",
              "      <td>NaN</td>\n",
              "      <td>NaN</td>\n",
              "      <td>NaN</td>\n",
              "      <td>NaN</td>\n",
              "      <td>NaN</td>\n",
              "      <td>NaN</td>\n",
              "      <td>NaN</td>\n",
              "      <td>NaN</td>\n",
              "      <td>NaN</td>\n",
              "      <td>NaN</td>\n",
              "      <td>NaN</td>\n",
              "      <td>NaN</td>\n",
              "      <td>NaN</td>\n",
              "      <td>NaN</td>\n",
              "      <td>NaN</td>\n",
              "      <td>NaN</td>\n",
              "      <td>Anormalmente Seco</td>\n",
              "      <td>NaN</td>\n",
              "      <td>NaN</td>\n",
              "      <td>NaN</td>\n",
              "      <td>NaN</td>\n",
              "      <td>NaN</td>\n",
              "      <td>Anormalmente Seco</td>\n",
              "      <td>Anormalmente Seco</td>\n",
              "      <td>Sequía Moderada</td>\n",
              "      <td>Sequía Moderada</td>\n",
              "      <td>...</td>\n",
              "      <td>Sequía Moderada</td>\n",
              "      <td>Sequía Moderada</td>\n",
              "      <td>Sequía Moderada</td>\n",
              "      <td>Sequía Moderada</td>\n",
              "      <td>Sequía Moderada</td>\n",
              "      <td>Anormalmente Seco</td>\n",
              "      <td>NaN</td>\n",
              "      <td>NaN</td>\n",
              "      <td>NaN</td>\n",
              "      <td>NaN</td>\n",
              "      <td>NaN</td>\n",
              "      <td>NaN</td>\n",
              "      <td>NaN</td>\n",
              "      <td>NaN</td>\n",
              "      <td>NaN</td>\n",
              "      <td>NaN</td>\n",
              "      <td>NaN</td>\n",
              "      <td>NaN</td>\n",
              "      <td>NaN</td>\n",
              "      <td>NaN</td>\n",
              "      <td>NaN</td>\n",
              "      <td>NaN</td>\n",
              "      <td>NaN</td>\n",
              "      <td>NaN</td>\n",
              "      <td>NaN</td>\n",
              "      <td>NaN</td>\n",
              "      <td>NaN</td>\n",
              "      <td>Anormalmente Seco</td>\n",
              "      <td>Anormalmente Seco</td>\n",
              "      <td>Anormalmente Seco</td>\n",
              "      <td>Anormalmente Seco</td>\n",
              "      <td>Anormalmente Seco</td>\n",
              "      <td>Sequía Moderada</td>\n",
              "      <td>NaN</td>\n",
              "      <td>26</td>\n",
              "      <td>23.0</td>\n",
              "      <td>9.0</td>\n",
              "      <td>3.0</td>\n",
              "      <td>0.0</td>\n",
              "      <td>61.0</td>\n",
              "    </tr>\n",
              "    <tr>\n",
              "      <th>4</th>\n",
              "      <td>1005.0</td>\n",
              "      <td>Jesús María</td>\n",
              "      <td>Aguascalientes</td>\n",
              "      <td>NaN</td>\n",
              "      <td>NaN</td>\n",
              "      <td>NaN</td>\n",
              "      <td>NaN</td>\n",
              "      <td>NaN</td>\n",
              "      <td>NaN</td>\n",
              "      <td>NaN</td>\n",
              "      <td>NaN</td>\n",
              "      <td>NaN</td>\n",
              "      <td>NaN</td>\n",
              "      <td>NaN</td>\n",
              "      <td>NaN</td>\n",
              "      <td>NaN</td>\n",
              "      <td>NaN</td>\n",
              "      <td>NaN</td>\n",
              "      <td>NaN</td>\n",
              "      <td>NaN</td>\n",
              "      <td>NaN</td>\n",
              "      <td>NaN</td>\n",
              "      <td>NaN</td>\n",
              "      <td>NaN</td>\n",
              "      <td>NaN</td>\n",
              "      <td>NaN</td>\n",
              "      <td>NaN</td>\n",
              "      <td>NaN</td>\n",
              "      <td>NaN</td>\n",
              "      <td>NaN</td>\n",
              "      <td>Anormalmente Seco</td>\n",
              "      <td>NaN</td>\n",
              "      <td>NaN</td>\n",
              "      <td>NaN</td>\n",
              "      <td>NaN</td>\n",
              "      <td>NaN</td>\n",
              "      <td>Anormalmente Seco</td>\n",
              "      <td>Anormalmente Seco</td>\n",
              "      <td>Sequía Moderada</td>\n",
              "      <td>Sequía Severa</td>\n",
              "      <td>...</td>\n",
              "      <td>Anormalmente Seco</td>\n",
              "      <td>Anormalmente Seco</td>\n",
              "      <td>Anormalmente Seco</td>\n",
              "      <td>NaN</td>\n",
              "      <td>NaN</td>\n",
              "      <td>NaN</td>\n",
              "      <td>NaN</td>\n",
              "      <td>NaN</td>\n",
              "      <td>NaN</td>\n",
              "      <td>NaN</td>\n",
              "      <td>NaN</td>\n",
              "      <td>NaN</td>\n",
              "      <td>NaN</td>\n",
              "      <td>NaN</td>\n",
              "      <td>NaN</td>\n",
              "      <td>Anormalmente Seco</td>\n",
              "      <td>NaN</td>\n",
              "      <td>NaN</td>\n",
              "      <td>NaN</td>\n",
              "      <td>NaN</td>\n",
              "      <td>Anormalmente Seco</td>\n",
              "      <td>Anormalmente Seco</td>\n",
              "      <td>NaN</td>\n",
              "      <td>NaN</td>\n",
              "      <td>NaN</td>\n",
              "      <td>NaN</td>\n",
              "      <td>NaN</td>\n",
              "      <td>NaN</td>\n",
              "      <td>Anormalmente Seco</td>\n",
              "      <td>Anormalmente Seco</td>\n",
              "      <td>Sequía Moderada</td>\n",
              "      <td>Sequía Moderada</td>\n",
              "      <td>Sequía Moderada</td>\n",
              "      <td>NaN</td>\n",
              "      <td>33</td>\n",
              "      <td>21.0</td>\n",
              "      <td>6.0</td>\n",
              "      <td>4.0</td>\n",
              "      <td>2.0</td>\n",
              "      <td>66.0</td>\n",
              "    </tr>\n",
              "  </tbody>\n",
              "</table>\n",
              "<p>5 rows × 307 columns</p>\n",
              "</div>"
            ],
            "text/plain": [
              "   Clave del Municipio  ... Total (D0 a D4)\n",
              "0               1001.0  ...            65.0\n",
              "1               1002.0  ...            64.0\n",
              "2               1003.0  ...            71.0\n",
              "3               1004.0  ...            61.0\n",
              "4               1005.0  ...            66.0\n",
              "\n",
              "[5 rows x 307 columns]"
            ]
          },
          "metadata": {},
          "execution_count": 3
        }
      ]
    },
    {
      "cell_type": "markdown",
      "metadata": {
        "id": "nd7gi9Yc-Ud1"
      },
      "source": [
        "Se eliminan las columnas que no se utilizarán"
      ]
    },
    {
      "cell_type": "code",
      "metadata": {
        "id": "jLv3BG-5_NsB"
      },
      "source": [
        "df = Seq\n",
        "\n",
        "df = df.drop(columns={\"Clave del Municipio\", \"Nombre del Municipio\", \"Anormalmente Seco (D0)\", \"Sequía Moderada (D1)\", \"Sequía Severa (D2)\", \"Sequía Extrema (D3)\", \"Sequía Excepcional (D4)\", \"Total (D0 a D4)\",  })\n",
        "\n",
        "#Se elimina la columna vacía\n",
        "df = df.drop(Seq.columns[299],axis=1)"
      ],
      "execution_count": 4,
      "outputs": []
    },
    {
      "cell_type": "markdown",
      "metadata": {
        "id": "V0KzgKRF-Op9"
      },
      "source": [
        "Se renombran las clasificaciones de las sequías y se abrevian algunos estados "
      ]
    },
    {
      "cell_type": "code",
      "metadata": {
        "id": "PhfjrgVlMK-f"
      },
      "source": [
        "#Se abrevian las clasificaciones de las sequías\n",
        "df = df.replace(to_replace =\"Anormalmente Seco\",\n",
        "                 value =\"D0\")\n",
        "df = df.replace(to_replace =\"Sequía Moderada\",\n",
        "                 value =\"D1\")\n",
        "df = df.replace(to_replace =\"Sequía Severa\",\n",
        "                 value =\"D2\")\n",
        "df = df.replace(to_replace =\"Sequía Extrema\",\n",
        "                 value =\"D3\")\n",
        "df = df.replace(to_replace =\"Sequía Excepcional\",\n",
        "                 value =\"D4\")\n",
        "\n",
        "#Se abrevian los nombres de los estados\n",
        "df = df.replace(to_replace = \"Veracruz de Ignacio de la Llave\",\n",
        "                value = \"Veracruz\")\n",
        "df = df.replace(to_replace = \"Michoacán de Ocampo\",\n",
        "                value = \"Michoacán\")\n",
        "df = df.replace(to_replace = \"Coahuila de Zaragoza\",\n",
        "                value = \"Coahuila\")\n",
        "df = df.replace(to_replace = \"Querétaro de Arteaga\",\n",
        "                value = \"Querétaro\")\n"
      ],
      "execution_count": 5,
      "outputs": []
    },
    {
      "cell_type": "code",
      "metadata": {
        "colab": {
          "base_uri": "https://localhost:8080/"
        },
        "id": "ynwuLfNNIRpi",
        "outputId": "7d6fa00c-e2ec-4d4c-e3c7-8fe7edf654e8"
      },
      "source": [
        "#Se reacomoda el dataframe, a modo de tener en una columna las fechas de las tormentas\n",
        "df1 = (df.set_index([\"Entidad\"])\n",
        "         .stack()\n",
        "         .reset_index(name='Sequía')\n",
        "         .rename(columns={'level_1':'Fecha'}))\n",
        "\n",
        "#Se convierte a tipo fecha los valores en la columna de las fechas\n",
        "df1['Fecha'] = pd.to_datetime(df1['Fecha'], errors='coerce')\n",
        "\n",
        "#Se crea una nueva columna para tener por separado día, mes y año\n",
        "df1['Día'] = df1['Fecha'].dt.day\n",
        "df1['Mes'] = df1['Fecha'].dt.month\n",
        "df1['Anio'] = df1['Fecha'].dt.year\n",
        "\n",
        "#Se ordena el dataframe por fechas\n",
        "df1 = df1.sort_values(by='Fecha')\n",
        "\n",
        "df1 = df1.drop(columns={'Fecha', 'Día'})\n",
        "\n",
        "print (df1.head(30))"
      ],
      "execution_count": 6,
      "outputs": [
        {
          "output_type": "stream",
          "name": "stdout",
          "text": [
            "                 Entidad Sequía  Mes  Anio\n",
            "58487           Guerrero     D2    1  2003\n",
            "149438            Oaxaca     D1    1  2003\n",
            "149348            Oaxaca     D0    1  2003\n",
            "38072   Ciudad de México     D0    1  2003\n",
            "149228            Oaxaca     D0    1  2003\n",
            "149095            Oaxaca     D1    1  2003\n",
            "238738           Tabasco     D1    1  2003\n",
            "149021            Oaxaca     D1    1  2003\n",
            "38166            Durango     D0    1  2003\n",
            "259088          Veracruz     D0    1  2003\n",
            "148892            Oaxaca     D1    1  2003\n",
            "238870        Tamaulipas     D0    1  2003\n",
            "148570            Oaxaca     D1    1  2003\n",
            "239007        Tamaulipas     D0    1  2003\n",
            "148472            Oaxaca     D3    1  2003\n",
            "38292            Durango     D1    1  2003\n",
            "239181        Tamaulipas     D0    1  2003\n",
            "148377            Oaxaca     D3    1  2003\n",
            "240354        Tamaulipas     D1    1  2003\n",
            "38572            Durango     D0    1  2003\n",
            "147191            Oaxaca     D2    1  2003\n",
            "240211        Tamaulipas     D0    1  2003\n",
            "239968        Tamaulipas     D0    1  2003\n",
            "147643            Oaxaca     D0    1  2003\n",
            "149543            Oaxaca     D1    1  2003\n",
            "147701            Oaxaca     D0    1  2003\n",
            "38443            Durango     D0    1  2003\n",
            "148055            Oaxaca     D3    1  2003\n",
            "239333        Tamaulipas     D0    1  2003\n",
            "148152            Oaxaca     D0    1  2003\n"
          ]
        }
      ]
    },
    {
      "cell_type": "markdown",
      "metadata": {
        "id": "zVaG7GEKsMUv"
      },
      "source": [
        "Se ordenan las filas de acuerdo a entidad, año, mes, y número de tormentas de acuerdo a su clasificación"
      ]
    },
    {
      "cell_type": "code",
      "metadata": {
        "colab": {
          "base_uri": "https://localhost:8080/"
        },
        "id": "KspVwuGz6U-A",
        "outputId": "3a6d0ab4-da87-4fd5-9423-f2bb90f84809"
      },
      "source": [
        "anios = range(2003, 2021)\n",
        "estados_comp = ['Aguascalientes', 'Baja California', 'Baja California Sur', 'Campeche', 'Coahuila', 'Colima', 'Chiapas', 'Chihuahua', 'Ciudad de Mexico', 'Durango', 'Guanajuato', 'Guerrero', 'Hidalgo', 'Jalisco', 'Estado de Mexico', 'Michoacan', 'Morelos', 'Nayarit', 'Nuevo Leon', 'Oaxaca', 'Puebla', 'Queretaro', 'Quintana Roo', 'San Luis Potosi', 'Sinaloa', 'Sonora', 'Tabasco', 'Tamaulipas', 'Tlaxcala', 'Veracruz', 'Yucatan', 'Zacatecas']\n",
        "\n",
        "meses = list(range(1, 13))\n",
        "\n",
        "df3 = pd.DataFrame(columns={\"Entidad\", \"Anio\", \"Mes\", \"D0\", \"D1\", \"D2\", \"D3\", \"D4\", \"Total Sequías\"})\n",
        "\n",
        "l = 0\n",
        "for i in anios:\n",
        "  for j in meses:\n",
        "    for k in estados_comp:\n",
        "      df2 = df1[(df1['Entidad']==k) & (df1['Anio']==i) & (df1['Mes']==j)]\n",
        "\n",
        "      df3.at[l, \"Entidad\"] = k\n",
        "      df3.at[l, \"Anio\"] = i\n",
        "      df3.at[l, \"Mes\"] = j\n",
        "\n",
        "      #Se copia la cantidad de tormentas por clasificación que aparecen en la entidad, mes y año correspondientes\n",
        "      df3.at[l, \"D0\"] = (df2.Sequía=='D0').sum().sum()\n",
        "      df3.at[l, \"D1\"] = (df2.Sequía=='D1').sum().sum()\n",
        "      df3.at[l, \"D2\"] = (df2.Sequía=='D2').sum().sum()\n",
        "      df3.at[l, \"D3\"] = (df2.Sequía=='D3').sum().sum()\n",
        "      df3.at[l, \"D4\"] = (df2.Sequía=='D4').sum().sum()\n",
        "\n",
        "      #Se agrega un total de sequías, corespondiente a la suma de los cuatro tipos de sequías\n",
        "      df3.at[l, \"Total Sequías\"] = df3.at[l, \"D0\"] + df3.at[l, \"D1\"] + df3.at[l, \"D2\"] + df3.at[l, \"D3\"] + df3.at[l, \"D4\"]\n",
        "\n",
        "      l += 1\n",
        "\n",
        "#Se reordenan las columnas del dataframe\n",
        "df3 = df3[[\"Entidad\", \"Anio\", \"Mes\", \"D0\", \"D1\", \"D2\", \"D3\", \"D4\", \"Total Sequías\"]]\n",
        "\n",
        "print(df3)"
      ],
      "execution_count": 7,
      "outputs": [
        {
          "output_type": "stream",
          "name": "stdout",
          "text": [
            "                  Entidad  Anio Mes   D0  D1 D2 D3 D4 Total Sequías\n",
            "0          Aguascalientes  2003   1    0   0  0  0  0             0\n",
            "1         Baja California  2003   1    2   1  1  1  0             5\n",
            "2     Baja California Sur  2003   1    1   0  1  0  0             2\n",
            "3                Campeche  2003   1    6   0  0  0  0             6\n",
            "4                Coahuila  2003   1    7   3  5  0  0            15\n",
            "...                   ...   ...  ..  ...  .. .. .. ..           ...\n",
            "6907           Tamaulipas  2020  12    9  27  3  3  0            42\n",
            "6908             Tlaxcala  2020  12   28   0  0  0  0            28\n",
            "6909             Veracruz  2020  12  130  24  0  0  0           154\n",
            "6910              Yucatan  2020  12    0   0  0  0  0             0\n",
            "6911            Zacatecas  2020  12   16  37  5  0  0            58\n",
            "\n",
            "[6912 rows x 9 columns]\n"
          ]
        }
      ]
    },
    {
      "cell_type": "markdown",
      "metadata": {
        "id": "MX3oibZIfa2w"
      },
      "source": [
        "Dataframe con las sequías a nivel nacional y por mes"
      ]
    },
    {
      "cell_type": "code",
      "metadata": {
        "colab": {
          "base_uri": "https://localhost:8080/"
        },
        "id": "etBCj8qQe-RR",
        "outputId": "cc3e2f9c-2256-4913-ad48-58454b74bc97"
      },
      "source": [
        "anios = list(range(2003, 2021))\n",
        "\n",
        "df4 = pd.DataFrame(columns={\"Entidad\", \"Anio\", \"Mes\", \"D0\", \"D1\", \"D2\", \"D3\", \"D4\", \"Total_Sequías\"})\n",
        "\n",
        "j = 0\n",
        "for i in anios:\n",
        "  for k in meses:\n",
        "    df = df3[(df3[\"Anio\"]==i) & (df3['Mes']==k)]\n",
        "\n",
        "    df4.at[j, \"Entidad\"] = \"NAC\"\n",
        "    df4.at[j, \"Anio\"] = i\n",
        "    df4.at[j, \"Mes\"] = k\n",
        "    df4.at[j, \"D0\"] = (df.D0).sum().sum()\n",
        "    df4.at[j, \"D1\"] = (df.D1).sum().sum()\n",
        "    df4.at[j, \"D2\"] = (df.D2).sum().sum()\n",
        "    df4.at[j, \"D3\"] = (df.D3).sum().sum()\n",
        "    df4.at[j, \"D4\"] = (df.D4).sum().sum()\n",
        "    df4.at[j, \"Total_Sequías\"] = (df[\"Total Sequías\"]).sum().sum()\n",
        "\n",
        "    j += 1\n",
        "\n",
        "df4 = df4[[\"Entidad\", \"Anio\", \"Mes\", \"D0\", \"D1\", \"D2\", \"D3\", \"D4\", \"Total_Sequías\"]]\n",
        "print(df4)"
      ],
      "execution_count": 12,
      "outputs": [
        {
          "output_type": "stream",
          "name": "stdout",
          "text": [
            "    Entidad  Anio Mes    D0   D1   D2   D3  D4 Total_Sequías\n",
            "0       NAC  2003   1   648  335  149   61   4          1197\n",
            "1       NAC  2003   2   696  339  145   58   4          1242\n",
            "2       NAC  2003   3   637  347  147   57   4          1192\n",
            "3       NAC  2003   4   682  374  142   59   4          1261\n",
            "4       NAC  2003   5   682  374  142   59   4          1261\n",
            "..      ...   ...  ..   ...  ...  ...  ...  ..           ...\n",
            "211     NAC  2020   8  1437  660  311   69   0          2477\n",
            "212     NAC  2020   9  1206  709  297   59   0          2271\n",
            "213     NAC  2020  10  1050  783  339   92   0          2264\n",
            "214     NAC  2020  11   920  702  440  112  12          2186\n",
            "215     NAC  2020  12   483  374  207   84  12          1160\n",
            "\n",
            "[216 rows x 9 columns]\n"
          ]
        }
      ]
    },
    {
      "cell_type": "markdown",
      "metadata": {
        "id": "KW1PXh9s7TSM"
      },
      "source": [
        "Se crea un nuevo dataframe que solo contiene los datos a nivel nacional y por año"
      ]
    },
    {
      "cell_type": "code",
      "metadata": {
        "colab": {
          "base_uri": "https://localhost:8080/"
        },
        "id": "vaLesFjd2TTI",
        "outputId": "2a10e645-432a-406f-c642-adcb2deb785f"
      },
      "source": [
        "anios = list(range(2003, 2021))\n",
        "\n",
        "df4 = pd.DataFrame(columns={\"Entidad\", \"Anio\", \"Mes\", \"D0\", \"D1\", \"D2\", \"D3\", \"D4\", \"Total_Sequías\"})\n",
        "\n",
        "j = 0\n",
        "for i in anios:\n",
        "  df = df3[df3[\"Anio\"]==i]\n",
        "\n",
        "  df4.at[j, \"Entidad\"] = \"NAC\"\n",
        "  df4.at[j, \"Anio\"] = i\n",
        "  df4.at[j, \"Mes\"] = \"ANUAL\"\n",
        "  df4.at[j, \"D0\"] = (df.D0).sum().sum()\n",
        "  df4.at[j, \"D1\"] = (df.D1).sum().sum()\n",
        "  df4.at[j, \"D2\"] = (df.D2).sum().sum()\n",
        "  df4.at[j, \"D3\"] = (df.D3).sum().sum()\n",
        "  df4.at[j, \"D4\"] = (df.D4).sum().sum()\n",
        "  df4.at[j, \"Total_Sequías\"] = (df[\"Total Sequías\"]).sum().sum()\n",
        "\n",
        "  j += 1\n",
        "\n",
        "df4 = df4[[\"Entidad\", \"Anio\", \"Mes\", \"D0\", \"D1\", \"D2\", \"D3\", \"D4\", \"Total_Sequías\"]]\n",
        "print(df4)"
      ],
      "execution_count": 29,
      "outputs": [
        {
          "output_type": "stream",
          "name": "stdout",
          "text": [
            "   Entidad  Anio    Mes     D0    D1    D2    D3   D4 Total_Sequías\n",
            "0      NAC  2003  ANUAL   6131  2625  1026   448   30         10260\n",
            "1      NAC  2004  ANUAL   4358  1243    48    19    5          5673\n",
            "2      NAC  2005  ANUAL   6096  1954    89     1    0          8140\n",
            "3      NAC  2006  ANUAL   6218  2941  1401   486  214         11260\n",
            "4      NAC  2007  ANUAL   4427  2725   910   201    4          8267\n",
            "5      NAC  2008  ANUAL   6217  3209   971   199    9         10605\n",
            "6      NAC  2009  ANUAL   6296  4697   953   132    8         12086\n",
            "7      NAC  2010  ANUAL   2365   888   864   312    0          4429\n",
            "8      NAC  2011  ANUAL   4195  3376  2805  1987  500         12863\n",
            "9      NAC  2012  ANUAL   2032  1434   760   462   82          4770\n",
            "10     NAC  2013  ANUAL   4150   765   157    61   19          5152\n",
            "11     NAC  2014  ANUAL   7809  1297   275    54    0          9435\n",
            "12     NAC  2015  ANUAL   9266  2646   392    64    0         12368\n",
            "13     NAC  2016  ANUAL  12287  6239  1556   304    0         20386\n",
            "14     NAC  2017  ANUAL  15198  4175   856   249    0         20478\n",
            "15     NAC  2018  ANUAL  14694  5889  1767   695    3         23048\n",
            "16     NAC  2019  ANUAL  15579  9319  3417  1061   57         29433\n",
            "17     NAC  2020  ANUAL  14356  6226  2860   631   28         24101\n"
          ]
        }
      ]
    },
    {
      "cell_type": "markdown",
      "metadata": {
        "id": "P-f9Msl27O4c"
      },
      "source": [
        "Se lee el archivo que contiene los datos de las temperaturas y nivel de precipitación"
      ]
    },
    {
      "cell_type": "code",
      "metadata": {
        "id": "B2nxlrPgzbht"
      },
      "source": [
        "url = \"https://github.com/AdrianDiazGaxiola/Proyecto-Final/blob/main/Data/DataFrames%20Combinados/Temperaturas+Precipitaci%C3%B3n.csv?raw=true\"\n",
        "df_completo = pd.read_csv(url)"
      ],
      "execution_count": 9,
      "outputs": []
    },
    {
      "cell_type": "markdown",
      "metadata": {
        "id": "zurysmmpoYx2"
      },
      "source": [
        "Se crea un dataframe con la temperatura media anual nacional y el total de sequías"
      ]
    },
    {
      "cell_type": "code",
      "metadata": {
        "colab": {
          "base_uri": "https://localhost:8080/"
        },
        "id": "nljboBundpyb",
        "outputId": "ae4de2b6-64da-419d-edec-6d27e5a148d1"
      },
      "source": [
        "df = df_completo[(df_completo[\"ANIO\"]>=2003) & (df_completo[\"ENTIDAD\"]==\"NAC\") & (df_completo[\"MES\"]==\"ANUAL\")]\n",
        "\n",
        "df = df[['ANIO', 'MES', 'T_Med',]]\n",
        "\n",
        "totalseq = df4.Total_Sequías.to_list()\n",
        "\n",
        "df['Total_Sequías'] = totalseq\n",
        "\n",
        "print(df)"
      ],
      "execution_count": 30,
      "outputs": [
        {
          "output_type": "stream",
          "name": "stdout",
          "text": [
            "       ANIO    MES      T_Med  Total_Sequías\n",
            "8150   2003  ANUAL  20.955060          10260\n",
            "8579   2004  ANUAL  20.867124           5673\n",
            "9008   2005  ANUAL  21.391637           8140\n",
            "9437   2006  ANUAL  21.911281          11260\n",
            "9866   2007  ANUAL  21.776355           8267\n",
            "10295  2008  ANUAL  21.366667          10605\n",
            "10724  2009  ANUAL  21.779167          12086\n",
            "11153  2010  ANUAL  21.000000           4429\n",
            "11582  2011  ANUAL  21.820833          12863\n",
            "12011  2012  ANUAL  21.866667           4770\n",
            "12440  2013  ANUAL  21.925000           5152\n",
            "12869  2014  ANUAL  22.075000           9435\n",
            "13298  2015  ANUAL  22.100000          12368\n",
            "13727  2016  ANUAL  22.433333          20386\n",
            "14156  2017  ANUAL  22.550000          20478\n",
            "14585  2018  ANUAL  22.208333          23048\n",
            "15014  2019  ANUAL  22.400000          29433\n",
            "15443  2020  ANUAL  22.400000          24101\n"
          ]
        }
      ]
    },
    {
      "cell_type": "markdown",
      "metadata": {
        "id": "WdtS8ugxoSIv"
      },
      "source": [
        "Se busca la correlación entre la temperatura media nacional y el total de sequías"
      ]
    },
    {
      "cell_type": "code",
      "metadata": {
        "colab": {
          "base_uri": "https://localhost:8080/",
          "height": 345
        },
        "id": "e_CB_G3hf4yw",
        "outputId": "1648f172-4264-49e4-8315-90866d341e63"
      },
      "source": [
        "df1 = df[['T_Med', 'Total_Sequías']] \n",
        "\n",
        "c = df1.corr()\n",
        "\n",
        "print (c)\n",
        "\n",
        "sns.heatmap(c)"
      ],
      "execution_count": 45,
      "outputs": [
        {
          "output_type": "stream",
          "name": "stdout",
          "text": [
            "                  T_Med  Total_Sequías\n",
            "T_Med          1.000000       0.717422\n",
            "Total_Sequías  0.717422       1.000000\n"
          ]
        },
        {
          "output_type": "execute_result",
          "data": {
            "text/plain": [
              "<matplotlib.axes._subplots.AxesSubplot at 0x7fdd71ac3390>"
            ]
          },
          "metadata": {},
          "execution_count": 45
        },
        {
          "output_type": "display_data",
          "data": {
            "image/png": "[encoded data removed]",
            "text/plain": [
              "<Figure size 432x288 with 2 Axes>"
            ]
          },
          "metadata": {
            "needs_background": "light"
          }
        }
      ]
    },
    {
      "cell_type": "markdown",
      "metadata": {
        "id": "0SR-GsBboFh5"
      },
      "source": [
        "Se crea un modelo de regresión lineal entre la temperatura media nacional y la cantidad de sequías totales"
      ]
    },
    {
      "cell_type": "code",
      "metadata": {
        "colab": {
          "base_uri": "https://localhost:8080/",
          "height": 314
        },
        "id": "gCMvQ81wn2b3",
        "outputId": "9e3a3d01-3844-4a48-a7e2-5652e6d92470"
      },
      "source": [
        "X = df1[['T_Med']]\n",
        "y = df1['Total_Sequías']\n",
        "regressor = LinearRegression()\n",
        "regressor.fit(X, y)\n",
        "\n",
        "plt.plot(X, y, 'ro')\n",
        "plt.plot(X, regressor.predict(X), '-k')\n",
        "plt.xlabel('Temperatura Media')\n",
        "plt.ylabel('Total de Sequías')\n",
        "plt.title('Precipitación vs. Sequías a nivel Nacional')"
      ],
      "execution_count": 44,
      "outputs": [
        {
          "output_type": "execute_result",
          "data": {
            "text/plain": [
              "Text(0.5, 1.0, 'Precipitación vs. Sequías a nivel Nacional')"
            ]
          },
          "metadata": {},
          "execution_count": 44
        },
        {
          "output_type": "display_data",
          "data": {
            "image/png": "[encoded data removed]",
            "text/plain": [
              "<Figure size 432x288 with 1 Axes>"
            ]
          },
          "metadata": {
            "needs_background": "light"
          }
        }
      ]
    },
    {
      "cell_type": "markdown",
      "metadata": {
        "id": "vTRfnIHUoMhT"
      },
      "source": [
        "Modelo de regresión con el dataframe normalizado"
      ]
    },
    {
      "cell_type": "code",
      "metadata": {
        "colab": {
          "base_uri": "https://localhost:8080/",
          "height": 314
        },
        "id": "9MrWrvfLnQnI",
        "outputId": "87b35a52-cd93-4dc5-8d35-915a678e38cf"
      },
      "source": [
        "scaler = MinMaxScaler()\n",
        "df2 = df1[['T_Med', 'Total_Sequías']]\n",
        "\n",
        "normalized_df=(df2-df2.min())/(df2.max()-df2.min())\n",
        "\n",
        "X = normalized_df[['T_Med']]\n",
        "y = normalized_df['Total_Sequías']\n",
        "regressor = LinearRegression()\n",
        "regressor.fit(X, y)\n",
        "\n",
        "plt.plot(X, y, 'ro')\n",
        "plt.plot(X, regressor.predict(X), '-k')\n",
        "plt.xlabel('Temperatura Media')\n",
        "plt.ylabel('Total de Sequías')\n",
        "plt.title('Precipitación vs. Sequías a nivel Nacional')"
      ],
      "execution_count": 43,
      "outputs": [
        {
          "output_type": "execute_result",
          "data": {
            "text/plain": [
              "Text(0.5, 1.0, 'Precipitación vs. Sequías a nivel Nacional')"
            ]
          },
          "metadata": {},
          "execution_count": 43
        },
        {
          "output_type": "display_data",
          "data": {
            "image/png": "[encoded data removed]",
            "text/plain": [
              "<Figure size 432x288 with 1 Axes>"
            ]
          },
          "metadata": {
            "needs_background": "light"
          }
        }
      ]
    },
    {
      "cell_type": "markdown",
      "metadata": {
        "id": "md5DQpQU7EzW"
      },
      "source": [
        "Se combina el dataframe que incluye las temperaturas y nivel de precipitación, tomando solamente los datos por año y a nivel nacional "
      ]
    },
    {
      "cell_type": "code",
      "metadata": {
        "id": "16UNy_O701AQ"
      },
      "source": [
        "df = df_completo[(df_completo[\"ANIO\"]>=2003) & (df_completo[\"ENTIDAD\"]==\"NAC\") & (df_completo[\"MES\"]==\"ANUAL\")]\n",
        "\n",
        "d0 = df4[\"D0\"].tolist()\n",
        "d1 = df4[\"D1\"].tolist()\n",
        "d2 = df4[\"D2\"].tolist()\n",
        "d3 = df4[\"D3\"].tolist()\n",
        "d4 = df4[\"D4\"].tolist()\n",
        "total = df4[\"Total_Sequías\"].tolist()\n",
        "\n",
        "df[\"D0\"] = d0\n",
        "df[\"D1\"] = d1\n",
        "df[\"D2\"] = d2\n",
        "df[\"D3\"] = d3\n",
        "df[\"D4\"] = d4\n",
        "df[\"Total_Sequías\"] = total\n",
        "\n",
        "df = df.reset_index(drop=True)\n",
        "print(df.head(5))\n"
      ],
      "execution_count": null,
      "outputs": []
    },
    {
      "cell_type": "markdown",
      "metadata": {
        "id": "moJ1S-K07skE"
      },
      "source": [
        "Se descarga el nuevo dataframe con los datos adjuntos"
      ]
    },
    {
      "cell_type": "code",
      "metadata": {
        "colab": {
          "base_uri": "https://localhost:8080/",
          "height": 17
        },
        "id": "fhLJmTub7g3s",
        "outputId": "765faad1-3c62-4f88-da6b-bedc51db5642"
      },
      "source": [
        "df.to_csv(\"Temp+Prec+Seq.csv\", encoding='utf-8', index=False)\n",
        "from google.colab import files\n",
        "files.download(\"Temp+Prec+Seq.csv\")"
      ],
      "execution_count": null,
      "outputs": [
        {
          "output_type": "display_data",
          "data": {
            "application/javascript": [
              "\n",
              "    async function download(id, filename, size) {\n",
              "      if (!google.colab.kernel.accessAllowed) {\n",
              "        return;\n",
              "      }\n",
              "      const div = document.createElement('div');\n",
              "      const label = document.createElement('label');\n",
              "      label.textContent = `Downloading \"${filename}\": `;\n",
              "      div.appendChild(label);\n",
              "      const progress = document.createElement('progress');\n",
              "      progress.max = size;\n",
              "      div.appendChild(progress);\n",
              "      document.body.appendChild(div);\n",
              "\n",
              "      const buffers = [];\n",
              "      let downloaded = 0;\n",
              "\n",
              "      const channel = await google.colab.kernel.comms.open(id);\n",
              "      // Send a message to notify the kernel that we're ready.\n",
              "      channel.send({})\n",
              "\n",
              "      for await (const message of channel.messages) {\n",
              "        // Send a message to notify the kernel that we're ready.\n",
              "        channel.send({})\n",
              "        if (message.buffers) {\n",
              "          for (const buffer of message.buffers) {\n",
              "            buffers.push(buffer);\n",
              "            downloaded += buffer.byteLength;\n",
              "            progress.value = downloaded;\n",
              "          }\n",
              "        }\n",
              "      }\n",
              "      const blob = new Blob(buffers, {type: 'application/binary'});\n",
              "      const a = document.createElement('a');\n",
              "      a.href = window.URL.createObjectURL(blob);\n",
              "      a.download = filename;\n",
              "      div.appendChild(a);\n",
              "      a.click();\n",
              "      div.remove();\n",
              "    }\n",
              "  "
            ],
            "text/plain": [
              "<IPython.core.display.Javascript object>"
            ]
          },
          "metadata": {}
        },
        {
          "output_type": "display_data",
          "data": {
            "application/javascript": [
              "download(\"download_31e87674-f495-4913-88fe-a96aa31e467b\", \"Temp+Prec+Seq.csv\", 1777)"
            ],
            "text/plain": [
              "<IPython.core.display.Javascript object>"
            ]
          },
          "metadata": {}
        }
      ]
    },
    {
      "cell_type": "code",
      "metadata": {
        "id": "Mh9JXmzj9sIr"
      },
      "source": [
        "seq_por_entidad = {}\n",
        "\n",
        "anios = range(2003, 2021)\n",
        "estados_comp = ['Aguascalientes', 'Baja California', 'Baja California Sur', 'Campeche', 'Coahuila', 'Colima', 'Chiapas', 'Chihuahua', 'Ciudad de Mexico', 'Durango', 'Guanajuato', 'Guerrero', 'Hidalgo', 'Jalisco', 'Estado de Mexico', 'Michoacan', 'Morelos', 'Nayarit', 'Nuevo Leon', 'Oaxaca', 'Puebla', 'Queretaro', 'Quintana Roo', 'San Luis Potosi', 'Sinaloa', 'Sonora', 'Tabasco', 'Tamaulipas', 'Tlaxcala', 'Veracruz', 'Yucatan', 'Zacatecas']\n",
        "\n",
        "#Ciclo con una iteración por estado de la república\n",
        "for i in range (32):\n",
        "  #Se guarda en un dataframe aparte los datos del estado en el que nos encontramos\n",
        "  df1 = Seq[Seq['Entidad']==estados_comp[i]]\n",
        "\n",
        "  #Se establecen las columnas del nuevo dataframe que contendrá los datos del estado en el que nos ubicamos, incluyendo año y la cantidad de sequías por clasificación de cada año.\n",
        "  df2 = pd.DataFrame(columns=['ANIO', 'Anormalmente Seco', 'Sequia Moderada', 'Sequia Severa', 'Sequia Extrema', 'Sequia Excepcional', 'Total'])\n",
        "\n",
        "  for j in range (2003,2021):\n",
        "    l = j - 2002\n",
        "\n",
        "    #Se guarda el número del año en la fila en que nos encontramos, debajo de la columna 'ANIO'\n",
        "    df2.at[l, 'ANIO'] = anios[l-1]\n",
        "\n",
        "    #Se suma independientemente la cantidad de sequías de acuerdo a su clasificación en el año en que nos encontramos, utilizando la función df.filter ya que tenemos varias columnas cuyos nombres (los años) se repiten.\n",
        "    df2.at[l, 'Anormalmente Seco'] = (df1.filter(like = str(j))=='D0').sum().sum()\n",
        "    df2.at[l, 'Sequia Moderada'] = (df1.filter(like = str(j))=='D1').sum().sum()\n",
        "    df2.at[l, 'Sequia Severa'] = (df1.filter(like = str(j))=='D2').sum().sum()\n",
        "    df2.at[l, 'Sequia Extrema'] = (df1.filter(like = str(j))=='D3').sum().sum()\n",
        "    df2.at[l, 'Sequia Excepcional'] = (df1.filter(like = str(j))=='D4').sum().sum()\n",
        "\n",
        "    #Se obtiene el valor de la columna 'Total' sumando los valores obtenidos en el paso anterior\n",
        "    df2.at[l, 'Total'] = df2.at[l, 'Anormalmente Seco'] + df2.at[l, 'Sequia Moderada'] + df2.at[l, 'Sequia Severa'] + df2.at[l, 'Sequia Extrema'] + df2.at[l, 'Sequia Excepcional'] \n",
        "\n",
        "  print(estados_comp[i])\n",
        "  print(df2)        \n",
        "\n",
        "#Se crea un dataframe con los datos de las sequías por año a nivel NACIONAL\n",
        "df3 = pd.DataFrame(columns=['ANIO', 'Anormalmente Seco', 'Sequia Moderada', 'Sequia Severa', 'Sequia Extrema', 'Sequia Excepcional', 'Total'])\n",
        "for i in range (2003, 2021):\n",
        "  j = i - 2002\n",
        "\n",
        "  df3.at[j, 'ANIO'] = anios[j-1]\n",
        "\n",
        "  df3.at[j, 'Anormalmente Seco'] = (Seq.filter(like = str(i))=='D0').sum().sum()\n",
        "  df3.at[j, 'Sequia Moderada'] = (Seq.filter(like = str(i))=='D1').sum().sum()\n",
        "  df3.at[j, 'Sequia Severa'] = (Seq.filter(like = str(i))=='D2').sum().sum()\n",
        "  df3.at[j, 'Sequia Extrema'] = (Seq.filter(like = str(i))=='D3').sum().sum()\n",
        "  df3.at[j, 'Sequia Excepcional'] = (Seq.filter(like = str(i))=='D4').sum().sum()\n",
        "  df3.at[j, 'Total'] = df3.at[j, 'Anormalmente Seco'] + df3.at[j, 'Sequia Moderada'] + df3.at[j, 'Sequia Severa'] + df3.at[j, 'Sequia Extrema'] + df3.at[j, 'Sequia Excepcional']\n",
        "\n",
        "print (\"NACIONAL\")\n",
        "print (df3)\n"
      ],
      "execution_count": null,
      "outputs": []
    },
    {
      "cell_type": "code",
      "metadata": {
        "id": "RwU0N9h4HQ8r"
      },
      "source": [
        ""
      ],
      "execution_count": null,
      "outputs": []
    }
  ]
}