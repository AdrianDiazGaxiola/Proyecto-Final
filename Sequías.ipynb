{
  "nbformat": 4,
  "nbformat_minor": 0,
  "metadata": {
    "colab": {
      "name": "Sequías.ipynb",
      "provenance": [],
      "authorship_tag": "ABX9TyOcSaethWgjtYAlrLnW9v1U",
      "include_colab_link": true
    },
    "kernelspec": {
      "name": "python3",
      "display_name": "Python 3"
    },
    "language_info": {
      "name": "python"
    }
  },
  "cells": [
    {
      "cell_type": "markdown",
      "metadata": {
        "id": "view-in-github",
        "colab_type": "text"
      },
      "source": [
        "<a href=\"https://colab.research.google.com/github/AdrianDiazGaxiola/Proyecto-Final/blob/main/Sequ%C3%ADas.ipynb\" target=\"_parent\"><img src=\"https://colab.research.google.com/assets/colab-badge.svg\" alt=\"Open In Colab\"/></a>"
      ]
    },
    {
      "cell_type": "markdown",
      "metadata": {
        "id": "cQyE0KUw4Ky1"
      },
      "source": [
        "# Este programa se empleará para limpiar el DataFrame con los datos de las sequías en México"
      ]
    },
    {
      "cell_type": "code",
      "metadata": {
        "colab": {
          "base_uri": "https://localhost:8080/"
        },
        "id": "2oGhk2EY4GYX",
        "outputId": "bc2bb794-c9ed-4c4c-a6ca-f31dc64af722"
      },
      "source": [
        "!pip install numpy\n",
        "!pip install pandas\n",
        "!pip install openpyxl"
      ],
      "execution_count": 10,
      "outputs": [
        {
          "output_type": "stream",
          "name": "stdout",
          "text": [
            "Requirement already satisfied: numpy in /usr/local/lib/python3.7/dist-packages (1.19.5)\n",
            "Requirement already satisfied: pandas in /usr/local/lib/python3.7/dist-packages (1.1.5)\n",
            "Requirement already satisfied: pytz>=2017.2 in /usr/local/lib/python3.7/dist-packages (from pandas) (2018.9)\n",
            "Requirement already satisfied: numpy>=1.15.4 in /usr/local/lib/python3.7/dist-packages (from pandas) (1.19.5)\n",
            "Requirement already satisfied: python-dateutil>=2.7.3 in /usr/local/lib/python3.7/dist-packages (from pandas) (2.8.2)\n",
            "Requirement already satisfied: six>=1.5 in /usr/local/lib/python3.7/dist-packages (from python-dateutil>=2.7.3->pandas) (1.15.0)\n",
            "Requirement already satisfied: openpyxl in /usr/local/lib/python3.7/dist-packages (2.5.9)\n",
            "Requirement already satisfied: et-xmlfile in /usr/local/lib/python3.7/dist-packages (from openpyxl) (1.1.0)\n",
            "Requirement already satisfied: jdcal in /usr/local/lib/python3.7/dist-packages (from openpyxl) (1.4.1)\n"
          ]
        }
      ]
    },
    {
      "cell_type": "markdown",
      "metadata": {
        "id": "bDUwt3aj4JTV"
      },
      "source": [
        "Se copia el archivo de github con los datos a un dataframe"
      ]
    },
    {
      "cell_type": "code",
      "metadata": {
        "colab": {
          "base_uri": "https://localhost:8080/"
        },
        "id": "tBgOA2AC5Cqu",
        "outputId": "cfc65819-dba8-488b-f808-517f1cd3c0d8"
      },
      "source": [
        "import pandas as pd\n",
        "\n",
        "url = \"https://github.com/AdrianDiazGaxiola/Proyecto-Final/blob/OtherData/Municipios%20con%20Sequ%C3%ADa.csv?raw=true\"\n",
        "Seq = pd.read_csv(url)"
      ],
      "execution_count": 12,
      "outputs": [
        {
          "output_type": "stream",
          "name": "stderr",
          "text": [
            "/usr/local/lib/python3.7/dist-packages/IPython/core/interactiveshell.py:2718: DtypeWarning: Columns (92,93,131,132,301) have mixed types.Specify dtype option on import or set low_memory=False.\n",
            "  interactivity=interactivity, compiler=compiler, result=result)\n"
          ]
        }
      ]
    },
    {
      "cell_type": "code",
      "metadata": {
        "colab": {
          "base_uri": "https://localhost:8080/"
        },
        "id": "Mh9JXmzj9sIr",
        "outputId": "9fb3c5ae-8c0e-4bd9-fbdb-b8ca4d6f807f"
      },
      "source": [
        "seq_por_entidad = {}\n",
        "\n"
      ],
      "execution_count": 13,
      "outputs": [
        {
          "output_type": "stream",
          "name": "stdout",
          "text": [
            "      Clave del Municipio   Nombre del Municipio  ... D4 (D4) Total (D0 a D4)\n",
            "0                  1001.0         Aguascalientes  ...     1.0            65.0\n",
            "1                  1002.0               Asientos  ...     0.0            64.0\n",
            "2                  1003.0               Calvillo  ...     2.0            71.0\n",
            "3                  1004.0                  Cosio  ...     0.0            61.0\n",
            "4                  1005.0            Jesús Maria  ...     2.0            66.0\n",
            "...                   ...                    ...  ...     ...             ...\n",
            "2460              32056.0              Zacatecas  ...     0.0            75.0\n",
            "2461              32057.0               Trancoso  ...     0.0            73.0\n",
            "2462              32058.0  Santa Maria de la Paz  ...     3.0           121.0\n",
            "2463                  NaN                    NaN  ...     NaN             NaN\n",
            "2464                  NaN                    NaN  ...     NaN             NaN\n",
            "\n",
            "[2465 rows x 307 columns]\n"
          ]
        }
      ]
    }
  ]
}