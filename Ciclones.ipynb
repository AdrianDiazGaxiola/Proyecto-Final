{
  "nbformat": 4,
  "nbformat_minor": 0,
  "metadata": {
    "colab": {
      "name": "Ciclones.ipynb",
      "provenance": [],
      "collapsed_sections": [],
      "authorship_tag": "ABX9TyOt6qCkxWMJuCF36uTsgrbi",
      "include_colab_link": true
    },
    "kernelspec": {
      "name": "python3",
      "display_name": "Python 3"
    },
    "language_info": {
      "name": "python"
    }
  },
  "cells": [
    {
      "cell_type": "markdown",
      "metadata": {
        "id": "view-in-github",
        "colab_type": "text"
      },
      "source": [
        "<a href=\"https://colab.research.google.com/github/AdrianDiazGaxiola/Proyecto-Final/blob/main/Ciclones.ipynb\" target=\"_parent\"><img src=\"https://colab.research.google.com/assets/colab-badge.svg\" alt=\"Open In Colab\"/></a>"
      ]
    },
    {
      "cell_type": "code",
      "metadata": {
        "colab": {
          "base_uri": "https://localhost:8080/"
        },
        "id": "FG_eVOrScHl9",
        "outputId": "4aebb4f4-f1f7-4d20-9b5c-6ddab1a00e0e"
      },
      "source": [
        "!pip install numpy\n",
        "!pip install pandas"
      ],
      "execution_count": 1,
      "outputs": [
        {
          "output_type": "stream",
          "name": "stdout",
          "text": [
            "Requirement already satisfied: numpy in /usr/local/lib/python3.7/dist-packages (1.19.5)\n",
            "Requirement already satisfied: pandas in /usr/local/lib/python3.7/dist-packages (1.1.5)\n",
            "Requirement already satisfied: pytz>=2017.2 in /usr/local/lib/python3.7/dist-packages (from pandas) (2018.9)\n",
            "Requirement already satisfied: numpy>=1.15.4 in /usr/local/lib/python3.7/dist-packages (from pandas) (1.19.5)\n",
            "Requirement already satisfied: python-dateutil>=2.7.3 in /usr/local/lib/python3.7/dist-packages (from pandas) (2.8.2)\n",
            "Requirement already satisfied: six>=1.5 in /usr/local/lib/python3.7/dist-packages (from python-dateutil>=2.7.3->pandas) (1.15.0)\n"
          ]
        }
      ]
    },
    {
      "cell_type": "markdown",
      "metadata": {
        "id": "HK7iVgrecmkK"
      },
      "source": [
        "Se importan las librerías a utilizar"
      ]
    },
    {
      "cell_type": "code",
      "metadata": {
        "id": "UnRjYE7IckU1"
      },
      "source": [
        "import pandas as pd\n",
        "import numpy as np"
      ],
      "execution_count": 2,
      "outputs": []
    },
    {
      "cell_type": "markdown",
      "metadata": {
        "id": "3IP_leQcx7OH"
      },
      "source": [
        "Se lee y guarda en un dataframe los datos del archivo .csv con los datos de los ciclones que han impactado a México"
      ]
    },
    {
      "cell_type": "code",
      "metadata": {
        "id": "u9-aQ6xyckOy"
      },
      "source": [
        "url = \"https://github.com/AdrianDiazGaxiola/Proyecto-Final/raw/main/Data/Ciclones.csv\"\n",
        "\n",
        "Ciclones = pd.read_csv(url, header=2, encoding='ISO-8859-1')"
      ],
      "execution_count": 3,
      "outputs": []
    },
    {
      "cell_type": "markdown",
      "metadata": {
        "id": "_sfkrtMsx4Ha"
      },
      "source": [
        "Se eliminan las filas y columnas que no se utilizarán"
      ]
    },
    {
      "cell_type": "code",
      "metadata": {
        "colab": {
          "base_uri": "https://localhost:8080/"
        },
        "id": "n0UZvpB5dh9k",
        "outputId": "e2743144-1769-4061-d3cf-2f571542eabe"
      },
      "source": [
        "df = Ciclones\n",
        "\n",
        "Cols = df.columns.tolist()\n",
        "\n",
        "#Se eliminan las columnas que no se utilizarán (número, nombre, y categoría en impacto, ya que no se analizará la evolución de cada ciclón)\n",
        "df = df.drop(columns = {Cols[0], Cols[1]})#, Cols[5]\n",
        "\n",
        "#Se elimina el ciclón que aparece dos veces (solo se cosidera la ubicación del primer impacto)\n",
        "df = df.drop(df.index[301])\n",
        "\n",
        "Cols = df.columns.tolist()\n",
        "print(Cols)\n",
        "print(df)\n"
      ],
      "execution_count": 12,
      "outputs": [
        {
          "output_type": "stream",
          "name": "stdout",
          "text": [
            "['\\nImpacto en tierra', '\\nFecha de impacto', 'Categoría\\nmáxima', 'Categoría \\nen impacto', 'Velocidad \\nen impacto (km/h)', '\\nCosta']\n",
            "                                   \\nImpacto en tierra  ...    \\nCosta\n",
            "0                         Chamela - Pto Vallarta, Jal.  ...   Pacífico\n",
            "1                                      Sta. Cruz, Nay.  ...   Pacífico\n",
            "2           Villa de Tututepec de Melchor Ocampo, Oax.  ...   Pacífico\n",
            "3                               Lázaro Cardenas, Mich.  ...   Pacífico\n",
            "4                    30 Km Al Este De Tapachula, Chis.  ...   Pacífico\n",
            "..                                                 ...  ...        ...\n",
            "314  Inmediaciones de Chemuyil, Q. Roo y a 15 km al...  ...  Atlántico\n",
            "315                                                NaN  ...        NaN\n",
            "316                                                NaN  ...        NaN\n",
            "317                                                NaN  ...        NaN\n",
            "318                                                NaN  ...        NaN\n",
            "\n",
            "[318 rows x 6 columns]\n"
          ]
        }
      ]
    },
    {
      "cell_type": "markdown",
      "metadata": {
        "id": "Mb68nMFnjNUo"
      },
      "source": [
        "Se renombran los nombres de las columnas del dataframe"
      ]
    },
    {
      "cell_type": "code",
      "metadata": {
        "colab": {
          "base_uri": "https://localhost:8080/"
        },
        "id": "bWtKQmbJhT5g",
        "outputId": "7c9e0630-2f65-4774-984b-59a18966c708"
      },
      "source": [
        "df.columns = [\"Entidad_Impacto\", \"Fecha\", \"Categoría máxima\", \"Categoría en impacto\", \"Velocidad impacto\", \"Costa\"]\n",
        "print(df)"
      ],
      "execution_count": 13,
      "outputs": [
        {
          "output_type": "stream",
          "name": "stdout",
          "text": [
            "                                       Entidad_Impacto  ...      Costa\n",
            "0                         Chamela - Pto Vallarta, Jal.  ...   Pacífico\n",
            "1                                      Sta. Cruz, Nay.  ...   Pacífico\n",
            "2           Villa de Tututepec de Melchor Ocampo, Oax.  ...   Pacífico\n",
            "3                               Lázaro Cardenas, Mich.  ...   Pacífico\n",
            "4                    30 Km Al Este De Tapachula, Chis.  ...   Pacífico\n",
            "..                                                 ...  ...        ...\n",
            "314  Inmediaciones de Chemuyil, Q. Roo y a 15 km al...  ...  Atlántico\n",
            "315                                                NaN  ...        NaN\n",
            "316                                                NaN  ...        NaN\n",
            "317                                                NaN  ...        NaN\n",
            "318                                                NaN  ...        NaN\n",
            "\n",
            "[318 rows x 6 columns]\n"
          ]
        }
      ]
    },
    {
      "cell_type": "markdown",
      "metadata": {
        "id": "iWsgConLyfw_"
      },
      "source": [
        "Se cambian los nombres de las ubicaciones a únicamente los nombres completos de los estados correspondiente"
      ]
    },
    {
      "cell_type": "code",
      "metadata": {
        "colab": {
          "base_uri": "https://localhost:8080/"
        },
        "id": "UZXK2ekLjQPW",
        "outputId": "b9794efb-8adb-450e-b24f-4d5353528ee5"
      },
      "source": [
        "#Se cambia el tipo de dato de la columna con las entidades a tipo string, para poder utilizar las funciones a continuación\n",
        "df['Entidad_Impacto'] = df['Entidad_Impacto'].astype(str) \n",
        "\n",
        "estados_abv = ['Ags.', 'Bc.', 'Bcs.', 'Camp.', 'Coah.', 'Col.', 'Chis.', 'Chih.', 'C.D.Mx.', 'Dgo.', 'Gto.', 'Gro.', 'Hgo.', 'Jal.', 'Edo. Méx.', 'Mich.', 'Mor.', 'Nay.', 'N.L.', 'Oax.','Pue.', 'Qro.', 'QRoo.', 'S.L.P.', 'Sin.', 'Son.', 'Tab.', 'Tamps.', 'Tlax.', 'Ver.', 'Yuc.','Zac.']\n",
        "\n",
        "estados_comp = ['Aguascalientes', 'Baja California', 'Baja California Sur', 'Campeche', 'Coahuila', 'Colima', 'Chiapas', 'Chihuahua', 'Ciudad de Mexico', 'Durango', 'Guanajuato', 'Guerrero', 'Hidalgo', 'Jalisco', 'Estado de Mexico', 'Michoacan', 'Morelos', 'Nayarit', 'Nuevo Leon', 'Oaxaca', 'Puebla', 'Queretaro', 'Quintana Roo', 'San Luis Potosi', 'Sinaloa', 'Sonora', 'Tabasco', 'Tamaulipas', 'Tlaxcala', 'Veracruz', 'Yucatan', 'Zacatecas']\n",
        "\n",
        "#En este ciclo, se busca si la ubicación contiene la abreviatura de algún estado, de ser así, se reemplaza el nombre de la ubicación por el nombre completo del estado correspondiente\n",
        "j = 0\n",
        "for i in estados_abv:\n",
        "  df.loc[df['Entidad_Impacto'].str.contains(i), 'Entidad_Impacto'] = estados_comp[j]\n",
        "  j += 1\n",
        "\n",
        "#Se intercambian una por una las ubicaciones sin nombre de estado al estado correspondiente\n",
        "df.loc[df['Entidad_Impacto'].str.contains('Tapachula'), 'Entidad_Impacto'] = 'Chiapas'\n",
        "df.loc[df['Entidad_Impacto'].str.contains('Ciudad Obregón'), 'Entidad_Impacto'] = 'Sonora'\n",
        "df.loc[df['Entidad_Impacto'].str.contains('Tuxpan'), 'Entidad_Impacto'] = 'Veracruz'\n",
        "df.loc[df['Entidad_Impacto'].str.contains('Cabo San Lucas'), 'Entidad_Impacto'] = 'Baja California Sur'\n",
        "df.loc[df['Entidad_Impacto'].str.contains('Los Cabos'), 'Entidad_Impacto'] = 'Baja California Sur'\n",
        "df.loc[df['Entidad_Impacto'].str.contains('La Angostura'), 'Entidad_Impacto'] = 'Chiapas'\n",
        "df.loc[df['Entidad_Impacto'].str.contains('San Lázaro'), 'Entidad_Impacto'] = 'Baja California Sur'\n",
        "df.loc[df['Entidad_Impacto'].str.contains('Punta Abreojos'), 'Entidad_Impacto'] = 'Baja California Sur'\n",
        "df.loc[df['Entidad_Impacto'].str.contains('San Juan de los Planes'), 'Entidad_Impacto'] = 'Baja California Sur'\n",
        "df.loc[df['Entidad_Impacto'].str.contains('El Embudo'), 'Entidad_Impacto'] = 'Baja California Sur'\n",
        "df.loc[df['Entidad_Impacto'].str.contains('Pico del Monte'), 'Entidad_Impacto'] = 'Guerrero'\n",
        "df.loc[df['Entidad_Impacto'].str.contains('Cd. Hidalgo'), 'Entidad_Impacto'] = 'Chiapas'\n",
        "df.loc[df['Entidad_Impacto'].str.contains('Laguna San Ignacio'), 'Entidad_Impacto'] = 'Baja California Sur'\n",
        "df.loc[df['Entidad_Impacto'].str.contains('Pesquería'), 'Entidad_Impacto'] = 'Oaxaca'\n",
        "df.loc[df['Entidad_Impacto'].str.contains('Santa Fé'), 'Entidad_Impacto'] = 'Quintana Roo'\n",
        "df.loc[df['Entidad_Impacto'].str.contains('Tulum'), 'Entidad_Impacto'] = 'Quintana Roo'\n",
        "df.loc[df['Entidad_Impacto'].str.contains('Chiapas'), 'Entidad_Impacto'] = 'Chiapas'\n",
        "df.loc[df['Entidad_Impacto'].str.contains('Bahía Kino'), 'Entidad_Impacto'] = 'Sonora'\n",
        "df.loc[df['Entidad_Impacto'].str.contains('Guaymas'), 'Entidad_Impacto'] = 'Sonora'\n",
        "df.loc[df['Entidad_Impacto'].str.contains('Antón Lizardo'), 'Entidad_Impacto'] = 'Veracruz'\n",
        "df.loc[df['Entidad_Impacto'].str.contains('Villa Guadalupe'), 'Entidad_Impacto'] = 'Sonora'\n",
        "df.loc[df['Entidad_Impacto'].str.contains('Río Lagartos'), 'Entidad_Impacto'] = 'Yucatán'\n",
        "df.loc[df['Entidad_Impacto'].str.contains('Ciudad Constitución'), 'Entidad_Impacto'] = 'Baja California Sur'\n",
        "df.loc[df['Entidad_Impacto'].str.contains('San José de las Palomas'), 'Entidad_Impacto'] = 'Baja California'\n",
        "df.loc[df['Entidad_Impacto'].str.contains('Playa Careyes'), 'Entidad_Impacto'] = 'Jalisco'\n",
        "df.loc[df['Entidad_Impacto'].str.contains('Ciudad Constitución'), 'Entidad_Impacto'] = 'Baja California Sur'\n",
        "df.loc[df['Entidad_Impacto'].str.contains('San José del Cabo'), 'Entidad_Impacto'] = 'Baja California Sur'\n",
        "df.loc[df['Entidad_Impacto'].str.contains('Tenacatita'), 'Entidad_Impacto'] = 'Jalisco'\n",
        "df.loc[df['Entidad_Impacto'].str.contains('Escuinapa'), 'Entidad_Impacto'] = 'Sinaloa'\n",
        "df.loc[df['Entidad_Impacto'].str.contains('Isla San Ignacio'), 'Entidad_Impacto'] = 'Sinaloa'\n",
        "df.loc[df['Entidad_Impacto'].str.contains('Lázaro Cárdenas'), 'Entidad_Impacto'] = 'Michoacán'\n",
        "df.loc[df['Entidad_Impacto'].str.contains('Boca de Catán'), 'Entidad_Impacto'] = 'Tamaulipas'\n",
        "df.loc[df['Entidad_Impacto'].str.contains('Armería'), 'Entidad_Impacto'] = 'Colima'\n",
        "df.loc[df['Entidad_Impacto'].str.contains('La Pesca'), 'Entidad_Impacto'] = 'Tamaulipas'\n",
        "df.loc[df['Entidad_Impacto'].str.contains('Lechuguillas'), 'Entidad_Impacto'] = 'Veracruz'\n",
        "df.loc[df['Entidad_Impacto'].str.contains('Santa Rosalía'), 'Entidad_Impacto'] = 'Baja California Sur'\n",
        "df.loc[df['Entidad_Impacto'].str.contains('Rancho Nuevo'), 'Entidad_Impacto'] = 'Tamaulipas'\n",
        "df.loc[df['Entidad_Impacto'].str.contains('Chetumal'), 'Entidad_Impacto'] = 'Quintana Roo'\n",
        "df.loc[df['Entidad_Impacto'].str.contains('San Diego'), 'Entidad_Impacto'] = 'Baja California'\n",
        "df.loc[df['Entidad_Impacto'].str.contains('Ayutla'), 'Entidad_Impacto'] = 'Jalisco'\n",
        "\n",
        "#Funciones utilizadas para identificar ubicaciones con nombres a reemplazar\n",
        "entidades = df.Entidad_Impacto.tolist()\n",
        "ent = np.array(entidades)\n",
        "print(np.unique(ent))\n",
        "\n",
        "print(df.head(5))\n"
      ],
      "execution_count": 16,
      "outputs": [
        {
          "output_type": "stream",
          "name": "stdout",
          "text": [
            "['Baja California' 'Baja California Sur' 'Campeche' 'Chiapas' 'Coahuila'\n",
            " 'Colima' 'Guerrero' 'Jalisco' 'Michoacan' 'Morelos' 'Nayarit' 'Oaxaca'\n",
            " 'Puebla' 'Queretaro' 'Quintana Roo' 'Sinaloa' 'Sonora' 'Tabasco'\n",
            " 'Tamaulipas' 'Veracruz' 'Yucatan' 'nan']\n",
            "  Entidad_Impacto       Fecha  ... Velocidad impacto     Costa\n",
            "0         Jalisco  1983/05/27  ...              65.0  Pacífico\n",
            "1         Nayarit  1983/05/28  ...              65.0  Pacífico\n",
            "2          Oaxaca  1981/06/04  ...              30.0  Pacífico\n",
            "3       Michoacan  1971/05/24  ...             140.0  Pacífico\n",
            "4         Chiapas  2010/05/29  ...              75.0  Pacífico\n",
            "\n",
            "[5 rows x 6 columns]\n"
          ]
        }
      ]
    }
  ]
}