{
  "nbformat": 4,
  "nbformat_minor": 0,
  "metadata": {
    "colab": {
      "name": "Ciclones.ipynb",
      "provenance": [],
      "authorship_tag": "ABX9TyPikP69QjxYavjP1SL4ZUgJ",
      "include_colab_link": true
    },
    "kernelspec": {
      "name": "python3",
      "display_name": "Python 3"
    },
    "language_info": {
      "name": "python"
    }
  },
  "cells": [
    {
      "cell_type": "markdown",
      "metadata": {
        "id": "view-in-github",
        "colab_type": "text"
      },
      "source": [
        "<a href=\"https://colab.research.google.com/github/AdrianDiazGaxiola/Proyecto-Final/blob/main/Ciclones.ipynb\" target=\"_parent\"><img src=\"https://colab.research.google.com/assets/colab-badge.svg\" alt=\"Open In Colab\"/></a>"
      ]
    },
    {
      "cell_type": "code",
      "metadata": {
        "colab": {
          "base_uri": "https://localhost:8080/"
        },
        "id": "FG_eVOrScHl9",
        "outputId": "2192dbf3-d8c5-469f-8369-f1622ba4baa5"
      },
      "source": [
        "!pip install numpy\n",
        "!pip install pandas"
      ],
      "execution_count": 2,
      "outputs": [
        {
          "output_type": "stream",
          "name": "stdout",
          "text": [
            "Requirement already satisfied: numpy in /usr/local/lib/python3.7/dist-packages (1.19.5)\n",
            "Requirement already satisfied: pandas in /usr/local/lib/python3.7/dist-packages (1.1.5)\n",
            "Requirement already satisfied: numpy>=1.15.4 in /usr/local/lib/python3.7/dist-packages (from pandas) (1.19.5)\n",
            "Requirement already satisfied: pytz>=2017.2 in /usr/local/lib/python3.7/dist-packages (from pandas) (2018.9)\n",
            "Requirement already satisfied: python-dateutil>=2.7.3 in /usr/local/lib/python3.7/dist-packages (from pandas) (2.8.2)\n",
            "Requirement already satisfied: six>=1.5 in /usr/local/lib/python3.7/dist-packages (from python-dateutil>=2.7.3->pandas) (1.15.0)\n"
          ]
        }
      ]
    },
    {
      "cell_type": "markdown",
      "metadata": {
        "id": "HK7iVgrecmkK"
      },
      "source": [
        "Se importan las librerías a utilizar"
      ]
    },
    {
      "cell_type": "code",
      "metadata": {
        "id": "UnRjYE7IckU1"
      },
      "source": [
        "import pandas as pd\n",
        "import numpy as np"
      ],
      "execution_count": 3,
      "outputs": []
    },
    {
      "cell_type": "code",
      "metadata": {
        "colab": {
          "base_uri": "https://localhost:8080/",
          "height": 511
        },
        "id": "u9-aQ6xyckOy",
        "outputId": "d2811666-7e75-47ff-ee1b-cfafad4003cd"
      },
      "source": [
        "url = \"https://github.com/AdrianDiazGaxiola/Proyecto-Final/raw/main/Data/Ciclones.csv\"\n",
        "\n",
        "pd.read_csv(url, header=2, encoding='ISO-8859-1')"
      ],
      "execution_count": 8,
      "outputs": [
        {
          "output_type": "execute_result",
          "data": {
            "text/html": [
              "<div>\n",
              "<style scoped>\n",
              "    .dataframe tbody tr th:only-of-type {\n",
              "        vertical-align: middle;\n",
              "    }\n",
              "\n",
              "    .dataframe tbody tr th {\n",
              "        vertical-align: top;\n",
              "    }\n",
              "\n",
              "    .dataframe thead th {\n",
              "        text-align: right;\n",
              "    }\n",
              "</style>\n",
              "<table border=\"1\" class=\"dataframe\">\n",
              "  <thead>\n",
              "    <tr style=\"text-align: right;\">\n",
              "      <th></th>\n",
              "      <th>\\nN°</th>\n",
              "      <th>\\nNombre</th>\n",
              "      <th>\\nImpacto en tierra</th>\n",
              "      <th>\\nFecha de impacto</th>\n",
              "      <th>Categoría\\nmáxima</th>\n",
              "      <th>Categoría \\nen impacto</th>\n",
              "      <th>Velocidad \\nen impacto (km/h)</th>\n",
              "      <th>\\nCosta</th>\n",
              "    </tr>\n",
              "  </thead>\n",
              "  <tbody>\n",
              "    <tr>\n",
              "      <th>0</th>\n",
              "      <td>1</td>\n",
              "      <td>ADOLPH</td>\n",
              "      <td>Chamela - Pto Vallarta, Jal.</td>\n",
              "      <td>1983/05/27</td>\n",
              "      <td>TT</td>\n",
              "      <td>TT</td>\n",
              "      <td>65.0</td>\n",
              "      <td>Pacífico</td>\n",
              "    </tr>\n",
              "    <tr>\n",
              "      <th>1</th>\n",
              "      <td>NaN</td>\n",
              "      <td>NaN</td>\n",
              "      <td>Sta. Cruz, Nay.</td>\n",
              "      <td>1983/05/28</td>\n",
              "      <td>TT</td>\n",
              "      <td>TT</td>\n",
              "      <td>65.0</td>\n",
              "      <td>Pacífico</td>\n",
              "    </tr>\n",
              "    <tr>\n",
              "      <th>2</th>\n",
              "      <td>2</td>\n",
              "      <td>ADRIAN</td>\n",
              "      <td>Villa de Tututepec de Melchor Ocampo, Oax.</td>\n",
              "      <td>1981/06/04</td>\n",
              "      <td>DT</td>\n",
              "      <td>DT</td>\n",
              "      <td>30.0</td>\n",
              "      <td>Pacífico</td>\n",
              "    </tr>\n",
              "    <tr>\n",
              "      <th>3</th>\n",
              "      <td>3</td>\n",
              "      <td>AGATHA</td>\n",
              "      <td>Lázaro Cardenas, Mich.</td>\n",
              "      <td>1971/05/24</td>\n",
              "      <td>H1</td>\n",
              "      <td>H1</td>\n",
              "      <td>140.0</td>\n",
              "      <td>Pacífico</td>\n",
              "    </tr>\n",
              "    <tr>\n",
              "      <th>4</th>\n",
              "      <td>NaN</td>\n",
              "      <td>NaN</td>\n",
              "      <td>30 Km Al Este De Tapachula, Chis.</td>\n",
              "      <td>2010/05/29</td>\n",
              "      <td>TT</td>\n",
              "      <td>TT</td>\n",
              "      <td>75.0</td>\n",
              "      <td>Pacífico</td>\n",
              "    </tr>\n",
              "    <tr>\n",
              "      <th>...</th>\n",
              "      <td>...</td>\n",
              "      <td>...</td>\n",
              "      <td>...</td>\n",
              "      <td>...</td>\n",
              "      <td>...</td>\n",
              "      <td>...</td>\n",
              "      <td>...</td>\n",
              "      <td>...</td>\n",
              "    </tr>\n",
              "    <tr>\n",
              "      <th>314</th>\n",
              "      <td>195</td>\n",
              "      <td>ZETA</td>\n",
              "      <td>Inmediaciones de Chemuyil, Q. Roo y a 15 km al...</td>\n",
              "      <td>2020/10/26</td>\n",
              "      <td>H2</td>\n",
              "      <td>H1</td>\n",
              "      <td>130.0</td>\n",
              "      <td>Atlántico</td>\n",
              "    </tr>\n",
              "    <tr>\n",
              "      <th>315</th>\n",
              "      <td>NaN</td>\n",
              "      <td>NaN</td>\n",
              "      <td>NaN</td>\n",
              "      <td>NaN</td>\n",
              "      <td>NaN</td>\n",
              "      <td>NaN</td>\n",
              "      <td>NaN</td>\n",
              "      <td>NaN</td>\n",
              "    </tr>\n",
              "    <tr>\n",
              "      <th>316</th>\n",
              "      <td>FUENTE: CONAGUA. Servicio Meteorológico Nacion...</td>\n",
              "      <td>NaN</td>\n",
              "      <td>NaN</td>\n",
              "      <td>NaN</td>\n",
              "      <td>NaN</td>\n",
              "      <td>NaN</td>\n",
              "      <td>NaN</td>\n",
              "      <td>NaN</td>\n",
              "    </tr>\n",
              "    <tr>\n",
              "      <th>317</th>\n",
              "      <td>Sistema Nacional de Información del Agua (SINA).</td>\n",
              "      <td>NaN</td>\n",
              "      <td>NaN</td>\n",
              "      <td>NaN</td>\n",
              "      <td>NaN</td>\n",
              "      <td>NaN</td>\n",
              "      <td>NaN</td>\n",
              "      <td>NaN</td>\n",
              "    </tr>\n",
              "    <tr>\n",
              "      <th>318</th>\n",
              "      <td>NaN</td>\n",
              "      <td>NaN</td>\n",
              "      <td>NaN</td>\n",
              "      <td>NaN</td>\n",
              "      <td>NaN</td>\n",
              "      <td>NaN</td>\n",
              "      <td>NaN</td>\n",
              "      <td>NaN</td>\n",
              "    </tr>\n",
              "  </tbody>\n",
              "</table>\n",
              "<p>319 rows × 8 columns</p>\n",
              "</div>"
            ],
            "text/plain": [
              "                                                  \\nN°  ...    \\nCosta\n",
              "0                                                    1  ...   Pacífico\n",
              "1                                                  NaN  ...   Pacífico\n",
              "2                                                    2  ...   Pacífico\n",
              "3                                                    3  ...   Pacífico\n",
              "4                                                  NaN  ...   Pacífico\n",
              "..                                                 ...  ...        ...\n",
              "314                                                195  ...  Atlántico\n",
              "315                                                NaN  ...        NaN\n",
              "316  FUENTE: CONAGUA. Servicio Meteorológico Nacion...  ...        NaN\n",
              "317   Sistema Nacional de Información del Agua (SINA).  ...        NaN\n",
              "318                                                NaN  ...        NaN\n",
              "\n",
              "[319 rows x 8 columns]"
            ]
          },
          "metadata": {},
          "execution_count": 8
        }
      ]
    }
  ]
}